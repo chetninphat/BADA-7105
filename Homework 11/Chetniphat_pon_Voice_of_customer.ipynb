{
  "nbformat": 4,
  "nbformat_minor": 0,
  "metadata": {
    "colab": {
      "name": "Chetniphat_pon_Voice_of_customer.ipynb",
      "provenance": []
    },
    "kernelspec": {
      "name": "python3",
      "display_name": "Python 3"
    },
    "language_info": {
      "name": "python"
    }
  },
  "cells": [
    {
      "cell_type": "markdown",
      "metadata": {
        "id": "CTyQWhJ4at90"
      },
      "source": [
        "# **CHETNIPHAT PONGSRITHONE 6214022043**"
      ]
    },
    {
      "cell_type": "markdown",
      "metadata": {
        "id": "x7cypOs5Apc_"
      },
      "source": [
        "# **1. Load libraries and data**"
      ]
    },
    {
      "cell_type": "code",
      "metadata": {
        "colab": {
          "base_uri": "https://localhost:8080/"
        },
        "id": "jGbkDrpEBQed",
        "outputId": "4198709a-e3f8-4233-9833-77d25facd80f"
      },
      "source": [
        "!pip install --upgrade pythainlp\n",
        "!pip install pyLDAvis"
      ],
      "execution_count": 1,
      "outputs": [
        {
          "output_type": "stream",
          "text": [
            "Requirement already up-to-date: pythainlp in /usr/local/lib/python3.7/dist-packages (2.3.1)\n",
            "Requirement already satisfied, skipping upgrade: requests>=2.22.0 in /usr/local/lib/python3.7/dist-packages (from pythainlp) (2.23.0)\n",
            "Requirement already satisfied, skipping upgrade: python-crfsuite>=0.9.6 in /usr/local/lib/python3.7/dist-packages (from pythainlp) (0.9.7)\n",
            "Requirement already satisfied, skipping upgrade: tinydb>=3.0 in /usr/local/lib/python3.7/dist-packages (from pythainlp) (4.4.0)\n",
            "Requirement already satisfied, skipping upgrade: certifi>=2017.4.17 in /usr/local/lib/python3.7/dist-packages (from requests>=2.22.0->pythainlp) (2020.12.5)\n",
            "Requirement already satisfied, skipping upgrade: chardet<4,>=3.0.2 in /usr/local/lib/python3.7/dist-packages (from requests>=2.22.0->pythainlp) (3.0.4)\n",
            "Requirement already satisfied, skipping upgrade: urllib3!=1.25.0,!=1.25.1,<1.26,>=1.21.1 in /usr/local/lib/python3.7/dist-packages (from requests>=2.22.0->pythainlp) (1.24.3)\n",
            "Requirement already satisfied, skipping upgrade: idna<3,>=2.5 in /usr/local/lib/python3.7/dist-packages (from requests>=2.22.0->pythainlp) (2.10)\n",
            "Requirement already satisfied: pyLDAvis in /usr/local/lib/python3.7/dist-packages (3.3.1)\n",
            "Requirement already satisfied: scipy in /usr/local/lib/python3.7/dist-packages (from pyLDAvis) (1.4.1)\n",
            "Requirement already satisfied: future in /usr/local/lib/python3.7/dist-packages (from pyLDAvis) (0.16.0)\n",
            "Requirement already satisfied: sklearn in /usr/local/lib/python3.7/dist-packages (from pyLDAvis) (0.0)\n",
            "Requirement already satisfied: numexpr in /usr/local/lib/python3.7/dist-packages (from pyLDAvis) (2.7.3)\n",
            "Requirement already satisfied: funcy in /usr/local/lib/python3.7/dist-packages (from pyLDAvis) (1.15)\n",
            "Requirement already satisfied: pandas>=1.2.0 in /usr/local/lib/python3.7/dist-packages (from pyLDAvis) (1.2.4)\n",
            "Requirement already satisfied: scikit-learn in /usr/local/lib/python3.7/dist-packages (from pyLDAvis) (0.22.2.post1)\n",
            "Requirement already satisfied: joblib in /usr/local/lib/python3.7/dist-packages (from pyLDAvis) (1.0.1)\n",
            "Requirement already satisfied: numpy>=1.20.0 in /usr/local/lib/python3.7/dist-packages (from pyLDAvis) (1.20.2)\n",
            "Requirement already satisfied: jinja2 in /usr/local/lib/python3.7/dist-packages (from pyLDAvis) (2.11.3)\n",
            "Requirement already satisfied: gensim in /usr/local/lib/python3.7/dist-packages (from pyLDAvis) (3.6.0)\n",
            "Requirement already satisfied: setuptools in /usr/local/lib/python3.7/dist-packages (from pyLDAvis) (56.0.0)\n",
            "Requirement already satisfied: pytz>=2017.3 in /usr/local/lib/python3.7/dist-packages (from pandas>=1.2.0->pyLDAvis) (2018.9)\n",
            "Requirement already satisfied: python-dateutil>=2.7.3 in /usr/local/lib/python3.7/dist-packages (from pandas>=1.2.0->pyLDAvis) (2.8.1)\n",
            "Requirement already satisfied: MarkupSafe>=0.23 in /usr/local/lib/python3.7/dist-packages (from jinja2->pyLDAvis) (1.1.1)\n",
            "Requirement already satisfied: six>=1.5.0 in /usr/local/lib/python3.7/dist-packages (from gensim->pyLDAvis) (1.15.0)\n",
            "Requirement already satisfied: smart-open>=1.2.1 in /usr/local/lib/python3.7/dist-packages (from gensim->pyLDAvis) (5.0.0)\n"
          ],
          "name": "stdout"
        }
      ]
    },
    {
      "cell_type": "code",
      "metadata": {
        "colab": {
          "base_uri": "https://localhost:8080/"
        },
        "id": "IzU7H2eIBef9",
        "outputId": "aec720d8-f7e6-4950-f152-f5a31cce9886"
      },
      "source": [
        "import pythainlp\n",
        "import gensim\n",
        "import pyLDAvis.gensim_models\n",
        "pyLDAvis.enable_notebook()\n",
        "import warnings\n",
        "warnings.filterwarnings(\"ignore\", category=DeprecationWarning) "
      ],
      "execution_count": 2,
      "outputs": [
        {
          "output_type": "stream",
          "text": [
            "/usr/local/lib/python3.7/dist-packages/past/types/oldstr.py:5: DeprecationWarning: Using or importing the ABCs from 'collections' instead of from 'collections.abc' is deprecated since Python 3.3,and in 3.9 it will stop working\n",
            "  from collections import Iterable\n",
            "/usr/local/lib/python3.7/dist-packages/sklearn/linear_model/_least_angle.py:30: DeprecationWarning: `np.float` is a deprecated alias for the builtin `float`. To silence this warning, use `float` by itself. Doing this will not modify any behavior and is safe. If you specifically wanted the numpy scalar type, use `np.float64` here.\n",
            "Deprecated in NumPy 1.20; for more details and guidance: https://numpy.org/devdocs/release/1.20.0-notes.html#deprecations\n",
            "  method='lar', copy_X=True, eps=np.finfo(np.float).eps,\n",
            "/usr/local/lib/python3.7/dist-packages/sklearn/linear_model/_least_angle.py:169: DeprecationWarning: `np.float` is a deprecated alias for the builtin `float`. To silence this warning, use `float` by itself. Doing this will not modify any behavior and is safe. If you specifically wanted the numpy scalar type, use `np.float64` here.\n",
            "Deprecated in NumPy 1.20; for more details and guidance: https://numpy.org/devdocs/release/1.20.0-notes.html#deprecations\n",
            "  method='lar', copy_X=True, eps=np.finfo(np.float).eps,\n",
            "/usr/local/lib/python3.7/dist-packages/sklearn/linear_model/_least_angle.py:286: DeprecationWarning: `np.float` is a deprecated alias for the builtin `float`. To silence this warning, use `float` by itself. Doing this will not modify any behavior and is safe. If you specifically wanted the numpy scalar type, use `np.float64` here.\n",
            "Deprecated in NumPy 1.20; for more details and guidance: https://numpy.org/devdocs/release/1.20.0-notes.html#deprecations\n",
            "  eps=np.finfo(np.float).eps, copy_Gram=True, verbose=0,\n",
            "/usr/local/lib/python3.7/dist-packages/sklearn/linear_model/_least_angle.py:858: DeprecationWarning: `np.float` is a deprecated alias for the builtin `float`. To silence this warning, use `float` by itself. Doing this will not modify any behavior and is safe. If you specifically wanted the numpy scalar type, use `np.float64` here.\n",
            "Deprecated in NumPy 1.20; for more details and guidance: https://numpy.org/devdocs/release/1.20.0-notes.html#deprecations\n",
            "  eps=np.finfo(np.float).eps, copy_X=True, fit_path=True):\n",
            "/usr/local/lib/python3.7/dist-packages/sklearn/linear_model/_least_angle.py:1094: DeprecationWarning: `np.float` is a deprecated alias for the builtin `float`. To silence this warning, use `float` by itself. Doing this will not modify any behavior and is safe. If you specifically wanted the numpy scalar type, use `np.float64` here.\n",
            "Deprecated in NumPy 1.20; for more details and guidance: https://numpy.org/devdocs/release/1.20.0-notes.html#deprecations\n",
            "  eps=np.finfo(np.float).eps, copy_X=True, fit_path=True,\n",
            "/usr/local/lib/python3.7/dist-packages/sklearn/linear_model/_least_angle.py:1120: DeprecationWarning: `np.float` is a deprecated alias for the builtin `float`. To silence this warning, use `float` by itself. Doing this will not modify any behavior and is safe. If you specifically wanted the numpy scalar type, use `np.float64` here.\n",
            "Deprecated in NumPy 1.20; for more details and guidance: https://numpy.org/devdocs/release/1.20.0-notes.html#deprecations\n",
            "  eps=np.finfo(np.float).eps, positive=False):\n",
            "/usr/local/lib/python3.7/dist-packages/sklearn/linear_model/_least_angle.py:1349: DeprecationWarning: `np.float` is a deprecated alias for the builtin `float`. To silence this warning, use `float` by itself. Doing this will not modify any behavior and is safe. If you specifically wanted the numpy scalar type, use `np.float64` here.\n",
            "Deprecated in NumPy 1.20; for more details and guidance: https://numpy.org/devdocs/release/1.20.0-notes.html#deprecations\n",
            "  max_n_alphas=1000, n_jobs=None, eps=np.finfo(np.float).eps,\n",
            "/usr/local/lib/python3.7/dist-packages/sklearn/linear_model/_least_angle.py:1590: DeprecationWarning: `np.float` is a deprecated alias for the builtin `float`. To silence this warning, use `float` by itself. Doing this will not modify any behavior and is safe. If you specifically wanted the numpy scalar type, use `np.float64` here.\n",
            "Deprecated in NumPy 1.20; for more details and guidance: https://numpy.org/devdocs/release/1.20.0-notes.html#deprecations\n",
            "  max_n_alphas=1000, n_jobs=None, eps=np.finfo(np.float).eps,\n",
            "/usr/local/lib/python3.7/dist-packages/sklearn/linear_model/_least_angle.py:1723: DeprecationWarning: `np.float` is a deprecated alias for the builtin `float`. To silence this warning, use `float` by itself. Doing this will not modify any behavior and is safe. If you specifically wanted the numpy scalar type, use `np.float64` here.\n",
            "Deprecated in NumPy 1.20; for more details and guidance: https://numpy.org/devdocs/release/1.20.0-notes.html#deprecations\n",
            "  eps=np.finfo(np.float).eps, copy_X=True, positive=False):\n",
            "/usr/local/lib/python3.7/dist-packages/sklearn/decomposition/_lda.py:29: DeprecationWarning: `np.float` is a deprecated alias for the builtin `float`. To silence this warning, use `float` by itself. Doing this will not modify any behavior and is safe. If you specifically wanted the numpy scalar type, use `np.float64` here.\n",
            "Deprecated in NumPy 1.20; for more details and guidance: https://numpy.org/devdocs/release/1.20.0-notes.html#deprecations\n",
            "  EPS = np.finfo(np.float).eps\n"
          ],
          "name": "stderr"
        }
      ]
    },
    {
      "cell_type": "markdown",
      "metadata": {
        "id": "j3lywYm7Aukp"
      },
      "source": [
        "# **2. Download file**"
      ]
    },
    {
      "cell_type": "code",
      "metadata": {
        "colab": {
          "base_uri": "https://localhost:8080/",
          "height": 391
        },
        "id": "pMvHJ0dDBcDU",
        "outputId": "055ee050-8785-4fa6-c1ac-52948ad96c60"
      },
      "source": [
        "import pandas as pd\n",
        "df = pd.read_csv('Wongnai Reviews - Small.csv')\n",
        "df"
      ],
      "execution_count": 3,
      "outputs": [
        {
          "output_type": "execute_result",
          "data": {
            "text/html": [
              "<div>\n",
              "<style scoped>\n",
              "    .dataframe tbody tr th:only-of-type {\n",
              "        vertical-align: middle;\n",
              "    }\n",
              "\n",
              "    .dataframe tbody tr th {\n",
              "        vertical-align: top;\n",
              "    }\n",
              "\n",
              "    .dataframe thead th {\n",
              "        text-align: right;\n",
              "    }\n",
              "</style>\n",
              "<table border=\"1\" class=\"dataframe\">\n",
              "  <thead>\n",
              "    <tr style=\"text-align: right;\">\n",
              "      <th></th>\n",
              "      <th>Review ID</th>\n",
              "      <th>Review</th>\n",
              "    </tr>\n",
              "  </thead>\n",
              "  <tbody>\n",
              "    <tr>\n",
              "      <th>0</th>\n",
              "      <td>1</td>\n",
              "      <td>เป็นคนที่ชอบทาน Macchiato เป็นประจำ มีวันนึงเด...</td>\n",
              "    </tr>\n",
              "    <tr>\n",
              "      <th>1</th>\n",
              "      <td>2</td>\n",
              "      <td>Art of Coffee Kasetsart เป็นร้านกาแฟรสชาติเยี่...</td>\n",
              "    </tr>\n",
              "    <tr>\n",
              "      <th>2</th>\n",
              "      <td>3</td>\n",
              "      <td>กวงทะเลเผา อาหารทะเลเค้าสดจริงๆเนื้อปูหวานไม่ค...</td>\n",
              "    </tr>\n",
              "    <tr>\n",
              "      <th>3</th>\n",
              "      <td>4</td>\n",
              "      <td>วันนี้มีโอกาสตื่นเช้าครับเลยถึงโอกาสออกมาหาอะไ...</td>\n",
              "    </tr>\n",
              "    <tr>\n",
              "      <th>4</th>\n",
              "      <td>5</td>\n",
              "      <td>ชอบมาทานร้านนี้ถ้าอยากกินอาหารเวียดนามใกล้บ้าน...</td>\n",
              "    </tr>\n",
              "    <tr>\n",
              "      <th>...</th>\n",
              "      <td>...</td>\n",
              "      <td>...</td>\n",
              "    </tr>\n",
              "    <tr>\n",
              "      <th>295</th>\n",
              "      <td>296</td>\n",
              "      <td>ค่ำนี้คุณเพื่อนอยากส้มตำ หมูเฮาเลยพากันลงมากิน...</td>\n",
              "    </tr>\n",
              "    <tr>\n",
              "      <th>296</th>\n",
              "      <td>297</td>\n",
              "      <td>ร้านสะอาดดี ตกแต่งสวยงาม มีที่จอดรถ ราคาเมนูต่...</td>\n",
              "    </tr>\n",
              "    <tr>\n",
              "      <th>297</th>\n",
              "      <td>298</td>\n",
              "      <td>เช้าๆ รีบๆ วิ่งมาเข่าห้องเรียนแทบไม่ทันแต่ต้อง...</td>\n",
              "    </tr>\n",
              "    <tr>\n",
              "      <th>298</th>\n",
              "      <td>299</td>\n",
              "      <td>ร้านนี้เป็นร้านกาแฟเล็กๆ ข้างๆ ร้านๆ Happy Man...</td>\n",
              "    </tr>\n",
              "    <tr>\n",
              "      <th>299</th>\n",
              "      <td>300</td>\n",
              "      <td>ทรูคอฟฟี่สาขาซีคอนอยู่ในศูนย์บริการของทรู ชั้น...</td>\n",
              "    </tr>\n",
              "  </tbody>\n",
              "</table>\n",
              "<p>300 rows × 2 columns</p>\n",
              "</div>"
            ],
            "text/plain": [
              "     Review ID                                             Review\n",
              "0            1  เป็นคนที่ชอบทาน Macchiato เป็นประจำ มีวันนึงเด...\n",
              "1            2  Art of Coffee Kasetsart เป็นร้านกาแฟรสชาติเยี่...\n",
              "2            3  กวงทะเลเผา อาหารทะเลเค้าสดจริงๆเนื้อปูหวานไม่ค...\n",
              "3            4  วันนี้มีโอกาสตื่นเช้าครับเลยถึงโอกาสออกมาหาอะไ...\n",
              "4            5  ชอบมาทานร้านนี้ถ้าอยากกินอาหารเวียดนามใกล้บ้าน...\n",
              "..         ...                                                ...\n",
              "295        296  ค่ำนี้คุณเพื่อนอยากส้มตำ หมูเฮาเลยพากันลงมากิน...\n",
              "296        297  ร้านสะอาดดี ตกแต่งสวยงาม มีที่จอดรถ ราคาเมนูต่...\n",
              "297        298  เช้าๆ รีบๆ วิ่งมาเข่าห้องเรียนแทบไม่ทันแต่ต้อง...\n",
              "298        299  ร้านนี้เป็นร้านกาแฟเล็กๆ ข้างๆ ร้านๆ Happy Man...\n",
              "299        300  ทรูคอฟฟี่สาขาซีคอนอยู่ในศูนย์บริการของทรู ชั้น...\n",
              "\n",
              "[300 rows x 2 columns]"
            ]
          },
          "metadata": {
            "tags": []
          },
          "execution_count": 3
        }
      ]
    },
    {
      "cell_type": "markdown",
      "metadata": {
        "id": "DsYkVEgVAziz"
      },
      "source": [
        "# **3. Tokenize Words**"
      ]
    },
    {
      "cell_type": "code",
      "metadata": {
        "id": "rRaxP748DU75"
      },
      "source": [
        "stopwords = list(pythainlp.corpus.thai_stopwords())\n",
        "removed_words = [' ', '  ', '\\n', 'ร้าน', '(', ')' , '           ','-']\n",
        "screening_words = stopwords + removed_words\n",
        "\n",
        "def tokenize_with_space(sentence):\n",
        "  merged = ''\n",
        "  words = pythainlp.word_tokenize(str(sentence), engine='newmm')\n",
        "  for word in words:\n",
        "    if word not in screening_words:\n",
        "      merged = merged + ',' + word\n",
        "  return merged[1:]"
      ],
      "execution_count": 4,
      "outputs": []
    },
    {
      "cell_type": "code",
      "metadata": {
        "id": "kufy9yFsDYUK"
      },
      "source": [
        "df['Review_tokenized'] = df['Review'].apply(lambda x: tokenize_with_space(x))"
      ],
      "execution_count": 5,
      "outputs": []
    },
    {
      "cell_type": "code",
      "metadata": {
        "colab": {
          "base_uri": "https://localhost:8080/",
          "height": 391
        },
        "id": "Oc2-c_0iDZ86",
        "outputId": "1efe2c09-ba24-468e-addd-45d613030db7"
      },
      "source": [
        "df"
      ],
      "execution_count": 6,
      "outputs": [
        {
          "output_type": "execute_result",
          "data": {
            "text/html": [
              "<div>\n",
              "<style scoped>\n",
              "    .dataframe tbody tr th:only-of-type {\n",
              "        vertical-align: middle;\n",
              "    }\n",
              "\n",
              "    .dataframe tbody tr th {\n",
              "        vertical-align: top;\n",
              "    }\n",
              "\n",
              "    .dataframe thead th {\n",
              "        text-align: right;\n",
              "    }\n",
              "</style>\n",
              "<table border=\"1\" class=\"dataframe\">\n",
              "  <thead>\n",
              "    <tr style=\"text-align: right;\">\n",
              "      <th></th>\n",
              "      <th>Review ID</th>\n",
              "      <th>Review</th>\n",
              "      <th>Review_tokenized</th>\n",
              "    </tr>\n",
              "  </thead>\n",
              "  <tbody>\n",
              "    <tr>\n",
              "      <th>0</th>\n",
              "      <td>1</td>\n",
              "      <td>เป็นคนที่ชอบทาน Macchiato เป็นประจำ มีวันนึงเด...</td>\n",
              "      <td>คน,ชอบ,ทาน,Macchiato,เป็นประจำ,นึง,เดิน,เข้าไป...</td>\n",
              "    </tr>\n",
              "    <tr>\n",
              "      <th>1</th>\n",
              "      <td>2</td>\n",
              "      <td>Art of Coffee Kasetsart เป็นร้านกาแฟรสชาติเยี่...</td>\n",
              "      <td>Art,of,Coffee,Kasetsart,ร้านกาแฟ,รสชาติ,เยี่ยม...</td>\n",
              "    </tr>\n",
              "    <tr>\n",
              "      <th>2</th>\n",
              "      <td>3</td>\n",
              "      <td>กวงทะเลเผา อาหารทะเลเค้าสดจริงๆเนื้อปูหวานไม่ค...</td>\n",
              "      <td>กวง,ทะเล,เผา,อาหารทะเล,เค้า,สด,เนื้อ,ปู,หวาน,ค...</td>\n",
              "    </tr>\n",
              "    <tr>\n",
              "      <th>3</th>\n",
              "      <td>4</td>\n",
              "      <td>วันนี้มีโอกาสตื่นเช้าครับเลยถึงโอกาสออกมาหาอะไ...</td>\n",
              "      <td>มีโอกาส,ตื่น,เช้า,โอกาส,มาหา,อร่อย,ทาน,ตอนเช้า...</td>\n",
              "    </tr>\n",
              "    <tr>\n",
              "      <th>4</th>\n",
              "      <td>5</td>\n",
              "      <td>ชอบมาทานร้านนี้ถ้าอยากกินอาหารเวียดนามใกล้บ้าน...</td>\n",
              "      <td>ชอบ,ทาน,กิน,อาหาร,เวียดนาม,บ้าน,ซอย,ราชครู,เข้...</td>\n",
              "    </tr>\n",
              "    <tr>\n",
              "      <th>...</th>\n",
              "      <td>...</td>\n",
              "      <td>...</td>\n",
              "      <td>...</td>\n",
              "    </tr>\n",
              "    <tr>\n",
              "      <th>295</th>\n",
              "      <td>296</td>\n",
              "      <td>ค่ำนี้คุณเพื่อนอยากส้มตำ หมูเฮาเลยพากันลงมากิน...</td>\n",
              "      <td>ค่ำ,เพื่อน,ส้มตำ,หมู,เฮา,ลงมา,กิน,ส้มตำ,ออฟฟิศ...</td>\n",
              "    </tr>\n",
              "    <tr>\n",
              "      <th>296</th>\n",
              "      <td>297</td>\n",
              "      <td>ร้านสะอาดดี ตกแต่งสวยงาม มีที่จอดรถ ราคาเมนูต่...</td>\n",
              "      <td>สะอาด,ดี,ตกแต่ง,สวยงาม,ที่จอดรถ,ราคา,เมนู,เทีย...</td>\n",
              "    </tr>\n",
              "    <tr>\n",
              "      <th>297</th>\n",
              "      <td>298</td>\n",
              "      <td>เช้าๆ รีบๆ วิ่งมาเข่าห้องเรียนแทบไม่ทันแต่ต้อง...</td>\n",
              "      <td>เช้า,รีบ,วิ่ง,เข่า,ห้องเรียน,แทบ,ต้องหา,ของกิน...</td>\n",
              "    </tr>\n",
              "    <tr>\n",
              "      <th>298</th>\n",
              "      <td>299</td>\n",
              "      <td>ร้านนี้เป็นร้านกาแฟเล็กๆ ข้างๆ ร้านๆ Happy Man...</td>\n",
              "      <td>ร้านกาแฟ,Happy,Mango,อาทิตย์,นัด,เพื่อน,นั่ง,ค...</td>\n",
              "    </tr>\n",
              "    <tr>\n",
              "      <th>299</th>\n",
              "      <td>300</td>\n",
              "      <td>ทรูคอฟฟี่สาขาซีคอนอยู่ในศูนย์บริการของทรู ชั้น...</td>\n",
              "      <td>ทรู,คอ,ฟ,ฟี่,สาขา,ซีคอน,ศูนย์,บริการ,ทรู,ชั้น,...</td>\n",
              "    </tr>\n",
              "  </tbody>\n",
              "</table>\n",
              "<p>300 rows × 3 columns</p>\n",
              "</div>"
            ],
            "text/plain": [
              "     Review ID  ...                                   Review_tokenized\n",
              "0            1  ...  คน,ชอบ,ทาน,Macchiato,เป็นประจำ,นึง,เดิน,เข้าไป...\n",
              "1            2  ...  Art,of,Coffee,Kasetsart,ร้านกาแฟ,รสชาติ,เยี่ยม...\n",
              "2            3  ...  กวง,ทะเล,เผา,อาหารทะเล,เค้า,สด,เนื้อ,ปู,หวาน,ค...\n",
              "3            4  ...  มีโอกาส,ตื่น,เช้า,โอกาส,มาหา,อร่อย,ทาน,ตอนเช้า...\n",
              "4            5  ...  ชอบ,ทาน,กิน,อาหาร,เวียดนาม,บ้าน,ซอย,ราชครู,เข้...\n",
              "..         ...  ...                                                ...\n",
              "295        296  ...  ค่ำ,เพื่อน,ส้มตำ,หมู,เฮา,ลงมา,กิน,ส้มตำ,ออฟฟิศ...\n",
              "296        297  ...  สะอาด,ดี,ตกแต่ง,สวยงาม,ที่จอดรถ,ราคา,เมนู,เทีย...\n",
              "297        298  ...  เช้า,รีบ,วิ่ง,เข่า,ห้องเรียน,แทบ,ต้องหา,ของกิน...\n",
              "298        299  ...  ร้านกาแฟ,Happy,Mango,อาทิตย์,นัด,เพื่อน,นั่ง,ค...\n",
              "299        300  ...  ทรู,คอ,ฟ,ฟี่,สาขา,ซีคอน,ศูนย์,บริการ,ทรู,ชั้น,...\n",
              "\n",
              "[300 rows x 3 columns]"
            ]
          },
          "metadata": {
            "tags": []
          },
          "execution_count": 6
        }
      ]
    },
    {
      "cell_type": "markdown",
      "metadata": {
        "id": "-6NywrxQA55W"
      },
      "source": [
        "# **4. Create Dictionary**"
      ]
    },
    {
      "cell_type": "code",
      "metadata": {
        "id": "_6Ra8gJ_DgZF"
      },
      "source": [
        "documents = df['Review_tokenized'].to_list()\n",
        "texts = [[text for text in doc.split(',')] for doc in documents]\n",
        "dictionary = gensim.corpora.Dictionary(texts)"
      ],
      "execution_count": 7,
      "outputs": []
    },
    {
      "cell_type": "code",
      "metadata": {
        "colab": {
          "base_uri": "https://localhost:8080/"
        },
        "id": "WNY-o_UqDhfO",
        "outputId": "08b04d4a-fbc5-4c8c-b2d1-1df2ea93aebf"
      },
      "source": [
        "print(dictionary.token2id.keys())"
      ],
      "execution_count": 8,
      "outputs": [
        {
          "output_type": "stream",
          "text": [
            "dict_keys(['20', 'Macchiato', 'กาแฟ', 'กาแฟร้อน', 'กิน', 'คน', 'ครึ่ง', 'ความคิด', 'ชอบ', 'ดื่ม', 'ตอน', 'ทาน', 'นึง', 'บาท', 'ปริมาณ', 'มีความสุข', 'ลา', 'สั่ง', 'หนัก', 'หลังจากนี้', 'เข้าไป', 'เจอ', 'เดิน', 'เดิม', 'เป็นประจำ', 'เฟล', 'แก้ว', 'โบราณ', 'Art', 'Coffee', 'Kasetsart', '^^', 'of', 'คาราเมล', 'คิ', 'ชา', 'ซ', 'ซี', 'ดี', 'นั่ง', 'น่ารัก', 'บรรยากาศ', 'พนักงาน', 'พูดจา', 'มัค', 'รสชาติ', 'ราคา', 'ร้านกาแฟ', 'ลอน', 'ลาเต้', 'ลูกค้า', 'อัธยาศัย', 'อัสสัม', 'อา', 'อิตาเลียน', 'อุดหนุน', 'เพรส', 'เมนู', 'เยี่ยม', 'เอ๊กซ์', 'แพง', 'โซดา', 'โซ่', 'โต้', 'ไอ', 'ไอซ์', '555', 'กก', 'กรอบ', 'กระ', 'กระทะ', 'กร๊อบ', 'กลิ่น', 'กวง', 'กะ', 'กินน้ำ', 'กุ้ง', 'ก้น', 'ข้าวผัด', 'ข้าวเหนียว', 'ความสนใจ', 'คอ', 'คาว', 'งั้น', 'งี้', 'จริ๊ง', 'จัดจ้าน', 'จาน', 'จี๊ดจ๊าด', 'จ้น', 'จ้ิม', 'จ๊อบ', 'ฉ่า', 'ชิม', 'ชุ่มคอ', 'ดาว', 'ตบท้าย', 'ตัก', 'ถูกใจ', 'ทอด', 'ทะเล', 'ทีหลัง', 'นานา', 'นุ่ม', 'น้ำ', 'น้ำปลา', 'บรรยาย', 'ปลา', 'ปลาหมึก', 'ปาก', 'ปู', 'ปูม้า', 'ผสม', 'ผัด', 'พง', 'พริก', 'พลาด', 'พูดถึง', 'พูดว่า', 'ม', 'มะม่วง', 'ม้น', 'ยำ', 'ยี่ห้อ', 'รวมมิตร', 'รส', 'รายการ', 'ริ์ฟ', 'รู้', 'ร้อน', 'ลาย', 'ล่ะ', 'วจะ', 'วุ้นเส้น', 'สด', 'สลัด', 'สะอาด', 'สักหน่อย', 'สาม', 'สี่', 'ส้มตำ', 'หมูสามชั้น', 'หม้อ', 'หยุด', 'หลัก', 'หลากหลาย', 'หวาน', 'หอม', 'หอย', 'หันมา', 'หาย', 'หือ', 'ห้าม', 'อบ', 'อยากรู้', 'อร', 'อร่อย', 'อล', 'ออ', 'อาหาร', 'อาหารจีน', 'อาหารทะเล', 'อิ่ม', 'อ่ะ', 'ฮื้อ', 'เกลี้ยง', 'เข้มข้น', 'เข้าเนื้อ', 'เครื่อง', 'เครื่องเทศ', 'เค้า', 'เจ้', 'เด็ดขาด', 'เต', 'เนื้อ', 'เผา', 'เผ็ด', 'เพื่อน', 'เยิ่ม', 'เลท', 'เลี่ยน', 'เส', 'เสียงดัง', 'เหนียว', 'เหมือน', 'แก้', 'แข่ง', 'แข่งขัน', 'แค', 'แจ่ม', 'แซ่บ', 'แต้', 'แนะนำ', 'แล้', 'โป๊ะแตก', 'ใช้ได้', 'ใส่', 'ไข่เค็ม', 'ได้ดี', 'ไทยดำ', 'ไหว', 'ๆพอ', 'ๆๆ', '8', 'กค', 'ก๋วยจั๊บ', 'ขนมปังฝรั่งเศส', 'ขาย', 'ข่าว', 'ข้น', 'ตอนเช้า', 'ตัวเลือก', 'ตื่น', 'ต่อให้', 'ถุง', 'นั้นแหละ', 'นํ้า', 'ปล.', 'ปากซอย', 'มาจาก', 'มาสาย', 'มาหา', 'มีชื่อ', 'มีโอกาส', 'มุง', 'ยา', 'รับหน้า', 'ลด', 'วันที่', 'สํา', 'หนัง', 'หน้า', 'หรับ', 'หาไม่', 'อั้น', 'อุ่น', 'อ่าน', 'เข้ามา', 'เจ๊', 'เช้า', 'เต้าหู้', 'แนะ', 'แบบนี้', 'โจ๊ก', 'โดยเฉพาะ', 'โต๊ะ', 'โมง', 'โอกาส', 'กด', 'ข้างน้อย', 'คุณภาพ', 'จอด', 'ชง', 'ซอย', 'ซ้ายมือ', 'ตกแต่ง', 'ถ้วย', 'ทรวดทรง', 'ทั่วไป', 'ที่จอดรถ', 'ที่นี่', 'นิดเดียว', 'น้ำจิ้ม', 'น้ำผลไม้', 'บ้าน', 'ปั่น', 'ผอมบาง', 'ผัก', 'ผิดหวัง', 'ราชครู', 'รูป', 'ร้านค้า', 'ร้านอาหาร', 'สะใจ', 'สั้ง', 'สำเร็จ', 'หญิงสาว', 'หยด', 'หลายหลาก', 'อวด', 'เกินไป', 'เวิ้ง', 'เวียดนาม', 'เหมาะสม', 'แชร์', 'แต่งตัว', 'แทน', 'ให้น้ำ', '*', 'กรุงเทพ', 'กาแฟเย็น', 'จรัญ', 'ชื่นใจ', 'ด้าย', 'ติด', 'ต้นไม้', 'ถนน', 'ปิ่น', 'ฝั่ง', 'พุธ', 'ยันฮี', 'รพ.', 'รอ', 'รั้ว', 'ร่มรื่น', 'วิ่ง', 'สวน', 'สะดุดตา', 'สัง', 'สีแดง', 'หมู', 'เกตุ', 'เกล้า', 'เด็ม', 'แบงค์', 'แม่ครัว', '!!!', '\"', '.', '..', '...', '....', '/', '2', '229', '3', '31', '4', '458', '5', '56', '://', '???', 'Captain', 'CaptainTonEatTravel', 'En', 'FENIX', 'Google', 'Hawaiian', 'LE', 'Maps', 'Net', 'PR', 'Signature', 'Ton', 'Wongnai', 'com', 'facebook', 'https', 'www', 'ก.', 'กระไร', 'กลมกล่อม', 'กลับมา', 'กลางวัน', 'กลิ่นหอม', 'กอ', 'กันที่', 'กำลังดี', 'กิ', 'กินข้าว', 'กี่', 'ก็แล้วกัน', 'ก๋วยเตี๋ยว', 'ขนมปัง', 'ขนมปังหน้าหมู', 'ขนมไทย', 'ขนาด', 'ของหวาน', 'ขออภัย', 'ข้าวสวย', 'ค', 'ครัว', 'ครั้งหน้า', 'ครีม', 'คลา', 'ความประทับใจ', 'คัส', 'คำแนะนำ', 'คุ้นเคย', 'คุ้ม', 'ค่าน้ำ', 'จอง', 'จองที่', 'จะแจ่ม', 'จิ๋ว', 'จีน', 'จืด', 'จ๊าก', 'ชน', 'ชม', 'ชั้น', 'ชั้นเยี่ยม', 'ชิน', 'ชิล', 'ชิ้น', 'ชิ้นๆ', 'ชี', 'ชีส', 'ชุบ', 'ชุ่มฉ่ำ', 'ซอส', 'ซอสมะเขือเทศ', 'ซิ', 'ซิก', 'ซุป', 'ซูชิ', 'ดด้า', 'ดอน', 'ดีกว่า', 'ดู', 'ด้วยซ้ำ', 'ด้านนอก', 'ด้านใน', 'ด๊ะ', 'ต.ค.', 'ตกลง', 'ตรงกลาง', 'ตอนนี้', 'ตอนแรก', 'ตอบ', 'ตัด', 'ตา', 'ตามมา', 'ตามใจ', 'ติดตาม', 'ถังน้ำแข็ง', 'ถาม', 'ถ่อ', 'ถ่าย', 'ถ่ายรูป', 'ทอก', 'ทาร์', 'ทำเป็น', 'ทุกท่าน', 'ท๊อป', 'ธรรมดา', 'นม', 'นา', 'นิ', 'นิดนึง', 'นึก', 'นู', 'น้อง', 'น้องๆ', 'น้ำดื่ม', 'น้ำตาล', 'น้ำนอง', 'น้ำสลัด', 'น้ำแข็ง', 'บริการ', 'บลู', 'บอ', 'บาร์', 'บิล', 'บุฟเฟต์', 'ป', 'ปรุง', 'ปรุงรส', 'ปลื้ม', 'ปิ้ง', 'ปุ๊', 'ผม', 'ผลไม้', 'ผักสด', 'ผักโขม', 'ผู้ช่วย', 'ฝรั่ง', 'ฝาก', 'พัก', 'พาต', 'พี่', 'ฟ', 'มก', 'มร', 'มะนาว', 'มะม่วงหิมพานต์', 'มะเขือเทศ', 'มาถึง', 'มายองเนส', 'มาร', 'มิยา', 'มีรส', 'มื้อ', 'มุม', 'ม่อน', 'ม๊าก', 'ยัน', 'ยาม', 'ยุ่ง', 'รถ', 'รถไฟฟ้า', 'รสเค็ม', 'รสเปรี้ยว', 'ระวัง', 'รัก', 'รา', 'รามอินทรา', 'ริ', 'รี', 'รีวิว', 'รี่', 'ร้อง', 'ร์', 'ร์ต', 'ลงตัว', 'ลงมติ', 'ลวก', 'ลอง', 'ลอดช่อง', 'ละลาย', 'ลาบ', 'ลิฟต์', 'ลิ่ม', 'ลิ้น', 'ลี่', 'ลุย', 'วน', 'วอ', 'วิน', 'ศก', 'ส', 'สต', 'สถานี', 'สปา', 'สม', 'สมราคา', 'สมัน', 'สมาชิก', 'สร', 'สวัสดี', 'สส', 'สะ', 'สะดวก', 'สะดุ้ง', 'สับปะรด', 'สำรวจ', 'สำหรับ', 'สิ', 'สี', 'สีสัน', 'สุ', 'สุขุมวิท', 'สูตร', 'สเบอ', 'สไตล์', 'ส่วนตัว', 'หน้าต่าง', 'หมัก', 'หมูสับ', 'หอ', 'หัวหอม', 'หา', 'หิม', 'ห้องอาหาร', 'อย่า', 'ออกมา', 'ออกเดินทาง', 'ออเดิร์ฟ', 'อัด', 'อาหารกลางวัน', 'อีกที', 'อีกหน่อย', 'อีกแล้ว', 'อืม', 'อ้าว', 'อ๋อ', 'ู', 'เกรงใจ', 'เก็ตตี้', 'เขียว', 'เข้ากัน', 'เข้ากับ', 'เครดิต', 'เครป', 'เค็ม', 'เค้ก', 'เชฟ', 'เชิญ', 'เชียว', 'เซ', 'เดินลง', 'เดี๋ยว', 'เด็ก', 'เด็กเสิร์ฟ', 'เด้ง', 'เตรียม', 'เติม', 'เท', 'เทศกาล', 'เน', 'เนย', 'เนอะ', 'เบอ', 'เบอร์เกอร์', 'เบา', 'เปรี้ยว', 'เปรี้ยวหวาน', 'เปล่า', 'เป็บ', 'เม', 'เมน', 'เมื่อกี้', 'เมื่อย', 'เม็กซิกัน', 'เม็ด', 'เม๊ก', 'เย็น', 'เรียง', 'เรื่อง', 'เลือก', 'เล่น', 'เสียเงิน', 'เส้น', 'เหม็น', 'เหล้า', 'เห็ด', 'เอาเป็นว่า', 'แครอท', 'แตกตื่น', 'แทบ', 'แน่น', 'แปลก', 'แป้ง', 'แล้วก็', 'แสง', 'แอปเปิ้ล', 'แฮม', 'โค', 'โดยรวม', 'โน', 'โร', 'โรงแรม', 'โอ', 'ใจดี', 'ใบ', 'ใส', 'ให้คะแนน', 'ให้บริการ', 'ไก่', 'ไข่', 'ได้ความ', 'ได้มาตรฐาน', 'ได้ยิน', 'ไทย', 'ไปมา', 'ไปเที่ยว', 'ไม่ต้อง', 'ไลน์', 'ไล่', 'ไวท์', 'ไส้', 'ไส้กรอก', 'ไหนล่ะ', 'ไอศกรีม', '์', '1', '10', '150', '6', '75', '9', ':', '<', '>', 'Americano', 'Central', 'Starbucks', 'blend', 'ของนอก', 'ขายของ', 'ข้อสรุป', 'คนเรา', 'ความคุ้มค่า', 'ความเห็น', 'ความเห็นส่วนตัว', 'คะแนน', 'คุ้น', 'คู่แข่ง', 'ค้าง', 'ชนะ', 'ชัดเจน', 'ฑ์', 'ด', 'ดีแล้ว', 'ด้านหน้า', 'ทำ', 'ที่อื่น', 'น่าจะเป็น', 'บริเวณ', 'มมาก', 'ระยะเวลา', 'วิจารณ์', 'ส่วนหนึ่ง', 'หมายเหตุ', 'หัวข้อ', 'ห้าง', 'อาน', 'อี', 'อ่อน', 'เกน', 'เก้า', 'เข้', 'เข้ม', 'เฉลี่ย', 'เชียงราย', 'เดี๋ยวนี้', 'เด็ด', 'เทียบ', 'เป็นพิเศษ', 'เย็นสบาย', 'เรียบร้อย', 'เหมืิอน', 'เอาใจช่วย', 'แอร์', 'โทน', 'โปรด', 'ให้อภัย', '64', 'กลาง', 'กลางๆ', 'คร่า', 'คอมพิวเตอร์', 'ชื่อว่า', 'ตรงไหน', 'ติดกับ', 'ถอด', 'ถึงที่', 'ทะลุ', 'ที่จะ', 'น', 'นะคะ', 'ปตท', 'ปั้ม', 'ลาดพร้าว', 'ล้าง', 'ล้างรถ', 'วิ', 'สะพาน', 'สาร', 'สุทธิ', 'ห้อง', 'อ', 'เก', 'เท้า', 'แซ', 'แม่บ้าน', 'โอเพ่น', 'ไช', 'กระดูกอ่อน', 'งา', 'จ๊ะจ๋า', 'ซื้อ', 'ตลาด', 'ตัดออก', 'ต้ม', 'ทั่วๆ', 'ทา', 'นที', 'น้ำตก', 'น้ำตาไหล', 'บ่งบอกถึง', 'พิม', 'มน', 'ย่าง', 'รู้สึก', 'สังกะสี', 'สำลัก', 'หนอง', 'หวง', 'อีสาน', 'ฮ่า', 'า', 'เก่ง', 'เผ็ดร้อน', 'เลี่ยง', 'ไก่ย่าง', '**', '38', 'ข้อเสีย', 'คนอื่น', 'ที่ตั้ง', 'ที่นั่ง', 'รู้จัก', 'สถาน', 'โอเค', 'ไว', '100', 'Apple', 'Blueberrt', 'Brownie', 'Cheesecake', 'Crumble', 'Mocha', 'Pie', 'cake', 'ขึ้นไป', 'คิดเงิน', 'จิบ', 'ชิ', 'ด้านล่าง', 'ตรงข้าม', 'ตู้', 'ท', 'ทอง', 'ทั้งน้าน', 'ทำงาน', 'ทุนทรัพย์', 'ท์', 'บ', 'ประกอบด้วย', 'พนักงานต้อนรับ', 'พอใช้ได้', 'พัฒนาการ', 'มดี', 'ยังมี', 'ร่วน', 'ละเอียด', 'ว', 'ว่าง', 'สะอาดสะอ้าน', 'สาขา', 'หม่ำ', 'หล่อ', 'หัวมุม', 'เครื่องดื่ม', 'เนียน', 'เพี้ย', 'เมเจอร์', 'เรียงราย', 'เว่อร์', 'เอกมัย', 'แช่', 'แตก', 'แถม', 'แม่เจ้า', 'โปรโมชั่น', 'โลตัส', 'โอ้', '101', '35', '55', 'Happy', 'a', 'avenue', 'cup', 'little', 'กีวี', 'ขนม', 'จ', 'ซ่า', 'ต์', 'นมสด', 'บูล', 'สตอ', 'สอดไส้', 'ฮาวาย', 'เบ', 'เบอร์', 'เบเกอรี่', 'เยื้อง', 'แต่ง', 'โฮมเมด', 'ไส', '30', '40', '50', '57', 'กย', 'กระเพาะ', 'ของคาว', 'คนใช้', 'งาน', 'ง๊าย', 'จบ', 'จ่าย', 'ดังนั้น', 'ตึก', 'ต้องการ', 'ต้องตาม', 'ทรู', 'ท้อป', 'น้ำหวาน', 'บลาๆๆ', 'พลัง', 'พลังงาน', 'พวกเรา', 'พื้นที่', 'พุดดิ้ง', 'รีบ', 'วัยรุ่น', 'สถานที่', 'สมูตตี้', 'สยาม', 'สัญชาติ', 'หมดเขต', 'หลังอาหาร', 'อยู่แล้ว', 'อัพ', 'อิฉัน', 'เครือข่าย', 'เจ้า', 'เจ้านาย', 'เฉาก๊วย', 'เต็ม', 'เยลลี่', 'เร', 'เรียน', 'เวลา', 'เอ็ม', 'แนว', 'แม๊กซ์', 'แยกส่วน', 'ไข่มุก', 'ไซท์', 'ไต้หวัน', 'ไพร', 'ไหม', 'ไอศครีม', 'กระติ๊บ', 'กร้าน', 'กลิ้ง', 'กินกัน', 'กุ้งแห้ง', 'ก้าง', 'ขวด', 'ข้างทาง', 'คริสตจักร', 'คลุ้มคลั่ง', 'จิ้ม', 'จุ่ม', 'ช้าง', 'ซั่ว', 'ตรงหน้า', 'ตอนเย็น', 'ตับ', 'ตัว', 'ต่อไป', 'ถัง', 'ถัดมา', 'ทางเลือก', 'ทุ', 'นิล', 'บดี', 'ปลาร้า', 'ผ้า', 'พิกัด', 'ฟุตบาท', 'มะละกอ', 'ย้อน', 'รถเข็น', 'ราง', 'ราช', 'ริม', 'ร้อย', 'ลิตร', 'วัด', 'สวม', 'สวย', 'สอง', 'สัน', 'สาบาน', 'สำลี', 'สุก', 'สุดท้าย', 'หนา', 'หมวก', 'หัว', 'อันนี้', 'เกลือ', 'เก็บผม', 'เคี้ยว', 'เซเว่น', 'เต็มปากเต็มคำ', 'เทวี', 'เท่าที่ควร', 'เนื้อหมู', 'เนื้อๆ', 'เบียร์', 'เปื้อน', 'เป็นตัว', 'เลาะ', 'เลือด', 'เวิร์ก', 'เหมือนกัน', 'เหม็นหืน', 'เอาแต่', 'เอเชีย', 'แข็ง', 'แครง', 'แจ่ว', 'แซ่', 'แปด', 'แร่', 'แห้ง', 'โค้ก', 'ไม', '   ', '-cake', 'กาแฟสด', 'ก้อ', 'ขน', 'ขนมเค้ก', 'ขับ', 'คนรัก', 'ครั้งแรก', 'คลาย', 'คุยเก่ง', 'คู่', 'คู้', 'ง', 'จอมสุรางค์', 'จังหวัด', 'จากไป', 'ชิด', 'ช้อน', 'ช๊อกโกแลต', 'ช๊อค', 'ซ้าย', 'ต', 'ตัวเมือง', 'นคร', 'นอ', 'นิช', 'นิ่ม', 'บา', 'ประเภท', 'พ', 'พรหม', 'พระนครศรีอยุธยา', 'มอบ', 'ยู', 'ย์', 'รบ', 'รัส', 'ราว', 'ร้า', 'ลพ', 'ลูกค้าประจำ', 'วา', 'วาง', 'ศรีอยุธยา', 'สมูตตี้ขอ', 'สมูทตี้', 'สิบ', 'หัวรอ', 'อนุ', 'อม', 'อยุธยา', 'อยู้', 'อั๋น', 'อาทิตย์', 'อุปถัมภ์', 'เค', 'เจ้าของร้าน', 'เต็มที่', 'เต้', 'เปิ้ล', 'เลี้ยวซ้าย', 'เลื่อย', 'เสาร์', 'แน่', 'แล', 'แวะ', 'แอนด์', 'แอบ', 'โก', 'โรงเรียน', 'ไซ', 'ได้กลิ่น', 'ไต', 'ไหว้พระ', '&', '++฿(', '1200', 'astorspg', 'ขนมหวาน', 'คนละ', 'ครัวซอง', 'คา', 'ช', 'ชนิด', 'ชอค', 'ชาติ', 'ดีมาก', 'ดื่มได้', 'ตามปกติ', 'ทูน่า', 'นำ้', 'บัตร', 'บ่าย', 'รมควัน', 'รล', 'รอง', 'วิว', 'วูด', 'สตาร์', 'สนามกอล์ฟ', 'สนามม้า', 'สูงใหญ่', 'หก', 'หรู', 'หลายชนิด', 'อยู่ในเกณฑ์', 'อลังการ', 'เครือ', 'เปียโน', 'เสิร์ฟ', 'เอกลักษณ์', 'แซลมอน', 'แบรนด์', 'โคน', 'โทร', 'ให้ได้', '+', 'Chef', '^___^', 'chef', 'ขี้', 'ขี้แย', 'คับ', 'คามี', 'ตะเกียบ', 'ตุ่น', 'ต้มยำ', 'ประจำ', 'มาตรฐาน', 'มีผล', 'ยยย', 'ริมทะเล', 'วดี', 'หลายอย่าง', 'หัน', 'หาด', 'หิน', 'เผลอ', 'เย', 'เสนอ', 'แทะ', 'แมทช์', 'จุดสำคัญ', 'ตัอง', 'ทองม้วน', 'บายพาส', 'ปตท.', 'ปั้ม.', 'ปี', 'มะพร้าวอ่อน', 'สามชุก', 'สุพรรณ', 'เมือง', '(ผง', '110', '65', 'กา', 'ก้อน', 'คาปูชิโน', 'จับเป็น', 'จุด', 'ชาเขียว', 'บลูเบอร์รี่', 'ปลั๊กไฟ', 'มะตูม', 'ราด', 'ศ', 'หล่ะ', 'เหมาะสำหรับ', 'แออัด', 'โน้ตบุ๊ค', '15', 'match', 'mix', 'จุกจิก', 'ทีเด็ด', 'ท้องตลาด', 'น้ำชา', 'น้ี้', 'ปัง', 'พ้น', 'หยิบ', 'อาหารว่าง', 'แถว', 'แน่ใจ', 'โป้', '200', '45', 'ขับกล่อม', 'คุย', 'ดนตรี', 'ทำเนียบ', 'ประหยัด', 'พอๆ กับ', 'ฟัง', 'รื่ิอง', 'หิว', 'หิวจัด', 'อาหารจานเดียว', 'อีกด้วย', 'อ้อ', 'เจ้าของ', 'เท่านั้นเอง', 'เป็นกันเอง', 'เริ่มต้น', 'แปลกใจ', '!', '165', 'Honey', 'Horlicks', 'Latte', 'Shibuya', 'Toast', 'maple', 'syrup', 'toast', 'กส์', 'ขัด', 'คนเดียว', 'คาเฟ่', 'จับผิด', 'จับได้', 'ชัด', 'ช่าง', 'ญี่ปุ่น', 'ตรู', 'ตอนดึก', 'ตอนบ่าย', 'ตะลุย', 'ต้องหา', 'ทานข้าว', 'ท่วม', 'นะเนี่ย', 'น่าสนใจ', 'บู', 'ปกติ', 'ปรากฎ', 'ยะ', 'รายละเอียด', 'รึเปล่า', 'ลิ', 'ลูก', 'วอลล์', 'วัฒนธรรม', 'วิป', 'สงสัย', 'สวรรค์', 'หนังสือ', 'อะนะ', 'ฮอ', 'ฮัน', 'เนี้ยบ', 'เล่ม', 'เสริม', 'เหอะ', 'แผ่น', 'แฟน', 'แหม', 'แฮะ', 'โทส', 'ใส่ใจ', 'ไอติม', '00', '11', '14', '19', '7', 'is', 'where', 'ก่อ', 'ขนาดใหญ่', 'ขึ้นชื่อ', 'ความสะอาด', 'คูหา', 'ค่าหัว', 'ชัยภูมิ', 'ซีอิ๊ว', 'ตำลึง', 'ตุ๋น', 'ต้นตำรับ', 'ถัดจาก', 'ถือเป็น', 'น.', 'นวก', 'นารายณ์', 'ประทับใจ', 'พร', 'พ่อ', 'มุ่งหน้า', 'ระ', 'ระดับ', 'ราวๆ', 'ลึกลับ', 'ศิว', 'สาย', 'หมู่บ้าน', 'หลังคาเรือน', 'ห่าง', 'ออกจะ', 'ื่ิยๆ', 'เที่ยง', 'เป็ด', 'เลียบ', 'โซน', 'โดยประมาณ', 'กรุบ', 'ความสดชื่น', 'ชุ่ม', 'ซู', 'ต้องห้าม', 'ถั่ว', 'ถาด', 'นิมมาน', 'พาย', 'รีม', 'สดชื่น', 'าน', 'เชียงใหม่', 'เด', 'เด่น', 'เพ้น', 'เมล็ด', 'เมีย', 'เอาใจ', 'แมค', 'แล๊ต', 'wifi', 'ขับรถ', 'คนแนะนำ', 'คุ้มค่า', 'ดูดี', 'ทิวทัศน์', 'ป้าย', 'ยย', 'รีสอร์ท', 'สดๆ', 'สีส้ม', 'อร่าม', 'เดินทาง', 'ใส่ไข่', 'กัด', 'การันตี', 'กาลเวลา', 'ขนุน', 'คิดถึง', 'จำได้', 'ชงกาแฟ', 'ซด', 'ดูด', 'ตึกแถว', 'ธนาคาร', 'น้ำกะทิ', 'ป่น', 'ยูโอบี', 'ลูกชิ้น', 'สามแยก', 'หมอ', 'องก์', 'เก่า', 'เก่าๆ', 'เพลิน', 'เยาวราช', 'เรียนพิเศษ', 'เหนียวหนึบ', 'เอาล่ะ', 'เอาไว้', 'แสบ', 'โทรม', '!!', '(รส', ')\"', '12', ':)', '>_<\"', 'Citibank', 'Glazed', 'KK', 'Original', 'glazed', 'กระจก', 'กิว', 'กิว\"...', 'กิ้ววว', 'ขม', 'ขีดสุด', 'ข้าม', 'ความสุข', 'คิดในใจ', 'คิว', 'งอน', 'ชัยชนะ', 'ชั่วโมง', 'ตาว', 'นอกเมือง', 'นาที', 'น่าเชื่อ', 'บ้า', 'ปล่อย', 'ป่าว', 'ฟรี', 'ฟิน', 'มั่ง', 'ร่อ', 'ววว\"', 'วู้', 'ว์...', 'สยิว', 'สาว', 'สาวก', 'สุดยอด', 'หนุ่ม', 'ห้า', 'อย', 'อ่า', 'อ้อม', 'เข้าเรื่อง', 'เดือน', 'เบื่อ', 'เป็นแถว', 'เรย', 'เวฟ', 'เหาะ', 'แจก', 'แต่ยังไง', 'แน่นอน', 'แบ่งปัน', 'โดนัท', 'ใด', 'ในขณะที่', 'Octave', 'Rooftop', 'กลัว', 'กลางใจเมือง', 'ขอบฟ้า', 'ช็ค', 'ช็อคโกแล็ต', 'ตก', 'ต้น', 'บนสุด', 'บรา', 'ปลาย', 'ฝน', 'พระอาทิตย์', 'พอได้', 'ม่าย', 'รถติด', 'หนาว', 'หน้าฝน', 'หลอด', 'หันไป', 'หุ่น', 'อวบ', 'อิอิ', 'เก๋', 'เนื้อสัตว์', 'เพ', 'เมืองกรุง', 'เลิศเลอ', 'เหนื่อย', 'เหมาะกับ', 'แตะ', 'แม', 'แล็ต', 'แห', 'โชว์', 'กระทัดรัด', 'กลับบ้าน', 'ตามสบาย', 'สัก', 'ผลิตภัณฑ์', 'ร้านขายเครื่องดื่ม', 'ศรี', 'ปฏิเสธ', 'หอมฉุย', 'อ้วน', 'โชย', '     ', '0', '08.30', '10.30', '19.00', '2354', '315', '8376', 'กทม.', 'กุ', 'ขลัง', 'จันทร์', 'ชื่อ', 'ช็อคโกแลต', 'ฏ', 'ด่วน', 'ตรวจวัด', 'ตั้งอยู่', 'ทุ่ง', 'นรสิงห์', 'นึกได้', 'น้ำผึ้ง', 'ผลัดเปลี่ยน', 'พญาไท', 'พระ', 'พระราชวัง', 'พักเที่ยง', 'มง', 'มงกุฎ', 'มนต์', 'มายัง', 'มูส', 'ยืนพื้น', 'ร.', 'รถพระที่นั่ง', 'รอบ', 'ราชวิถี', 'วัง', 'วาฟเฟิล', 'ศุกร์', 'สมใจ', 'สายตา', 'หมุนเวียน', 'อาคาร', 'อาราบิก้า', 'เขต', 'เลี้ยว', 'เล็ง', 'แขวง', 'แต่ละวัน', 'แบ่ง', 'แหม่ม', 'โชค', 'โท', 'โน่', 'โฟม', 'โรงพยาบาล', 'ไร่', '“', '”', 'กี', 'จริต', 'จุฬา', 'นิว', 'นี', 'ปัว', 'ปา', 'เหมาะ', 'โดน', 'ไปดู', 'ๆชง', 'ๆๆๆๆ', 'Dellow', 'Dessert', 'Gravity', 'Yello', 'ขา', 'ชาวต่างชาติ', 'ชูโรง', 'ช่วยกัน', 'ท่าที', 'ท้องกิ่ว', 'บอย', 'มากเกินไป', 'ย่า', 'รองท้อง', 'ฤกษ์ดี', 'ฤดู', 'ฤดูกาล', 'วัตสัน', 'สนใจ', 'สังเกตว่า', 'สาคู', 'หลายครั้ง', 'หั่น', 'หิ้ว', 'ออกจาก', 'อาหารคาว', 'อีฟ', 'เดินผ่าน', 'เต๋า', 'แปะ', '&ชอคฯ', '54', 'ขายดิบขายดี', 'ข้าวมัน', 'คอย', 'คาร์ฟูร์', 'จับจอง', 'ฉลอง', 'ชนะเลิศ', 'ตามสมัยนิยม', 'ตำ', 'น้ำมัน', 'บาริสต้า', 'บิ๊กซี', 'ฟิวชั่น', 'ฟูด', 'มอคค่า', 'มะขาม', 'รางวัล', 'ลม', 'สัม', 'หืน', 'อาร์ต', 'อ่อนนุช', 'เกรียม', 'เกี๊ยว', 'เปลี่ยนเป็น', 'เสียดาย', 'เอ็กซ์', 'แต่วัน', 'ไท', 'ไหม้', '\")', '(มัั้ง)', '..(', 'Green', 'Salmon', 'ama', 'healthy', 'salad', 'tea', 'กระจุกกระจิก', 'ของใช้', 'คู่รัก', 'น้ำมันงา', 'น้ำมันสลัด', 'ผ่อนคลาย', 'สดใส', 'อบอุ่น', 'อาม่า', 'อิตาเลี่ยน', 'เข้าสู่', 'เหลือง', 'แต่ละคน', 'โลก', 'balance', 'coffee', 'drip', 'filter', 'french', 'iced', 'jelly', 'moka', 'original', 'press', 'single', 'special', 'syphon', 'ระบุ', 'ลองดู', 'อะ', '700', '800', 'กาญจนาภิเษก', 'การ์ตูน', 'ของโปรด', 'ข้าวคั่ว', 'ฉีก', 'ชนนี', 'ชื่อดัง', 'ญาติ', 'ดารา', 'ตลก', 'ทน', 'ทราบ', 'ทำได้', 'น้ำพุ', 'บรม', 'บอส', 'บางแค', 'ปลาช่อน', 'ฟังเพราะ', 'มอลล์', 'มะ', 'วง', 'สบายดี', 'สะระแหน่', 'เดอะ', 'เด่นชัด', 'เป็นแนว', 'เพลง', '    ', 'กีบ', 'ชอก', 'ช่วงเวลา', 'ช่อง', 'ดูงาน', 'ติดใจ', 'ทาวน์', 'ทาวเวอร์', 'นนท์', 'บัค', 'บาย', 'บุ้ง', 'พลุกพล่าน', 'มั', 'มาลี', 'มิด', 'ยกเว้น', 'สอบ', 'อาว', 'อโศก', 'อ่านหนังสือ', 'ฮี่ๆ)', 'เคิก', 'เป็นช่วง', 'เอย', 'แพ้', 'แฮ', 'คลี', 'ช๊อป', 'ท้อง', 'ธุระ', 'นั่งเล่น', 'ประวิง', 'มือถือ', 'เงิน', 'โซฟา', 'โปร', 'ของแปลก', 'ครก', 'ปั้นหยา', 'ปานกลาง', 'ละแวก', 'สะดวกสบาย', 'ห่อหมก', 'เริ่ด', 'เรื่อ', '60', 'Kamu', 'ชะ', 'ซุ้ม', 'ดีไซน์', 'ตั้งสติ', 'พลาสติก', 'มัท', 'มิลค์', 'รดี', 'สื่อ', 'เกียวโต', 'โป', 'stb', 'sugarfree', 'กรีนที', 'ฉะ', 'ถึงกับ', 'บร', 'พรุน', 'ฟาย', 'ร', 'สต้า', 'เป็นไง', 'ๆม่', '17', '25', '>>', 'Big-C', 'Iceken', 'Kung', 'New', 'Review', 'at', 'ข้อความ', 'ความคิดเห็น', 'ความหวาน', 'ความไม่พอใจ', 'คาที่', 'คุง', 'ณ.', 'ดำริ', 'ด้านหลัง', 'ตาสว่าง', 'บันไดเลื่อน', 'พนักงานขาย', 'ยว', 'ลานจอดรถ', 'สรุป', 'สร้าง', 'ส่วนบุคคล', 'หนี', 'หนึบ', 'เข้าคู่', 'เปรี๊ยว', 'เมนูหลัก', 'เสต็บ', 'เสาวรส', 'โกโก้', '><', 'starbucks', 'คอนโด', 'ดิ', 'ปัญหา', 'พิมาน', 'ฟังเพลง', 'มั่นใจ', 'ย้าย', 'สามโลก', 'ห์~', 'อิม', 'Strawberry', 'tart', 'ครบเครื่อง', 'จิ', 'ปอเปี๊ยะ', 'พริกขี้หนู', 'พอประมาณ', 'ริน', 'สับ', 'โดดเด่น', 'ไก่ทอด', 'Big', 'C', 'Ochaya', 'รับได้', 'สุขาภิบาล', 'หยุ่น', 'ออฟฟิศ', 'เละ', 'กวาง', 'ความหรูหรา', 'ความเป็นส่วนตัว', 'ดัน', 'ดิ่ม', 'ตัวอาคาร', 'นัด', 'นึกถึง', 'ผิดที่', 'ฝากท้อง', 'มิตรภาพ', 'ย่าน', 'ย้อนยุค', 'รุ่นน้อง', 'สมัยเก่า', 'สวยงาม', 'อนุสาวรีย์', 'อเมริกา', 'อเรีย', 'เคือง', 'เบย', 'เป็นเรื่อง', 'เร้าใจ', 'เลี้ยง', 'แช', '%', '555555', 'sukishi', 'ชิวๆ', 'ผักบุ้ง', 'พนักงานบริการ', 'พระราม', 'พัด', 'มาม่า', 'มู้ก', 'ลอยแก้ว', 'สละ', 'สาระ', 'หวาย', 'หอมแดง', 'ห่อ', 'เข้ากันได้', 'เซ็นทรัล', 'แกง', 'แกงเขียวหวาน', 'โรย', 'ไหล', ').', 'กสแฟ', 'คลาสสิก', 'ติ', 'นุ่มนวล', 'น้ำเชื่อม', 'ผู้คน', 'ลนัส', 'วี', 'อยุ่', 'อารมณ์', 'ฮัส', 'เค๊ก', 'ๆๆ(ผม', 'Cafe', 'Cat', 'ข้างใน', 'ประเทศ', 'ฝาแฝด', 'พลอย', 'รองเท้า', 'ล้างมือ', 'สนุก', 'เพชร', 'แมว', 'จัย', 'น่ากิน', 'บิ๊ก', 'ฝุดๆ', 'ภูเขาไฟ', 'ม่ะ', 'อ่', 'เห๊', 'แปล้', 'ๆเริศ', 'ๆๆๆ', 'ของว่าง', 'ท่าน้ำ', 'นอนหลับ', 'พอดิบพอดี', 'ลอยกระทง', 'สักครู่', 'สัสัน', 'อาทิ', 'เกร็ด', 'เกาะ', 'เพลินตา', 'เรียบง่าย', 'ไม้', '????????????', 'Aeropress', 'April', 'Store', 'กัวเตมาลา', 'ชวน', 'ซับซ้อน', 'ซ่อนกลิ่น', 'ดูดดื่ม', 'ดํา', 'ต่างดาว', 'ทําไม', 'ประหลาดใจ', 'ฝัน', 'ภาพ', 'ลึกลับซับซ้อน', 'วิธี', 'วิธีการ', 'หว่า', 'หอมหวน', 'เปลี่ยนไป', 'เป็นใจ', 'เฝ้า', 'เออ', 'แน่ๆ', 'แลดู', 'แวะเวียน', '67', 'free', 'การคุย', 'ค่า', 'จามจุรี', 'ชำระ', 'ธุรกิจ', 'ฟี่', 'รืี่อง', 'สินค้า', 'สิ่งอำนวยความสะดวก', 'สแควร์', 'เคาน์เตอร์', 'โปร่ง', 'โล่ง', 'ก', 'ซี่โครง', 'นิดหนึ่ง', 'สวนผัก', 'โค้ง', 'คลอ', 'พักผ่อน', 'ย', 'สงบ', 'เงียบ', 'เอ๊ะ', '3.5', '42', 'MRT', 'Matcha', 'Peanut', 'Scone', 'Thai', 'aeropress', 'brownie', 'butter', 'device', 'green', 'latte', 'lemon', 'matcha', 'milk', 'store', 'กซ์', 'กรอง', 'กล่อง', 'กั้น', 'ขนาดเล็ก', 'ขึ้นรถ', 'คณะนิติศาสตร์', 'คะแนนเต็ม', 'งบ', 'จุฬาฯ', 'ที่อยู่', 'ทึบ', 'นักดื่ม', 'นัท', 'บัตเตอร์', 'ปอ', 'ป้ายรถเมล์', 'ผง', 'พ.', 'พี', 'มือ', 'ลอยละล่อง', 'ลักษณะ', 'ลิโด้', 'สพ์', 'สังเกต', 'สามย่าน', 'หลบ', 'ออกกำลัง', 'อากาศ', 'เซ็นเตอร์', 'เวียน', 'แยม', 'แอบมอง', 'โดนใจ', 'โอสถศาลา', 'ไว้หน้า', '(อ่อ', '18.30', '7.30', 'Advance', 'Free', 'Lotus', 'Mini', 'SipnSurf', 'Tesco', 'The', 'conference', 'cozy', 'ice', 'inspiration', 'reserve', 'room', '~', 'กระแสเลือด', 'กลม', 'ความน่าสนใจ', 'คาเฟอีน', 'จุดแข็ง', 'ฉีด', 'ดึงดูดใจ', 'ตอนนั้น', 'ลงแดง', 'ล่วงหน้า', 'ห้องประชุม', 'เก้าอี้', 'เก้าอี้สนาม', 'เป็นส่วนใหญ่', 'เสียง', 'แว่ว', 'โดยส่วนตัว', '22', 'ของฝาก', 'ครองใจ', 'คุณภาพดี', 'ชลบุรี', 'ดีขึ้น', 'ตอนเที่ยง', 'ทำบุญ', 'ฝอยทอง', 'ฟอรั่ม', 'รสจัด', 'ลำบาก', 'ลืม', 'สัปปะรด', 'เก่าแก่', 'เข้ากันได้ดี', 'เค๊า', 'เย็นตาโฟ', 'ไหว้เจ้า', 'Dakasi', 'Siam', 'Square', 'ดา', 'ที่มา', 'เดินเที่ยว', 'B', 'กาก', 'ด้านบน', 'ต่างกัน', 'ผ่า', 'มองหา', 'สกัด', 'แฟก็มี', 'โจทย์', '/?', '13', '1360', '32', '46', '=', 'E', 'GPS', 'N', 'Norasingha', 'de', 'gadget', 'http', 'p', 'thai', '°', 'กลิ่นไอ', 'ก่อนที่จะ', 'จักรี', 'ตะวันตก', 'ทุ่ม', 'ประวัติศาตร์', 'ผนัง', 'พระที่นั่ง', 'ภูมิใจ', 'มีประวัติ', 'ยุคสมัย', 'รัชกาล', 'รู้เรื่องราว', 'สนาม', 'สามัญชน', 'สืบทอด', 'อิ่มใจ', 'เกิดขึ้น', 'เข้าเฝ้า', 'เยี่ยมชม', 'เรียกกันว่า', 'เสือป่า', 'โคมไฟ', 'โดยรอบ', 'ในประเทศ', '‘', '’', '′', '″', 'Amazon', 'Wifi', 'double', 'กทม', 'ขาเข้า', 'ฉบับ', 'ซอน', 'นครปฐม', 'ปั๊ม', 'พิเศษ', 'ฟอร์ม', 'รับประทาน', 'สรรพสินค้า', 'หนังสือพิมพ์', 'เจ๊ต', 'เห็นชัด', '(ซึ่ฃ', 'ข้าวห่อ', 'จุใจ', 'ตัวเอง', 'ทะลัก', 'น่าเสียดาย', 'ปั๊บ', 'สารพัด', 'หน้าตา', 'อนุรักษ์นิยม', 'อืด', 'อุตส่าห์', 'เจาะ', 'แต่ละครั้ง', 'ครัวซองต์', 'ช็อก', 'ช็อกโกแลต', 'ตบ', 'ละมุน', 'หอมกรุ่น', 'เนด', 'เลมอน', 'แตงโม', 'กวาดสายตา', 'กว้างใหญ่', 'กินลม', 'กี๊', 'ก่อนที่', 'ขนลุก', 'ของเก่า', 'ของโบราณ', 'จู๋จี๋', 'จ้าว', 'ชิบ', 'ช่องลม', 'ซะงั้น', 'ดูหรือ', 'ดูเหมือน', 'ตรงนี้', 'ตะ', 'ตะลึง', 'ตะเกียง', 'ตัดสินใจ', 'ติดแอร์', 'ถูกปาก', 'ทางเข้า', 'ทางเดิน', 'ทีวี', 'น้อ', 'ประดับประดา', 'ประตู', 'ปีกไก่', 'ปูพรม', 'พันธุ์', 'พิง', 'พิพิธ', 'มองเห็น', 'มัว', 'ยังกะ', 'ยัดไส้', 'ระเบียง', 'ร้านขายยา', 'ล', 'ลำ', 'ศาลา', 'สุดกู่', 'สู้', 'ส่อง', 'หลง', 'หลังคา', 'หลับ', 'หลุด', 'หอประชุม', 'ห้องนอน', 'ห้องน้ำ', 'อยู่เลย', 'อาศัย', 'เครื่องบิน', 'เดินตาม', 'เทียน', 'เฟสติวัล', 'เรือ', 'เวที', 'เหอๆ', 'แกะสลัก', 'แผง', 'แม่', 'โรแมนติค', 'โวย', 'ไปหา', 'ไฟ', 'ไฟฉาย', 'Ice', 'caramel', 'macchiato', 'ถึงใจ', 'เยิ้ม', '-Mozzellela', '155', '170', '245', '280', '285', '320', '3600', '490', '5555', 'Ball', 'Chees', 'Coconut', 'Dip', 'Lychee', 'Summer', 'Sweet', 'dtac', 'reward', 'กระดูก', 'กระเทียม', 'ขิง', 'ข้าว', 'ข้าวหน้าเป็ด', 'ควัน', 'ซอ', 'ดอง', 'ด์', 'ติ๊ก', 'ตี', 'ทั้งคู่', 'ที่สอง', 'น่อง', 'น้ำเปล่า', 'บด', 'บรู๊ซ', 'บอร์ด', 'บาร์บีคิว', 'บู่', 'บ๊วย', 'พัฒนา', 'พาร์มา', 'พุทธมณฑล', 'พ็อคช็อ', 'ฟิวขั่น', 'มด', 'มมมมม', 'มีเดียม', 'ม็อค', 'ยืด', 'รน', 'รู', 'ร่อน', 'ร้่นเ', 'ลว', 'ล่า', 'วสลอเ', 'วัตถุดิบ', 'สนนราคา', 'สมนาคุณ', 'สมเหตุสมผล', 'สลัดผลไม้', 'สิริ', 'สีชมพู', 'หน่อไม้ฝรั่ง', 'หลงรัก', 'หลานสาว', 'หาว', 'อก', 'อน', 'อาหย่อย', 'อึดอัด', '฿', 'เ', 'เก้', 'เครน', 'เตก', 'เนื่องใน', 'เนู', 'เบคอน', 'เบี่ยน', 'เป๊ะ', 'เฟรนฟ', 'เล่', 'เสต็ก', 'เเต่', 'เเถม', 'เเนว', 'เเนะ', 'เเบบ', 'เเม่', 'เเม้', 'เเล้ว', 'เเล้วเ', 'เเล้วเเบบ', 'แกล้ม', 'แดง', 'แถวๆ', 'แห่งชาติ', 'โดด', 'โบ', 'โปะ', 'โห่', 'โอย', 'ใข้', 'ได้หน้า', 'ไท่อม', 'ไวน์', 'D', '^^\"', '^^)', 'การนัด', 'ความนิยม', 'ซัก', 'ถ้วน', 'ทิ้ง', 'บังเอิญ', 'พบกัน', 'ยังอยู่', 'ร่วง', 'ลดลง', 'ลัด', 'สารภาพ', 'หวัง', 'เคลือบ', 'เจอกัน', 'เวลา่', 'เห็นด้วย', 'โรยรา', 'ใกล้เคียง', 'ไปเป็นเพื่อน', 'size', 'กระพริบ', 'กุ้งแช่น้ำปลา', 'คอนเฟิร์ม', 'คัก', 'คันทรี', 'คาราโอเกะ', 'จา', 'ดำ', 'ดิ๊งค์', 'ตอนค่ำ', 'ตัวเล็ก', 'ติดไฟ', 'ที่หมาย', 'นึึ', 'นึ่ง', 'มั๊กๆ', 'ม้า', 'ยุ', 'ราคาคุย', 'ลึก', 'ลูกทุ่ง', 'วิธีทำ', 'ส์', 'หวานฉ่ำ', 'ี่', 'ุ', 'เก๋ไก๋', 'เอก', 'ไร้', '---', '----', '----------', '-----------', '------------', '120', '80', 'and', 'article', 'bakery', 'frappe', 'fudge', 'garden', 'google', 'review', 'search', 'zone', 'ข้าวต้ม', 'คนใน', 'คุณแม่', 'ค้นพบ', 'งั๊นๆ', 'จุดด้อย', 'จุดเด่น', 'ชั้นเดียว', 'ตั่้ง', 'ทริป', 'นวล', 'นักท่องเที่ยว', 'บางอย่าง', 'ประโยค', 'ประโยชน์', 'ผู้อ่าน', 'ฝรั่งเศส', 'พลุ้ย', 'พวกผม', 'พังงา', 'พิกล', 'พี่สาว', 'ภาษาอังกฤษ', 'ภูเก็ต', 'ระหว่างทาง', 'ริมถนน', 'รืน', 'รุ', 'ร่ม', 'ลุ', 'ลูกชาย', 'สสาร', 'สั่งอาหาร', 'สากล', 'หมายถึง', 'หึ', 'หึหึ', 'อัดฉีด', 'อาหารเช้า', 'อุปการะ', 'ีกๆ', 'ฺะ', 'เกริ่น', 'เด้', 'เท่', 'เหงา', 'เหรอ', 'เอ้อ', 'แขกบ้านแขกเมือง', 'แปล', 'แยก', 'แสน', 'โอม', 'ไส้พุง', '\"(', '\"นม', '70', 'Hungry', 'Macaron', 'Thirsty', 'กลับด้าน', 'กล้วย', 'กะหรี่', 'กากหมู', 'การกัน', 'กิจการ', 'ขาว', 'ครอบครัว', 'ความจริง', 'ความหิว', 'คอน', 'คันทรี่', 'คุ๊กกี้', 'ชีลาว', 'ดิบ', 'ตั้งใจ', 'ตามใจชอบ', 'ตี่', 'ต่อมา', 'ถั่วลันเตา', 'ทันใด', 'ทัวร์', 'ทาสี', 'ทำเล', 'ที่เกิด', 'ท้องร้อง', 'บริษัท', 'บีบ', 'ประท้วง', 'ปัก', 'ปิดท้าย', 'พะแนง', 'พี่น้อง', 'มันเยิ้ม', 'ย่านธุรกิจ', 'รัชต', 'รูปภาพ', 'ร่วมกับ', 'ลูกเต๋า', 'ล้อม', 'วางไข่', 'วานิลลา', 'สมี', 'สัมผัส', 'สำนักงาน', 'สีน้ำตาล', 'หินอ่อน', 'หิวข้าว', 'อยากได้', 'อรุณ', 'อาหารหวาน', 'อิฐ', 'อิ่มหนำสำราญ', 'เขียวหวาน', 'เข็ม', 'เป็นงาน', 'เพียบ', 'เฟลก', 'เฟลก\"', 'เฟอร์นิเจอร์', 'เส้นใหญ่', 'แขวน', 'โปร่งตา', 'โมเดิร์น', 'โรยหน้า', '27', 'BUBBLE', 'T', 'Topping', 'กินใน', 'ประชาสงเคราะห์', 'มันส์', 'ลดราคา', 'วันก่อน', 'หอการค้า', 'เดินเล่น', 'เสมอๆ', 'แปลกใหม่', '169', '90', '95', 'ข้าวผัดอเมริกัน', 'คงที่', 'คั่ว', 'ชื่อเรื่อง', 'ซีซาร์', 'ตตี้', 'ที่ทำงาน', 'มป', 'รักษา', 'ลนัทแฟลป', 'ล๊ก', 'สเต็ก', 'เกี้ยว', 'เป้', 'เฮ', 'แคนยอน', 'แน', 'แบ', 'แล้วไป', 'ใช้เวลา', 'ไลม์', '\"ส์\"', 'wongnai', 'กรรเชียง', 'กระเทียมหอม', 'กั้ง', 'ความทรงจำ', 'จิงๆ', 'ชล', 'ชั้ร', 'ชามะลิ', 'ซ่อนตัว', 'ดิส', 'ตะวันออก', 'ตามรอย', 'ต๊ะคน', 'พัดลม', 'พัทยา', 'ฟบน', 'มองไม่เห็น', 'มอเตอร์เวย์', 'วันหยุด', 'หมึก', 'อีกครั้ง', 'อุ', 'เขื่อง', 'เบ้', 'เป็นกอง', 'เพรา', 'เาว', 'แก้เผ็ด', 'แน่นหนา', 'แหวก', 'แอบดู', 'ไม่งั้น', '์ส์ส์', 'ควรจะ', 'ชาวบ้าน', 'ประสา', 'แทบจะ', '47', 'Banoffee', 'Choc', 'Dark', 'Layered', 'Rain', 'Rocky', 'Semi', 'cream', 'freddo', 'hill', 'pie', 'pop', 'road', 'rocky', 'sandwich', 'กลบ', 'การนำ', 'ความขม', 'ความตั้งใจ', 'คำตอบ', 'ชั้นสอง', 'ดึง', 'ทางขวา', 'ลิฟท์', 'วันหลัง', 'สร้างสรรค์', 'สีเหลือง', 'ส้ม', 'เปลือก', 'เป็นสาว', 'เฝื่อน', 'เมล', 'แช่แข็ง', 'แท่ง', 'แท้ๆ', 'แนวคิด', 'โล', 'ในเวลาเดียวกัน', '@', 'ข้าวโพด', 'คิดมาก', 'จำกัด', 'ดั้งเดิม', 'ดีแต่', 'ผู้จัดการ', 'มีลูก', 'รุ่น', 'อุ่นๆ', 'เทคแคร์', 'เป็นมิตร', 'เสมือน', 'เสียใจ', 'มะพร้าว', 'กระบี่', 'ขนมจีน', 'ข้าวหมก', 'ติ่มซำ', 'ปาท่องโก๋', 'หมี่', 'อ่าว', 'เกาเหลา', 'เลือดหมู', 'แวว', '300', '?', 'ชอบกล', 'ดวง', 'ตาล', 'ที่ผ่านมา', 'บิน', 'มั่ว', 'ย้อนกลับ', 'ลบ', 'ลาก', 'หรือว่า', 'อาการ', 'เบาบาง', 'เล่นตัว', 'เอ่อ', 'ได้เรื่อง', 'ไม่ได้เรื่อง', 'horlick', 'whitemalt', 'ค่อ', 'งง', 'จำนวน', 'จิง', 'ทัย', 'นะจ๊ะ', 'พญา', 'มั้ง', 'มุข', 'ยอ', 'ยืน', 'ยื่น', 'ร่่อย==\"', 'สุภาพ', 'กัญชา', 'ชนะขาดลอย', 'ชีวิตจิตใจ', 'ดีจริง', 'ถึงขั้น', 'ทีแรก', 'นอกใจ', 'น้ำตา', 'าา', 'เฉ', 'เว่อ', 'เว้', 'โปรดปราน', 'โอ้ย', 'ได้ฤกษ์', 'นิ่ง', 'ยกนิ้วให้', 'ลุง', 'หุ่นยนต์', '180', 'กับข้าว', 'คร', 'ตามลำดับ', 'นับว่า', 'พะโล้', 'มละ', 'ลดละ', 'ศูนย์บัญชาการ', 'ห่าน', 'อดใจ', 'เคลม', 'เฉียบ', 'เยี่ยง', 'เลิก', 'เหลา', 'แลก', 'โต๋', 'ไช้', 'ไซส์', 'cha', 'wawa', 'ดึงดูด', 'มีสีสัน', 'ลิ้มลอง', 'เคี้ย', 'เจียว', 'แม้แต่น้อย', '44', 'RiceMango', 'สักนิด', ')สตรอเบอ', '185', 'A', 'Homepro', 'Little', 'dessert', 'กอง', 'ตกรอบ', 'บิ', 'สกิ', 'เกรย์', 'เอิร์ล', 'ๆ)', 'กาย', 'ของวัด', 'ชุมชน', 'ท่ามกลาง', 'ธรรมชาติ', 'บวก', 'ปรุงแต่ง', 'วิถีชีวิต', 'วุ่นวาย', 'สมอง', 'สเต็ป', 'เขตเมือง', 'เงียบสงบ', 'เส่นห์', 'โป่ง', 'ใจ', 'ไม่ขาดสาย', 'ข้อดี', 'ครอง', 'ครีเอท', 'ความพยายาม', 'ความสามารถ', 'คาดเดา', 'คุ', 'ดร', 'ตอนที่', 'ตัง', 'ต่ำกว่า', 'ทำครัว', 'ทีท่า', 'นับถือ', 'ปัจจุบันนี้', 'ป๊อป', 'ฟรั่ง', 'มากขึ้น', 'ยุคใหม่', 'ยุด', 'ลงทุนลงแรง', 'ลงมือ', 'หลังจากนั้น', 'อธิบาย', 'อป', 'อยู่ดีๆ', 'เค๊กฟรั่ง', 'เปิดร้าน', 'เศษ', 'แบร์น', 'แฟก็คือ', 'ใจรัก', ')มัท', 'Pudding', 'Smoothies', 'ข้อ', 'คลาสสิค', 'ช็อค', 'ตส', 'ทอ', 'ทีนี้', 'ท็อป', 'ฟู๊ดคอส', 'มาร์ช', 'ว์', 'หมวด', 'หรอก', 'เก็ต', 'เปอ', 'เลต', 'แมคโดนัลด์', 'แมง', 'โก้', 'ๆปน', '135', '87', 'ค์', 'ถึงบางอ้อ', 'ทานอาหาร', 'บานา', 'ลิด', 'สนิท', '169.', '19.', '2800', '29', '39', '39.', '400', '49', '49.', '59.', '79', '79.', 'Carte', 'La', 'กระจอก', 'กราบ', 'กะทะ', 'ขยับ', 'ของสด', 'ขัดใจ', 'คอร์ท', 'คำพูด', 'จ่า', 'ฉิบหาย', 'ชมพู', 'ชั้นเลิศ', 'ชาด', 'ชาบู', 'ซัด', 'ด....เห้)', 'ดาด', 'ดาดๆ', 'ด่า', 'ตัวอย่างเช่น', 'ถะ', 'ทัพพี', 'ท่าน', 'ธ', 'นว', 'นวลจันทร์', 'นับไม่ถ้วน', 'นางงาม', 'นิ้ว', 'นื้อ', 'บร๊า', 'บร๋า', 'ปฎิ', 'ประมวลผล', 'ประเมิน', 'ผัง', 'ผัน', 'ผู้บริโภค', 'ผู้หญิง', 'ผู้ใหญ่', 'พัน', 'พิสมัย', 'พืด', 'ฟาง', 'ฟิว', 'ฟู๊ด', 'มันสมอง', 'มีความรู้สึก', 'ม่วง', 'ยาง', 'ยำเกรง', 'รบกวน', 'ระบบ', 'ร่า', 'ลวกๆ', 'ลอย', 'วะ', 'วุฒิภาวะ', 'สรรหา', 'สายพาน', 'หน่วย', 'หลาน', 'อนาคต', 'อักษร', 'เจ๊ง', 'เฉียด', 'เซอร์', 'เด็กเล็ก', 'เตา', 'เทพ', 'เนื้อวัว', 'เป็นแน่แท้', 'เล็งเห็น', 'เสมา', 'แนะนำตัว', 'แฟชั่น', 'แฟ่', 'แมร่ง', 'แว่บ', 'แว๊บ', 'โฆษณา', 'โง่', 'โปสเตอร์', 'โพน', 'ไอซ์แลนด์', '220', '340', '890', 'Appino', 'BKK', 'Baby', 'Basil', 'Bass', 'Best', 'Blue', 'Bottega', 'Chocolate', 'Community', 'Cooked', 'Cotta', 'Course', 'Covering', 'Crab', 'Cream', 'Dressing', 'Fuji', 'Highly', 'Homemade', 'Italian', 'Luca', 'Main', 'Mall', 'Meat', 'Mushroom', 'Mussel', 'One', 'Orange', 'Outdoor', 'Paccheri', 'Panna', 'Pending', 'Penne', 'Pinch', 'Pistacchio', 'Portobello', 'Presentation', 'Profiterole', 'Pumpkin', 'Ravioli', 'Restaurants', 'Salad', 'Salt', 'Sauce', 'Sausage', 'Sea', 'Seafood', 'Spaghetti', 'Spinach', 'Style', 'Supermarket', 'Terrace', 'UFM', 'Vongole', 'White', 'Wine', 'baby', 'berry', 'bisque', 'cooked', 'crab', 'dressing', 'fennel', 'foil', 'ham', 'herbs', 'honey', 'in', 'italian', 'lobster', 'meat', 'menu', 'mint', 'parma', 'recommended', 'sauce', 'sausage', 'saute', 'seafood', 'seeds', 'tomato', 'topped', 'white', 'wild', 'wine', 'with', 'กลิ่นคาว', 'กะพง', 'ขึ้นชื่อว่า', 'คนไทย', 'ครับผม', 'ความคาดหวัง', 'ความรู้สึก', 'ความเค็ม', 'คัสตาร์ด', 'คืน', 'คุม', 'จัดเรียง', 'จากกัน', 'จำไว้', 'จุ', 'ชัก', 'ชู', 'ซึม', 'ซื้อใจ', 'ดัดแปลง', 'ดูจะ', 'ตัวใหม่', 'ที่สาม', 'ท้องเสีย', 'ท้า', 'นิวซีแลนด์', 'นิ้วโป้ง', 'นเน่', 'น้ำลาย', 'บรรดา', 'บันได', 'ปน', 'ประจันหน้า', 'ปรับปรุง', 'ผลลัพธ์', 'ผ่านหน้า', 'พก', 'พระจันทร์', 'พิสูจน์', 'ฟักทอง', 'ฟู้ด', 'มะเขือ', 'มินต์', 'มือหนัก', 'ยักษ์', 'ยั่ว', 'รังสรรค์', 'ลงมา', 'ล็อบ', 'วู่วาม', 'สกุล', 'สมิติเวช', 'สมุนไพร', 'ส่วนผสม', 'หน้ามืด', 'หมื่น', 'หยิบมือ', 'หลังจากที่', 'หิวโหย', 'อะไรก็ตาม', 'อุ้งมือ', 'ิม', 'เข้าข้าง', 'เครื่องปรุงรส', 'เต็มเปี่ยม', 'เป็นแน่', 'เร่', 'เวลานี้', 'เสต', 'เอแคลร์', 'แมลงภู่', 'แย้ง', 'โชคดี', 'โยเกิร์ต', 'โหระพา', 'ไต่', 'ไม่พูดพร่ำทำเพลง', 'ไม่เบา', '์)', 'BTS', 'ขวา', 'บ้านไร่', 'ำ', 'เหนือศีรษะ', '--', '51', 'check', 'คาร์', 'ซ.', 'ยาวเหยียด', 'สน', 'เคหา', 'เชค', 'เสี่ยง', 'เหลือบ', 'แนบ', '…......................................................', 'กี้', 'ข้าวจี่', 'คล้าย ๆ', 'น้ำส้มคั้น', 'ลวด', 'อุดร', 'แม็ก', 'ไข่ดาว', 'ไข่ลวก', 'ไท่', 'ขืน', 'จำเลย', 'ชาเย็น', 'ประ', 'มหาวิทยาลัย', 'มีหวัง', 'ลุก', 'อ่านเล่น', 'โต้รุ่ง', 'กระเจี๊ยบ', 'คล้ายๆ', 'ความเป็นไป', 'ตัวอย่าง', 'ต่างจังหวัด', 'มหาวิทยาลัยเชียงใหม่', 'ร้านรวง', 'หลบมุม', 'อิง', 'อุโมงค์', 'เงียบๆ', 'เตี๊ยบ', 'เสน่ห์', 'แวบ', 'ให้ทาน', '255', '=__=;', 'World', '^^\")', 'กรี๊ด', 'กล้า', 'ขำ', 'ฃ', 'คนสวย', 'ชิพ', 'ชี้', 'ช่างมัน', 'ดุ่มๆ', 'ตำแหน่ง', 'ติง', 'ที่ไหนๆ', 'บัก', 'มีจำกัด', 'รอบข้าง', 'ล่อ', 'เนนอ', 'เป็นระเบียบ', 'เรต', 'เลข', 'เวิร์ล', 'แหะๆ', 'โฮะ', 'ได้ใจ', 'ๆๆ)', 'Golden', 'Near', 'OK', 'River', 'triangle', 'ชาร้อน', 'ตอนกลางคืน', 'ถนนใหญ่', 'ทองคำ', 'ท่า', 'พลุก', 'รถตู้', 'รถทัวร์', 'ริมน้ำ', 'ลาน', 'สามเหลี่ยม', 'หนือ', 'แย่มาก', 'โน้', 'Dilmah', 'Power', 'mall', 'presentation', 'ขายดี', 'ควรจะเป็น', 'คัพ', 'ดึงดูดสายตา', 'ตามแบบฉบับ', 'รูปแบบ', 'สยามพารากอน', 'แฟก็ธรรม', 'แหวว', 'Nagiya', 'กับแกล้ม', 'การตะโกน', 'ขาดไม่ได้', 'ซา', 'ต้อนรับ', 'ถือได้ว่า', 'นิยม', 'น้ำอัดลม', 'พื้น', 'ยุ่น', 'ส์)', 'หม้อไฟ', 'อิ', 'ฮอน', 'เคา', 'เบะ', 'เพดาน', 'เลิกงาน', '์/', '21', 'kuma', 'terminal', 'กระฉับกระเฉง', 'คล่องแคล่ว', 'น้องใหม่', 'ร้าย', 'วต', 'อืาน', 'เหมือนกับ', 'แทนที่จะ', 'แบ้', 'โด่งดัง', 'G', 'interchange', 'openrice', 'topping', 'ขลั่ก', 'คนอื่นๆ', 'คำชม', 'ชึ้น', 'ตะกอน', 'มองดู', 'ยิ้มแย้ม', 'ระดับชั้น', 'เชื่อถือได้', '24', 'ค่ำ', 'ง่วง', 'ทั้งวัน', 'นักศึกษา', 'บางคน', 'หอบ', 'โน๊ตบุ๊ค', 'ดี้', 'พออาศัย', 'วุ้น', 'แช่เย็น', 'ไข่เยี่ยวม้า', 'คุ้ม', 'ตาลุก', 'ถ้วยกาแฟ', 'แล่', '1000', 'กินที่', 'ชาย', 'ชิค', 'ตร.', 'นี้แหละ', 'น้า', 'ผิดคาด', 'ฟู', 'มีส่วน', 'หน้าเฉย', 'อินเตอร์', 'เว้น', 'เสียงดี', 'แดดเดียว', 'โถ', 'คลุกเคล้า', 'ชากังราว', 'น่ารับประทาน', 'น้องสาว', 'น้ำพริก', 'ย้อย', 'ร่ำ', 'ลำเลียง', 'ลือ', 'สักพัก', 'หนู', 'ออเดอร์', 'เจ่', 'เร้อ', 'เอ้อเฮอ', 'แพร่', 'แม่ค้า', '...พอ', 'คลุก', 'ความชอบ', 'ณวน', 'ดีกรี', 'ตกใจ', 'ทึ่ง', 'เรียกเก็บเงิน', 'ข้างนอก', 'ดึก', 'มืด', 'เที่ยงคืน', 'lord', 'จึ้น', 'รามคำแหง', 'สงวน', 'สระน้ำ', 'สัมมากร', 'เจน', 'เห็นได้ชัด', '---------', 'franchise', 'refill', 'taxi', 'กรึ๊บ', 'กร่าง', 'กลางดึก', 'ข้าวมันไก่', 'ข้าวสาร', 'ครวญคราง', 'คร่ั้ง', 'ชัวร์', 'ซำ', 'ดอกเห็ด', 'ตาย', 'ติ่ว', 'ติ้ม', 'ถู', 'ที่พึ่ง', 'นอน', 'บะหมี่', 'ประสาท', 'พอที่จะ', 'ยอดฮิต', 'รุ้', 'ลี', 'ล้น', 'ล้าน', 'สติ', 'สร่าง', 'สาป', 'สึก', 'สึมๆ', 'หมั่นโถว', 'อตก', 'อารี', 'อู้ฟู่', 'ฮิต', 'ี', 'เก็กฮวย', 'เข่ง', 'เตะ', 'เต็มใจ', 'เนาะ', 'เนื้อร้าย', 'เน้อ', 'เบลอ', 'เปรียบ', 'เมา', 'เยี่ยงอย่าง', 'เว', 'เ้', 'แต', 'แอลกอฮอล์', 'โม่', 'โอวัลติน', 'ใกล', 'ใบหน้า', 'ไถ', 'ไส้กิ่ว', '1.', '2.', '2.5', '4.5', 'คลอง', 'ฆ', 'ณฑล', 'ตลาดน้ำ', 'ถูกที่', 'ปั้มน้ำมัน', 'พุทธ', 'มะยม', 'ลัก', 'เข้าแถว', 'เอส', 'แผงลอย', 'ไฮโซ', '07', '16', 'HuaHin', 'Station', 'ก.ค.', 'ของกิน', 'คุกกี้', 'ดับ', 'ติดไม้ติดมือ', 'ทางซ้าย', 'นั่งร้าน', 'รถไฟ', 'วงใน', 'ว่องไว', 'สถานีรถไฟ', 'สมู๊ตตี้', 'สอบถาม', 'สัปดาห์', 'ออกแบบ', 'เป็นที่นิยม', 'โดยส่วนมาก', 'คห', 'สต.', 'เล็ต', 'เสมอ', 'ไซรัป', 'ดูหรู', 'บึง', 'แรง', 'ซีล', 'ตาลาย', 'นั่ขึ้น', 'น๊า', 'บัวลอย', 'ปิดปาก', 'ศูนย์', 'สะสม', 'หลาก', 'อี๋', 'อึก', 'อูย', 'โฮมโปร', '06', '08', '11.00', '2014', '21.00', '????', '????[', 'By', 'Dow', 'ML', 'Scene', 'Sirirak', 'Story', 'Tea', 'Town', 'Yayoi', '[', ']', 'ari', 'm', 'open', 'sz', 'กิ๊บเก๋', 'ความน่ารัก', 'ซ่อน', 'ราคาแพง', 'หนุบหนับ', 'อิน', 'เจ๋ง', '♥️', '✏️', '✔️', 'FB', 'IG', '^', '_', 'กระเพาะปลา', 'การตกปลา', 'กิโล', 'กุนเชียง', 'ขาดกัน', 'ค้นหา', 'ชิ่ง', 'ดๆ', 'ตกปลา', 'ตะไคร้', 'ตัวจริง', 'ตามคำแนะนำ', 'ที่ทาง', 'นวมินทร์', 'ปาร์ค', 'ฝอด', 'ฟิช', 'ฟู๊ดรส', 'ยังไหว', 'รวบรวม', 'ราวกับ', 'ล่ำ', 'วันเกิด', 'สนุ๊ก', 'สมาคม', 'สรรค์', 'สะดุด', 'สำราญ', 'ส้น', 'ห', 'หมูหยอง', 'ห้องพัก', 'อาสา', 'อุปกรณ์', 'เกมส์', 'เต้าเจี้ยว', 'เที่ยว', 'เป็นเพื่อน', 'เป็นไป', 'เวลาเย็น', 'เอ็น', 'แกน', 'แม่น้ำ', 'แย่', 'ในทันที', 'ให้การ', '500', 'กาด', 'กุน', 'คูเมือง', 'ทรงเครื่อง', 'ปกเกล้า', 'หมูยอ', 'หากิน', 'เชียง', 'เซต', 'เมตร', 'เลิศ', 'ใส่ไส้', 'ได้ประโยชน์', 'ชาวเหนือ', 'น้ำยา', 'แตกต่าง', 'อะคูสติก', 'ขี้เมา', 'ช้อค', 'ตกหลุมรัก', 'รวมไปถึง', 'ลาวา', 'สตรอว์เบอร์รี่', 'อพ', 'เจ็บ', '2900', 'กรวม', 'คำเรียกร้อง', 'จักรยาน', 'จ้ม', 'ฉลุย', 'ฉุด', 'ซอมซ่อ', 'ตรี', 'ตัน', 'ตัวดี', 'ถิ่น', 'นอง', 'น้ำพริกเผา', 'ผอง', 'ผัดฉ่า', 'ฝีมือ', 'พุ่ง', 'ยวด', 'รัน', 'ลิ้ม', 'สวด', 'หมี', 'อำ', 'ัง', 'เข้าเป้า', 'เทศน์', 'เนื้อสด', 'เพิงหมาแหงน', 'เหลว', 'เอ้ย', 'แวบเดียว', 'แฮปปี้', 'โอ้ว', 'ๆกัล', '85', 'กรอ', 'คล่องคอ', 'ดิบดี', 'ผักกาด', 'วัตถุ', 'ฮ่องกง', 'โอ้โห', ')...', '.....', 'Eat', 'It', 'Just', 'กลางคืน', 'ก็ช่าง', 'จิ้มลิ้ม', 'ฉะเชิงเทรา', 'ซ้ำ', 'ดอย', 'ตะหาก', 'ตุ๊กตา', 'ธร', 'มันดี', 'ยิ้ม', 'ลูกสาว', 'หมู่', 'เกล็ด', 'เจอะ', 'แข็งๆ', 'โลโก้', 'โส', '♥)......', 'กระจาย', 'ชั้นใต้ดิน', 'มอ', 'ลัง', 'เสียบ', 'แต่ไกล', 'แบต', '!)', 'Moussceline', 'Twinnings', '^+++^', 'fruit', 'macaron', 'passion', 'จักรพงษ์', 'ดอกไม้', 'ดินสอ', 'หมากรุก', 'กลิ่นอับ', 'ขี่', 'ตะนาว', 'ทุกคืน', 'ท่อระบายน้ำ', 'ธรรมดาๆ', 'นภา', 'นัว', 'ผู้ชาย', 'มอเตอร์', 'รอยยิ้ม', 'วัยกลางคน', 'อับ', 'เป็นเวลา', 'เล่า', 'แถน', 'แพร่ง', 'แอ๊ปเปิ้ล', 'โจ', '       ', '3.', '4.', '5.', 'Blanc', 'Farm', 'Ispanha', 'Kingkong', 'Le', 'Lemon', 'Location', 'Macaroon', 'Mont', 'No', 'Portico', 'Potato', 'Raspberry', 'Sakura', 'Twinings', 'Yakiniku', 'Yuzu', 'farm', 'กระปรี้กระเปร่า', 'กลมกลืน', 'กานา', 'ของดี', 'คลายอารมณ์', 'ความนุ่ม', 'ความสวยงาม', 'ค์บ', 'จับตา', 'จางๆ', 'ฉ่ำ', 'ช(', 'ชุ่มชื่น', 'ซากุระ', 'ซุ', 'ฐาน', 'ดังนี้', 'ตั๋ว', 'ตึ๊บ', 'ทับ', 'ทาร์ต', 'ทำให้เกิด', 'ทิ', 'น)', 'น่าดู', 'น้ำแร่', 'ประกบ', 'ประจำเมือง', 'ประณีต', 'ประดับ', 'ปลื้มใจ', 'ปาด', 'ปุปะ', 'ผลักดัน', 'ผสมผสาน', 'ผิว', 'ผ่อน', 'ฟิล', 'ฟุต', 'มโหฬาร', 'ยุโรป', 'ระยะหลัง', 'ราสเบอร์รี่', 'รู้ใจ', 'ลิ้นจี่', 'วาไรตี้', 'วิเคราะห์', 'สตรอเบอร์รี่', 'สภาพ', 'สอด', 'สังสรรค์', 'หนักหน่วง', 'ออกปาก', 'อัศจรรย์', 'อำพัน', 'อิ่มเอม', 'ฮอง', 'ฮอง)', 'เกาลัด', 'เข้าด้วยกัน', 'เชื่อม', 'เป็นมา', 'เหนื่อยล้า', 'เอร็ดอร่อย', 'แชมเปี้ยน', 'แดงเข้ม', 'แตร์', 'แทรก', 'แหลม', 'แอพพริคอท', 'โมจิ', 'โอกินาวา', 'ใส้', '…', '…..', 'ความขลัง', 'ทดลอง', 'สังขยา', 'โอเลี้ยง', 'ไปรษณีย์', 'I', 'Japan', 'Larb', 'you', 'กลิ่นอาย', 'ข้าวปั้น', 'ชาม', 'ช่างคิด', 'ตคอ', 'ตั๊กแตน', 'บมิ', 'บางนา', 'ปุระ', 'ยำสลัด', 'รีรอ', 'ววว', 'วาซาบิ', 'ว้าว', 'สมะ', 'สะดิ้ง', 'หมอน', 'เกะ', 'เมกะ', 'แมลง', 'โซะ', 'โด้', 'โระ', 'โว', 'ไข่ต้ม', 'ดวงใจ', 'ตามตรง', 'กะทิ', 'ข้าวแกง', 'คำถาม', 'คูปอง', 'ง.', 'งอ', 'ตจ', 'ทองพันชั่ง', 'นู่', 'ปุ๊บ', 'พน', 'มะระ', 'ว.', 'สก', 'อ่างทอง', 'เชีบ', 'เอ', 'โคตร', 'CP', 'กฤษณา', 'ครู่เดียว', 'วันดีคืนดี', 'สมาส', 'อด', 'เข็ง', '        ', 'กล้อ', 'ขาดตอน', 'คล่องตัว', 'น์', 'ประกาย', 'สนามบิน', 'สุข', 'สเต๊ก', 'หรูหรา', 'เกวียน', 'เฟ้รนฟ', 'แกงป่า', 'ๆรส', 'Lamb', 'Satay', 'กะหล่ำ', 'กัว', 'กาน', 'ขลุกขลิก', 'จี', 'จึ', 'ช่', 'ซวน', 'ซาน', 'ซู่', 'ดอก', 'ดึ๋ง', 'บลอค', 'บัว', 'ฟั่น', 'รว', 'ราก', 'วช่วน', 'สะเต๊ะ', 'หมา', 'หยาง', 'หูหนู', 'อุดม', 'ฮัว', 'เข่า', 'เฉ่า', 'เฝิ่น', 'เพี้ยน', 'เสฉวน', 'เส้นก๋วยเตี๋ยว', 'แท้ ๆ', 'โจว', 'โร่', 'done', 'medium', 'rare', 'salmon', 'sirloin', 'steak', 'well', 'ขอโทษ', 'ทั้งสอง', 'ทึ่', 'น้ำตะไคร้', 'บ.', 'บุ', 'บุฟเฟ่ต์', 'ฟเฟ่', 'รร.', 'รังเกียจ', 'วว', 'ออร์เดอร์', 'เนื่องจากว่า', 'แขก', 'แขวนคอ', 'แค้น', 'แทนที่', 'แย่ง', 'ให้โอกาส', '่', 'กระจกใส', 'คํ่า', 'จิ๊บ', 'จุดประสงค์', 'ทยอย', 'บ่ายคล้อย', 'พร้อมเพรียง', 'รับลม', 'ศรีราชา', 'เชี่ยว', 'เตี้ย', 'เทศบาลเมือง', 'เนิน', 'ไอ้', '11.10', '190', '421', 'Brunch', 'bluecheese', 'brunch', 'chop', 'fillet', 'nugget', 'pork', 'potato', 'ser', 'set', 'vat', 'vinegar', 'wedges', 'ฉุน', 'หักคะแนน', 'เซ็ต', 'โย', '่ะ', '...)', 'ขุน', 'ดูแล', 'บอล', 'ร้านเหล้า', 'อึน', 'เซ็ง', 'ข้อมูล', 'ตู้เย็น', 'มอเตอร์ไซค์', 'เละเทะ', 'แฉะ', 'ทำอาหาร', 'สอน', 'Chic', 'P', 'Republic', 'จี้', 'มิ้นท์', 'สกู๊ป', 'สับเปลี่ยน', 'องุ่น', 'อันนั้น', 'ฮา', 'เปร', 'เปรียว', 'เหรียญ', '์เบอร', 'al', 'dante', 'กังวล', 'คับแคบ', 'ตเต้', 'ทั้นั้น', 'นารา', 'น่าเกลียด', 'ปีก', 'พาสต้า', 'สตีม', 'สปาเกตตี', 'ห่อเหี่ยว', 'เหลือเฟือ', 'โหรงเหรง', 'cheese', 'rock', 'salt', 'ซอล', 'ร็อค', 'อันดับ', 'แปลก ๆ', '⭐⭐⭐⭐', 'คค', 'ที่หก', 'สักครั้ง', 'เยือน', 'เหนือสิ่งอื่นใด', 'กรุงเทพฯ', 'การอำนวยความสะดวก', 'ความมัน', 'ซาลาเปา', 'ณ์', 'ด่าน', 'ตังค์', 'ทางด่วน', 'ทานบน', 'บ่าว', 'ประทัง', 'พระรามเก้า', 'ภร', 'อยู่ดี', 'เค็ก', 'Cap', 'Tamp', 'tamp', 'งัั้น', 'ช๊อต', 'ซ๊อต', 'ดื้อ', 'ตั้งแต่แรก', 'ถนัด', 'น้ำร้อน', 'ปิน', 'ฟอง', 'มาส', 'มีผลต่อ', 'ย้ำ', 'สันทัด', 'เฉพาะเรื่อง', 'เสด', 'โถม', 'ชื่น', 'ชุด', 'บะ', 'หู', 'เต้า', 'เบนโตะ', 'ไข่หวาน', 'Grand', 'Japanese', 'Service', 'Set', 'Tekkadon', 'Thonglor', 'Tower', 'VAT', 'charge', 'lunch', 'melt', 'mouth', 'value', 'your', 'กวนใจ', 'คัม', 'จิต', 'ซน', 'ซาบะ', 'ซึมซับ', 'ญาณ', 'ญ่ีปุ่น', 'ดิชั้น', 'ดุ', 'ตุ่๋น', 'น้ำส้มสายชู', 'ประทับตรา', 'ปลาดิบ', 'ฝ่ามือ', 'มันปลา', 'ราชิ', 'วัย', 'วิบัติ', 'สาเหตุ', 'ส๊า', 'หงุดหงิด', 'หน่อไม้', 'อุด้ง', 'ฮี', 'ิญ', 'เครื่องเคียง', 'เน็ต', 'เน้ือ', 'เบิ้ม', 'เปียว', 'เป็นความลับ', 'เป็นหนึ่ง', 'แตงกวา', 'แต้ม', 'แป๊บ', 'โช', 'โอว', 'โออิชิ', 'ใจจริง', 'ไข', 'Crispy', 'Milk', 'กระป๋อง', 'ความเหมือน', 'มเหสักข์', 'สตาร์บัคส์', 'สาทร', 'เปลี่ยนคน', '>\\\\\\\\<', 'PIZZA', 'SCOOZI', '^_____^', 'ยยยย.', 'หนักท้อง', 'าาา', 'เลืิอก', 'แบล็ค', 'แพ็ท', 'กราบไหว้', 'ถืิอ', 'บูชาพระ', 'พิฆเนศ', 'พิธี', 'รด', 'สักการะบูชา', 'ไปกันได้', 'ไหว้', 'buffet', 'carte', 'la', 'เหมือนเดิม', '8.5', 'air', 'mango', 'silom', 'tree', 'ก้างปลา', 'คอมเมนท์', 'คะน้า', 'จี๊ด', 'จ๋อย', 'บ้านเก่า', 'มันฝรั่ง', 'มัสส', 'มั่น', 'รำคาญ', 'รูปถ่าย', 'สมัยโบราณ', 'สุกี้', 'ส้มโอ', 'หนังไก่', 'หวือหวา', 'เขี่ย', 'เจ้าหน้าที่', 'เนื่องด้วย', 'เนื้อไก่', 'เสียเวลา', 'เหี่ยว', 'แกงส้ม', 'โดยทั่วไป', 'ในเครือ', 'ไทยทาน', ';)', 'ขอบ', 'ชิงช้า', 'ดับเบิ้ล', 'สมา', 'อิสลาม', '69', '89', '99', 'Friday', 'กรมประชาสัมพันธ์', 'กระดอง', 'กล้อง', 'ขนาบ', 'ข้างมาก', 'ข้าวอบ', 'จมูก', 'ดูก่อน', 'ท้องขึ้น', 'นกฮูก', 'นอกทาง', 'ปูน', 'ปูอัด', 'ป้ายสี', 'ฝักยาว', 'พาดหัว', 'ฟาก', 'ฟิล์ม', 'ฟ้า', 'ภาพวาด', 'มวล', 'ยังอีก', 'รหัส', 'รับสั่ง', 'รู้กัน', 'ลอฟ์ท', 'ละมุนละไม', 'ล่าง', 'สบายใจ', 'สัมพันธ์', 'หน่วยงานราชการ', 'หม้อดิน', 'หวานเย็น', 'หิมะ', 'อราบิก้า', 'เกรด', 'เชด', 'เซรามิก', 'เท่ห์', 'เบอร์โทรศัพท์', 'เปลืองเงิน', 'เปลือย', 'เปอร์เซ็นต์', 'เพื่อนฝูง', 'เรียงตัว', 'แซม', 'โซเชียล', 'โมเดล', 'ในที', 'ไข่เจียว', 'ไวไฟ', '!!!!!!', '\"พร', '(^_____^~)', '........', '____', 'กล', 'ก้าว', 'คุณชาย', 'จ่ะ', 'ญวน', 'ปีใหม่', 'พล่า', 'ย....', 'ร่ำร้อง', 'ลวกปาก', 'ล่ม', 'หรอ', 'อืมมม', 'อ้อย', 'เด็ดดวง', 'เนือง', 'เเน่', 'เเว๊น', 'แหนม', 'แอ๊พ', 'โห๊ะๆๆ', 'ได้โอกาส', 'place', 'pure', 'ทั่ง', 'น้ำหนัก', 'ราชพฤกษ์', 'สุขภาพ', 'ออร์แกนิค', 'โครงการ', ';', 'waffles', 'ถา', 'นค', 'สวีท', 'สิงห์', 'ฮี้', 'แผน', 'โรแมนติก', 'ต่อย', 'บๆ', 'ปชั่น', 'ผึ้ง', 'เสียว', 'แหล่ง', 'ขยาย', 'ติดกัน', 'พอกับ', 'ราชบุรี', 'เป็นครั้งแรก', 'เผอิญ', 'เวอร์', 'แซบ', 'ติดปาก', 'บริหาร', 'วันอาทิตย์', 'วิศวกร', 'สถาปนิก', 'สะเดา', 'สิงห์บุรี', 'สี่แยก', 'อิ่มแปร้', 'แกงเลียง', 'แมคโคร', 'แมงดา', 'แ่ซ่บ', 'โฮ', '115', 'กระเป๋า', 'กระเป๋าสตางค์', 'ดีแทค', 'นึกดู', 'ปอง', 'พอดีกัน', 'พารากอน', 'ยู่', 'ลำเอียง', 'ส่วนลด', 'อุ๋ม', 'เซ่น', 'เบ็ดเสร็จ', 'เวน', 'เหลือบเห็น', 'แต่บางที', 'แป', 'แสดงความคิดเห็น', 'ใบเสร็จ', 'ไซต์', 'Lover', 'กฏ', 'คลั่ง', 'ืี่', 'เคร่งครัด', 'เอิ่บ:/', 'ของตลาด', 'ขายหน้า', 'คนซื้อ', 'ยอด', 'หรอย', 'เครื่องใน', '198', '399', 'CTW', 'T-T', 'on', 'กางเกงขายาว', 'กิมจิ', 'ขึ้นหน้า', 'คลิป', 'ความร้อน', 'ความหลากหลาย', 'งด', 'จัดวาง', 'จุดยืน', 'ชม.', 'ซีอิ้ว', 'ดอลลี่', 'ดีล', 'ตต้า', 'ที่รวม', 'ที้', 'น้พ', 'บ่น', 'ประตูน้ำ', 'ปุ่ม', 'ฝา', 'พรีเมี่ยม', 'พร้อมหน้า', 'พอน', 'พิซซ่า', 'ฟเฟ่ห์', 'ภู่', 'มีปัญหา', 'มีเสียง', 'ระบาย', 'ล่น', 'สระผม', 'สั่งทำ', 'สาหร่าย', 'สึ', 'สไลซ์', 'หย่อย', 'หลีกเลี่ยง', 'อุ๊ย', '฿)', 'เกาหลี', 'เขิน', 'เครื่องร้อน', 'เจ', 'เช็ด', 'เม้า', 'เย็นชืด', 'เย็นเจี๊ยบ', 'เรนโบว์', 'เล่นพวก', 'เวป', 'เสื้อผ้า', 'เอียน', 'แจ้ง', 'แตกกัน', 'แน่ะ', 'แพลตตินั่ม', 'โกะ', 'โซ', 'ใต้โต๊ะ', 'Cha', 'Complex', 'Silom', 'ข้าวของ', 'ซึ้ง', 'นัทค', 'บุก', 'มาตรา', 'รสนิยม', 'รัม', 'วย', 'อัลมอนด์', 'เฉา', 'เบิล', 'ความเก่า', 'ซ่ึง', 'ท่ี', 'น่ัง', 'น่ัน', 'ป้ายบอกทาง', 'สงฆ์', 'ส่ัง', 'เนม', 'เปล่ียน', '23', 'กาง', 'คึกคัก', 'ซอก', 'ถ่ายเท', 'ทั่วถึง', 'ธรรม', 'ป.ล.', 'ฟัน', 'รต', 'วชิร', 'วัยทำงาน', 'สาธิต', 'ออกร้าน', 'เฉพาะตัว', 'เป็นอย่างมาก', '..ท่', 'AIS', 'Almond', 'Espresso', 'Pearl', 'Terminal', 'จุก', 'ซิม', 'ตรา', 'ทะแม่งๆ', 'นักเรียน', 'สอย', 'เตะตา', 'เป็นหมัน', 'เศร้า', '125', 'ยุง', 'ลำไย', 'วิญญาณ', 'สลัว', 'อง', 'เกีย', 'เต้าฮวย', 'โรตี', 'กระหาย', 'ตาก', 'เกื้อ', 'บ้านนอก', 'พลี', 'Chubcheeva', 'lris', 'AB', 'Floor', 'Kitchen', 'O', 'Third', 'Type', 'Vista', 'กรุ๊ป', 'การเผาผลาญ', 'กุ้ย', 'ข้าวกล้อง', 'ข้าวคลุกกะปิ', 'ข้าวยำ', 'ช่าย', 'ซัน', 'ต่ำ', 'บก', 'ประจำวัน', 'ปั้นสิบ', 'พฤหัส', 'พลาซ่าแอทธินี', 'มังสวิรัติ', 'สมควร', 'หอมมะลิ', 'โปรตีน', 'ไก่งวง', 'ดอกบัว', 'รม', 'เปน', 'เห', 'เอน', '      ', 'ก๊', 'คาด', 'งม', 'ซ้อม', 'นบ', 'บลว์', 'ปลั๊ก', 'ยั้น', 'ยาดา', 'รร', 'ว๊าก', 'องค์ประกอบ', 'เครื่องใช้ไฟฟ้า', 'แกรมมี่', 'แต่เช้า', 'แพ', 'TT', 'ete', 'wi-fi', 'กระบอก', 'กวางตุ้ง', 'ขมิ้น', 'ข้าวราดแกง', 'ที่ว่าง', 'บล็อก', 'พื้นเมือง', 'มล', 'มันแกว', 'สมุด', 'เหมียง', 'เหมือนว่า', 'โรตีสายไหม', 'กรรมวิธี', 'ก๊วย', 'ตัวเรา', 'ถูกหลักอนามัย', 'ท้าย', 'บำรุง', 'ฟอ', 'รถกระบะ', 'รังนก', 'เจ้าเก่า', 'เต้าทึง', 'แป๊ป', 'แป๊ะ', 'ขจร', 'ด๊อกเตอร์', 'ตบแต่ง', 'ป่า', 'ผักหวาน', 'พื้นบ้าน', 'อนุบาล', 'โก๊ะ', 'ไข่ปลา', '++', 'Starbuck', 'ล้าย', 'คลิก', 'พริกหยวก', 'ราดหน้า', 'ร์คช๊อป', 'สะบัดช่อ', 'หนืด', 'เทศ', 'เบื่ออาหาร', 'เยี่ยมยอด', 'ไม่เลว', '2548.', 'Follow', 'Instagram', 'ioonbubbletea', 'us', 'เป็นน้ำ', 'แคนตาลูป', 'ไออุ่น', 'Hong', 'King', 'Kong', 'M', 'S', 'Saap', 'Sukishi', 'Wawa', 'Yum', 'การบริหาร', 'สโลแกน', 'เจลลี่', 'เชื่อมือ', 'เป็นหลัก', 'เผือก', 'เลวร้าย', 'โดยที่', 'SakeTaste', 'community', 'creative', 'fast', 'food', 'location', 'logistics', 'price', 'retro', 'self-service', 'up', 'กำกับ', 'กึ่ง', 'ขาออก', 'ความสด', 'ความสะดวก', 'ชั้นนำ', 'ซี่', 'ด้อย', 'ตั้งชื่อ', 'ทรัพยากรบุคคล', 'ทุนเดิม', 'นิคมอุตสาหกรรม', 'นึกไม่ออก', 'น้ำเต้าหู้', 'บางปะกง', 'บ่นว่า', 'บ่อวิน', 'ประชุม', 'ปลวก', 'พฤติกรรมผู้บริโภค', 'พัง', 'มัลลิกา', 'มาแรง', 'ยิง', 'รอเวลา', 'ระยอง', 'ริ์น', 'อ.', 'อบรม', 'อีส', 'เข้าโรง', 'เข้าใจง่าย', 'เส้นทาง', 'แคชเชียร์', 'โครงกระดูก', 'โรงงาน', 'โรงหนัง', 'โรงเตี๊ยม', 'ใจเสาะ', 'ๆคง', '•', '..แง้ๆๆๆๆ????????????', '22.00', 'Bangkapi', 'Fl', 'Fuku', 'Swensens', 'กะปิ', 'งๆ', 'ต๊ะ!!!', 'ทำผิด', 'บง', 'วังทองหลาง', 'สงสาร', 'อนาถใจ', 'โตเกียว', 'ๆๆๆ????', 'ขนมจาก', 'จ.', 'ซ้่าย', 'ทางทิศใต้', 'ที่ระลึก', 'น่าน', 'บอกทาง', 'ปุ้ม', 'ยึด', 'วิทยาลัย', 'หลวง', 'อีซูซุ', 'เกษตร', 'เครื่องใหญ่', 'เทคนิค', 'เลน', 'เลี้ยวขวา', 'เสื้อ', 'ใจคอ', 'จะแจ้ง', 'ยรร', 'สุขภาพจิต', 'เปิดไฟ', 'เวญ', 'โดยสรุป', '••', 'กม.', 'กระดาษ', 'กระติบ', 'กระมัง', 'กรุณา', 'กลับรถ', 'กัร', 'กัลปพฤกษ์', 'กิโลเมตร', 'ขาไก่', 'ขี้เกรงใจ', 'ข้าราชการ', 'ครู', 'ค่ย', 'จี๋', 'ฉุย', 'ดัก', 'ดังที่', 'ตราด', 'ตลาดสด', 'ตากแดด', 'ตุ ๆ', 'ถั่วเหลือง', 'ถุงพลาสติก', 'ทางขวามือ', 'ที่ว่าการอำเภอ', 'น่ากลัว', 'บรรจง', 'บ่อ', 'ประหลาด', 'ปลูก', 'ปากน้ำ', 'ปากเปล่า', 'ผงชูรส', 'ฝ๊่น', 'ม.', 'ยกนิ้ว', 'รวมตัว', 'รวย', 'รอบคอบ', 'รับรู้', 'สมุทรปราการ', 'สำนึก', 'หลา', 'หัวหน้า', 'หัวหน้างาน', 'เข้าที่', 'เทพารักษ์', 'เบนซ์', 'เม้ง', 'เว้นแต่', 'เส้นหมี่', 'เอแบค', 'เฮ้อ', 'แกะ', 'แฟรนไชส์', 'แอนตี้', 'โปงลาง', 'ใช้แล้ว', 'ใบสั่ง', 'ไลค์', '09.00', '153', '17.30', 'ง่ะ', 'ชวา', 'บ่ายโมง', 'ปร', 'ฟิ้ววว', 'มี่', 'สา', 'เข้างาน', 'เด้อ', 'เวลาเปิด', 'แค๊ป', '>_<', 'service', 'กรุง', 'ปาย', 'เซร็ง', 'โค่ย', 'ขาวสะอาด', 'พาสเทล', 'เอ้าท์ดอร์', 'Oriental', 'Princess', 'นัน', 'รายรอบ', 'ร้านต้นไม้', 'ล้างปาก', 'หน่ำ', 'เช้านี้', 'โดยบังเอิญ', 'ไม้ดอก', 'ไม้ประดับ', 'กุ้ง', 'คละ', 'ญี่', 'ถั่วงอก', 'ทุกชนิด', 'นอบ', 'นุ่ม', 'ปูทะเล', 'ปุ่น', 'พิมพ์', 'รายการอาหาร', 'หมูกรอบ', 'หมูหัน', 'หอยนางรม', 'หูฉลาม', 'ห่า', 'อยู่', 'อ่อ', 'ฮกเกี้ยน', 'เปื่อย', 'เห็ดโคน', 'แปะก๊วย', 'ไอโฟน', 'คอร์ด', 'ง่า', 'ชั้นล่าง', 'ตามประสา', 'นร', 'พาราไดซ์', 'พาร์ค', 'สดี', 'เบิ้ล', '10.00', '17.00', '319', '349', 'Buffet', 'MK', 'net', 'กฎ', 'กระด้าง', 'ขนมจีบ', 'ขัน', 'จิ๊ก', 'ชืด', 'ช่างมันเถอะ', 'ตามระเบียบ', 'ถูกปรับ', 'ถูไถ', 'ทับทิม', 'นำจับ', 'น่าอร่อย', 'ปลอม', 'ปาร', 'พรืด', 'พูดเล่น', 'ฟิวเจอร์', 'มิเช่นนั้น', 'ระเบียบการ', 'รังสิต', 'วันทำการ', 'วางแผน', 'ส่งความสุข', 'หมี่หยก', 'หมูแดง', 'หม้อน้ำ', 'หาว่า', 'อันเป็น', 'ฮะ', 'เชอร์เบต', 'เดือด', 'เด็กน้อย', 'เตือน', 'เที่ยงๆ', 'โฉ่', 'การซ่อมแซม', 'ซ่อมแซม', 'เหนียวแน่น', 'blueberry', 'choc', 'chocolate', 'coconut', 'crepe', 'mousse', 'strawberry', 'ความตื่นตัว', 'คั้น', 'คุ้กกี้', 'ชัญ', 'ยามเช้า', 'อังกฤษ', 'อัญ', 'เตย', 'เปลญวน', 'เปิง', 'เอนตัว', 'แฟก็หอม', 'Dice', 'Star', 'ก่วย', 'หาอาหาร', 'เตี่ยว', 'ต้า', 'บรรเลง', 'สมู้ทตี้', 'เป็นทางการ', 'Cuisine', 'Twins', 'cosy', 'นึ้', 'พระตำหนัก', 'สถานีวิทยุ', 'สุดถนน', 'เจา', 'เอสเปรสโซ่', 'แระ', 'ป้า', 'ยาคู', 'ร้านขายขนมปัง', 'ร้านเครื่องเขียน', 'ล์', 'องค์', 'เลี้ยยว', 'เห้นคน', '์ว', '!!!)', 'recommend', 'การปรับปรุง', 'กาล', 'ขุนน้ำขุนนาง', 'คงไว้', 'ความนิยมชมชอบ', 'ความเป็นมา', 'ชาววัง', 'ตำนาน', 'ตำรับ', 'ถ่ายทอด', 'ธรรมการ', 'ธรรมเนียม', 'น่าประทับใจ', 'ประวัติศาสตร์', 'ปลาดุก', 'ผู้ดี', 'ผู้เขียน', 'พริกขิง', 'พาล', 'ฟเฟิ้ล', 'มัสมั่น', 'ยุค', 'ราน', 'ลิง', 'วัฒน', 'หลายปีดีดัก', 'อวน', 'เข้าชม', 'เต็มอิ่ม', 'เปี่ยม', 'เพลา', 'เรือน', 'เรือนรับรอง', 'เสื่อมคลาย', 'แคม', 'แดด', 'แดน', 'แผ่ขยาย', 'แผ่นดิน', 'ไกลโพ้น', 'ไม่เพียงแต่', 'ทีรามิสุ', 'บูลเบอ', 'มัฟฟิ่น', 'Sab', 'ขวามือ', 'ขี้เล่น', 'คอนแวนต์', 'ฝนตก', 'สังเกตเห็น', 'สีลม', 'เจ้าที่', '023919784', '023919785', '036399270', '036399271', '036399272', '036399273', '036399274', '10110', '63', 'Room', 'คอนเสิร์ต', 'ซีนีเพล็กซ์', 'ทำการ', 'ปาร์ตี้', 'ร่วมงาน', 'วัฒนา', 'สนุกสนาน', 'เพจ', 'เหนือ', 'แกงค์', 'แอดมิน', 'แฮ่ะ', 'โขนง', '๕๕๕', 'Gusto', 'กระแส', 'คิดราคา', 'พี่ชาย', 'เนอ', 'homemade', 'mocha', 'Jet', 'คงเส้นคงวา', 'คำหยาบ', 'ทางผ่าน', 'นั้ง', 'ปักษ์ใต้', 'ผูก', 'รนด', 'วัยหนุ่มสาว', 'หน้าแหก', 'หุ้น', 'เกื้อหนุน', 'เติมน้ำมัน', 'แฟ', 'ไตร', '้ป็น', '์ท', '๒', '๒๐๐', '๘๐', 'กรด', 'กระชุ่มกระชวย', 'กระตุ้น', 'กระเพาะปัสสาวะ', 'ความอยาก', 'จินต', 'ตอ', 'ปัสสาวะ', 'ปิ', 'ผิวหนัง', 'ผู้ป่วย', 'ผ่าตัด', 'พักฟื้น', 'ฟอสฟอรัส', 'ภาวะ', 'มีประโยชน์', 'ยูริค', 'รอย', 'รูปทรง', 'ร่างกาย', 'วิตามิน', 'สารอาหาร', 'หรา', 'อ่อนเพลีย', 'เกาต์', 'เจริญอาหาร', 'เป็นกรด', 'เป็นสาเหตุ', 'เหล็ก', 'เอ็นไซม์', 'แคลเซียม', 'โคล่า', 'โด', 'โปแตสเซียม', 'โรค', 'ไขข้อ', '270', 'ZEN', 'ชื่นชอบ', 'พริบตา', 'ยอดนิยม', 'เซ็ท', 'เดินไปเดินมา', 'เสียแต่', 'สถานที่จอดรถ', 'สรุก', 'ะ', 'ึะ', 'เแา', '28', 'Bread', 'Hut', 'Kaya', 'Pizza', 'Talk', 'Teh', 'box', 'central', 'กลืน', 'คอมเมนต์', 'ติดคอ', 'ปี๊', 'รู้เรื่อง', 'ร่าง', 'หลืบ', 'อัพเกรด', 'อั๊ว', 'เจ๊ก', 'เต๊ะ', 'เท่าตัว', 'ใม่', 'ให้อาหาร', 'บุญ', 'o', 'งวง', 'จิก', 'ตตต', 'ตื่นเต้น', 'ประยุกต์', 'ปะทะคารม', 'มังคุด', 'ม๊วงงง', 'ลองของ', 'ศิลปิน', 'แหล', 'โรคกลัวน้ำ', 'หมดตัว', 'เท่าๆ', 'เปิดเทอม', 'โดยไม่รู้ตัว', 'ให้ราคา', 'นมข้น', 'มหิดล', 'ีก', 'เก๊', 'เหม็นคาว', 'Black', 'Canyon', 'ซิตี้', 'ดีเยี่ยม', 'นำเสนอ', 'ยินดี', 'ร่วมสมัย', 'สัดส่วน', 'อเมริกัน', 'เครื่องแกง', 'เสี้ยว', 'me', 'swensen', 'จ์', 'ฟคอฟ', 'ฟัด', 'รองรับ', 'รอบด้าน', 'เชอรี่', 'โวยวาย', 'ไฮ', 'บี๋', 'ยกแก้ว', 'ร้องเพลง', 'ลฟ', 'หน่อ', 'ฮัม', 'เซอร์วิส', 'กะเพรา', 'ข', 'ที่พัก', '164', '85.', 'nice', 'yes', 'คี', 'ตอนกลางวัน', 'บั้ก', 'ราม', 'ล.', 'เพลส', 'เฟค', 'ขอให้', 'ทดแทน', 'พ่อค้า', 'สตางค์', 'ออกแรง', 'ื', 'เจือจาง', 'แคบ', 'ไมา่', 'shot', 'tiramisu', 'ม่', 'สวยหรู', 'อย่างไรก็ตาม', 'แมลงวัน', 'จ๊วฟๆ', 'บูด', 'ปวดหัว', 'รู้ตัว', 'วี่+', 'กลอย', 'คัน', 'ทางใต้', 'ปละ', 'โคก', '=^^=', 'watson', 'งเ', 'ชื้น', 'ประเดี๋ยวประด๋าว', 'พักเหนื่อย', 'เช็ค', 'เฟรช', 'เเค่', 'เเถว', 'เเบบสมูทตี้', 'java', 'พบปะ', 'ยั่วยวน', 'ตำหรับ', '240', '533', '=.=!', 'Amari', 'Banana', 'Blueberry', 'Fettuccine', 'Fruit', 'KTC', 'Pasta', 'Rasberry', 'Residence', 'Smoke', 'Smoothie', 'Straberry', 'Tart', 'Yogurt', 'custard', 'กก.', 'ข้างหน้า', 'คุณยาย', 'งวด', 'ชักสีหน้า', 'ป็น', 'ยย....', 'เมาท์', 'แพร์', 'ไขมัน', 'ไม๊', 'ๆ..', '็ม', '/คน', '499', 'OISHI', 'คัฟ', 'ค็อตต้า', 'จีบ', 'ช์', 'ตามอัธยาศัย', 'บาบี', 'ปลาไหล', 'ปัน', 'ฟท์', 'มังกร', 'หนีบ', 'เล็๋กๆ)', 'โสะ', 'น่ำ', 'Court', 'Empire', 'Food', 'L', 'Oasis', 'True', 'upsize', 'ฟิต', 'ภาพรวม', 'ยิ้มแย้มแจ่มใส', 'สม่ำเสมอ', 'ออฟ', 'ๆคน', '=.=)', '>__<', '^__^', 'กรณี', 'ก่อนอื่น', 'ขนมครก', 'ข้าวหมูกรอบ', 'ติดจะ', 'ทึมๆ', 'ผิดพลาด', 'พอดู', 'ย่ำแย่', 'รสเด็ด', 'ส่งท้าย', 'ส์คง', 'หุหุ', 'อ๊ะ', 'เตียกุ่ยฮวด', 'แม่ศรี', 'ๆ!', 'ถั่วพู', 'อ่อม', 'ขอตัว', 'คำๆ', 'เสียอารมณ์', 'แก้ขัด', 'กร', 'กรู', 'มีหน้า', 'วิวัฒนาการ', '130', '145', 'ความวุ่นวาย', 'ชุ', 'ญเนียส', 'ท้องถนน', 'ปาล์ม', 'พลัด', 'หรืจะ', 'เคียง', '!!!!!', '18.00', '20.00', '20.30', '2000', '22.30', '55555', '????)', 'Angus', 'Asiatique', 'Bangkok', 'Bone-in', 'Fried', 'Grain', 'Grilled', 'Lime', 'Mango', 'Mixed', 'Nua', 'Panang', 'Pla', 'Pomelo', 'Sunset', 'Tiger', 'Tom', 'appetisers', 'beef', 'by', 'course', 'crispy', 'cruise', 'curry', 'dinner', 'dress', 'fed', 'fries', 'fusion', 'garlic', 'goong', 'lime', 'main', 'makua', 'namtok', 'night', 'noodles', 'organic', 'prawn', 'private', 'pudding', 'rib', 'roll', 'sea', 'slow-cooked', 'sorbet', 'spring', 'vegetable', 'yum', 'กรกฎาคม', 'การบูร', 'การพา', 'คนต่างชาติ', 'ค่าเสียหาย', 'ชื่นชม', 'ซังฮี้', 'ตลอดทาง', 'ต่างชาติ', 'ทร', 'ทางเรือ', 'ท้ายสุด', 'นข้ม', 'นั่ั่ง', 'บล๊อค', 'ผ้าเย็น', 'ฝั่งแม่น้ำ', 'ฝาครอบ', 'พวงมาลัย', 'พูดคุย', 'ฟินนนนนน', 'มมม', 'มีชื่อเสียง', 'มีด', 'ย่อมๆ', 'รศนีย', 'ร่วมโต๊ะ', 'ล่วงเลย', 'ศิริราช', 'สลับ', 'สาก', 'ออกเรือ', 'ืิอ', 'เจ้าพระยา', 'เปี๊ยะ', 'เป๊าะ', 'เพลิดเพลิน', 'เพื่อนสนิท', 'เหม็นเขียว', 'แหะ', 'โสด', 'การทำงาน', 'ขายบริการ', 'ทำงานต่อ', 'สุภ', '–', 'นคะ', 'ปับ', 'ปุบ', 'ป่ั', 'ิ', '230', '250', 'ก้สด', 'ขั้นบันได', 'งค็อกๆ', 'ซัลมอน', 'ตั่ง', 'ถือโอกาส', 'ท่าจะ', 'พอง', 'ระอุ', 'ร้อนที่', 'สุดท้ายนี้', 'หาร', 'อะโวคาโด', 'เบส', 'เอาการ', 'แบบบาง', 'แหวกแนว', 'โขง', 'โรล', '(คน', 'way', 'จันทบุรี', 'จันท์', 'จุ๊ย', 'ดีใจ', 'ต่อเติม', 'บล็อค', 'บายศรี', 'ประทับ', 'พรุ่งนี้', 'สมดุล', 'ส่วนประกอบ', 'เซนส์', 'เอือมระอา', '175', 'คีบ', 'ซี๊ด', 'สักที', 'สูงโปร่ง', 'เซ็ป', 'แปลกที่', 'โม', 'กระแทก', 'ช้ัน', 'ทบ', 'กลางค่ำ', 'ขรึม', 'นอกบ้าน', 'ปลุก', 'มลังเมลือง', 'อาหารหนัก', 'เป็นได้', '็', 'ร้่าน', 'ส.', 'sf', 'จืดชืด', 'บู๊ท', 'วาน', 'ออนซ์', 'เพลีย', 'เพียว', '>..<)', 'Blended', 'Caramel', 'Chubby', 'การปรับพื้น', 'ตระเวน', 'น้ำดี', 'ปราบ', 'มุ', 'รถเมล์', 'รับแขก', 'ศค', 'ศึก', 'สมุทร', 'อารมณ์ดี', 'ฮิ', 'เป็นสัดเป็นส่วน', 'เมล์', '/คน)', '1.45', '479', 'กิ(', 'ตามนั้น', 'สเปเชี่ยล', 'เข็น', 'แมงกะพรุน', 'ชยา', 'ทิพย์', 'ลิต', 'ศิลปากร', 'หอพัก', 'เติ้ล', 'ไพ', 'ทอดมัน', 'หัวปลี', 'เห้ย', '044', '18', '297', 'house', 'smoke', 'กรีน', 'กินขาด', 'จัน', 'ชีวิต', 'ที่กล่าวมา', 'ที่เที่ยว', 'ธนะ', 'ผา', 'ฝันหวาน', 'ืี่อยๆ', 'เขาใหญ่', 'ghost', 'กำ', 'ขัับ', 'ตู', 'นก', 'พักใหญ่', 'มัย', 'สุนัข', 'หมูน้ำ', 'เกลื่อน', 'เปรี้ยวจี๊ด', 'เฟ้ย', 'เฮ้ย', 'แคป', \"'\", '330', 'กลายเป็น', 'ความแรง', 'ซไลด์', 'ดับกลิ่น', 'ตัดกำลัง', 'ติดตัว', 'ถัดไป', 'ท่อ', 'พูน', 'รัง', 'ราเมน', 'ลูกอม', 'หัก', 'อ่าง', 'เดี่ยว', 'เนื้อที่', 'เบุฟ', 'เลี้ยน', 'เอะอะ', '์ย', '34', 'Bakery', 'Hot', 'Restaurant', 'Yummy', 'น้อยลง', 'พันธ์', 'อมร', 'เสนานิคม', 'การสกัด', 'การอนุรักษ์', 'ขอน', 'ขั้นตอน', 'ความหมาย', 'คอนเซปต์', 'คัดสรร', 'จนได้', 'ต้นน้ำ', 'ถาง', 'ปาง', 'พิถีพิถัน', 'พืช', 'มีชีวิต', 'อีกต่อไป', 'เชี่ยวชาญ', 'เสพติด', 'ขึ้นฉ่าย', 'คนรู้จัก', 'ความประสงค์', 'จู๋', 'จ๊อม', 'ธัญพืช', 'นิค', 'ผักสลัด', 'ยกตัวอย่างเช่น', 'ร์คช้อบ', 'ล่อน', 'เพ้นท์', 'โจ้', 'โอกะ', '**ช๊อค', 'กระดาษแข็ง', 'ขิ้น', 'งับ', 'ชั้นนอก', 'ช่่าง', 'ดาร', 'ตบะแตก', 'บ้าเห่อ', 'มาน', 'มาย', 'ละเลียด', 'หมดอายุ', 'เคลีย', 'เจลาติน', 'เบอร', 'ใช้เวลานาน', '์คช๊อก', 'ดดดดด', 'ดึ๋งดั๋ง', 'ทำทาน', 'ทำเอา', 'ใบไม้', '????????', 'Airport', 'Herma', 'airport', 'fat', 'link', 'trans', 'คำกล่าว', 'จับใจ', 'ถามหา', 'ภัย', 'ลาดกระบัง', 'สัญจร', 'ห่วง', 'เทียม', 'แอม', 'โผล่', 'ในนาม', '21.30', '9.30', 'Pupe', 'ดีเจ', 'วนิดา', 'แคร์', 'love', 'เห้ยยย!!', 'ช้อป', 'ล้ะ', 'อนู่', 'อ้ะ', '11.30', '159', 'Ebi', 'Sushi', 'california', 'tempura', 'voucher', 'คนดัง', 'ช่วยชีวิต', 'นิเวศน์', 'น้ี', 'ป.', 'รัชดา', 'ลดเหลือ', 'ล้ำลึก', 'เกลียด', 'เกิ๊น)', 'เหยาะ', 'รค', 'รัชโยธิน', 'อลล์', 'อี้', 'เฟื่อง', 'เมย์', 'เฮเลน', 'แฉ', 'แหลก', 'ไม้อัด', 'ท่ีผม', 'บาดคอ', 'ฝ้าย', 'มหาราช', 'เลก', 'shop', 'ทัศนศึกษา', 'น้ำสะอาด', 'ผักกาดดอง', 'ฝาน', 'ยอดเยี่ยม', 'รับรางวัล', 'หน้าหนึ่ง', 'เซียว', 'เรียว', ')(', '...รส', 'barbe', 'lao', 'papa', 'กระปุก', 'การตาม', 'น้ำตาลก้อน', 'บาร์บี้', 'สายไหม', 'แพคเกจ', '้)', 'พีค', 'เข้าออก', 'โก๋', 'dark', 'roast', 'การต้ม', 'จำนวนมาก', 'ญ', 'ด้วยมือ', 'ทางขึ้น', 'ฝห้', 'ฟอน', 'ยาย', 'ฮ่วย', 'เดิ้น', 'เต็น', 'แฟก็ชง', 'แฟก็บด', 'Eatery', 'Table', 'Tinee', 's', 'ความบังเอิญ', 'จิงจัง', 'ลาซานญ่า', 'สตูดิโอ', 'หน้าจอ', 'เมลเบิร์น', 'เวิร์คช็อป', 'ไ', '(*>ω<*)', '(つω', ')+', 'cats', 'no', 'ก<', 'คึก', 'ค่าตัว', 'หาง', 'อุ้ม', 'เข้าขั้น', 'เป็นเบือ', 'เอาเรื่อง', '｀)', 'ขายต่อ', 'ซ่ง', 'ตาโต', 'ปั๊มน้ำมัน', 'เล็กๆ น้อยๆ', 'ค๊าาาาาา...', 'นั่้ง', 'รย', 'ลางเนื้อชอบลางยา', 'อย่างว่า', '081', '23.30', '6878', 'ขสมก.', 'ข้ามถนน', 'ฉวัดเฉวียน', 'ถ่ายภาพ', 'บรรจบ', 'ปลอดภัย', 'ปาน', 'ผังเมือง', 'รอดตาย', 'รัชดาภิเษก', 'วันเวย์', 'วัสดุก่อสร้าง', 'อ.ส.ม.ท.', 'เดินรถ', 'เรียกชื่อ', 'เหม่งจ๋าย', '“รถ', 'basic', 'วันทำงาน', 'ของเค็ม', 'ช่ำ', 'ท้องว่าง', 'นุง', 'หรือปล่าว', 'เอิ๊กๆ', 'แสบท้อง', 'sometime', 'คำนึง', 'ซัม', 'ธีม', 'ปรีดีพนมยงค์', 'ปัจจุบันทันด่วน', 'ปีก่อน', 'มินิ', 'สัญลักษณ์', 'เม้าท์', 'ไทม์', '์กช้อค', 'Ideo', 'UOB', 'Verve', 'กุ้งชุบแป้งทอด', 'ขี้เกียจ', 'คนใต้', 'ซีรีส์', 'ทุกครั้งที่', 'ท้อ', 'นท', 'ปลาสลิด', 'ปิ้ล', 'ฝูง', 'ฟา', 'มะกะโรนี', 'รง', 'วสท์', 'วิลิศมาหรา', 'วิเศษ', 'สะตอ', 'เมื่อนานมาแล้ว', 'เฮือก', 'แครอต', 'แทรกซึม', 'แน่ชัด', 'แน่นขนัด', '์ฟู๊ด', 'boncaf', 'é', 'กังหันลม', 'ปิโตรนาส', 'พีช', 'สําคัญ', 'หัวใจ', 'เหนื่อยอ่อน', 'eggs', 'poached', 'กระดาน', 'กระถาง', 'ชาวไทย', 'บี', 'พริ้ว', 'เบค', 'แม่น', 'ไข่ขาว', 'ไข่น้ำ', 'ไข่แดง', 'จุดนัดพบ', 'ตราประทับ', 'ติดต่อ', 'สองชั้น', 'หัวมุมถนน', 'แตา', 'แสดงออก', '.(', '235', 'Fresh', 'Mart', 'TPBS', 'คอมเพล็กซ์', 'ค๊า', 'ทางเท้า', 'ปาดเหงื่อ', 'หมู่เฮา', 'อีหลี', 'เฮา', 'บแรง', 'สวนทาง', 'อัต', 'คณะ', 'นนน', 'สุขใจ', 'ห้องเรียน', 'ออม', 'อาจารย์', 'Amatissimo', 'Au', 'Bon', 'Pain', 'design', 'นิสิต', '๑', 'ซีคอน', 'ทวิ', 'เบ้อเริ่ม'])\n"
          ],
          "name": "stdout"
        }
      ]
    },
    {
      "cell_type": "code",
      "metadata": {
        "id": "DYTyGYwmDjBP"
      },
      "source": [
        "gensim_corpus = [dictionary.doc2bow(text, allow_update=True) for text in texts]\n",
        "word_frequencies = [[(dictionary[id], frequence) for id, frequence in couple] for couple in gensim_corpus]"
      ],
      "execution_count": 9,
      "outputs": []
    },
    {
      "cell_type": "markdown",
      "metadata": {
        "id": "wpHHV5XOA9Cf"
      },
      "source": [
        "# **5. Topic Modeling**"
      ]
    },
    {
      "cell_type": "code",
      "metadata": {
        "colab": {
          "base_uri": "https://localhost:8080/"
        },
        "id": "tiwUc_aZDn3Y",
        "outputId": "0ecdf28f-6718-4c60-a9ca-4ebe32a22638"
      },
      "source": [
        "num_topics = 3\n",
        "chunksize = 4000 # size of the doc looked at every pass\n",
        "passes = 20 # number of passes through documents\n",
        "iterations = 50\n",
        "eval_every = 1  # Don't evaluate model perplexity, takes too much time.\n",
        "\n",
        "# Make a index to word dictionary.\n",
        "temp = dictionary[0]  # This is only to \"load\" the dictionary.\n",
        "id2word = dictionary.id2token\n",
        "\n",
        "%time model = gensim.models.LdaModel(corpus=gensim_corpus, id2word=id2word, chunksize=chunksize, \\\n",
        "                       alpha='auto', eta='auto', \\\n",
        "                       iterations=iterations, num_topics=num_topics, \\\n",
        "                       passes=passes, eval_every=eval_every)"
      ],
      "execution_count": 23,
      "outputs": [
        {
          "output_type": "stream",
          "text": [
            "CPU times: user 7.07 s, sys: 95.3 ms, total: 7.17 s\n",
            "Wall time: 7.12 s\n"
          ],
          "name": "stdout"
        }
      ]
    },
    {
      "cell_type": "code",
      "metadata": {
        "colab": {
          "base_uri": "https://localhost:8080/",
          "height": 881
        },
        "id": "SN22c2S7Dqzi",
        "outputId": "0fe62a83-25bd-40ff-ff38-8e6d15a50957"
      },
      "source": [
        "pyLDAvis.gensim_models.prepare(model, gensim_corpus, dictionary)"
      ],
      "execution_count": 24,
      "outputs": [
        {
          "output_type": "execute_result",
          "data": {
            "text/html": [
              "\n",
              "<link rel=\"stylesheet\" type=\"text/css\" href=\"https://cdn.jsdelivr.net/gh/bmabey/pyLDAvis@3.3.1/pyLDAvis/js/ldavis.v1.0.0.css\">\n",
              "\n",
              "\n",
              "<div id=\"ldavis_el2211396408947152162541568125\"></div>\n",
              "<script type=\"text/javascript\">\n",
              "\n",
              "var ldavis_el2211396408947152162541568125_data = {\"mdsDat\": {\"x\": [0.019180462558358403, -0.019095090487468477, -8.537207088991855e-05], \"y\": [-0.01020886286131685, -0.010346405945038996, 0.020555268806355845], \"topics\": [1, 2, 3], \"cluster\": [1, 1, 1], \"Freq\": [36.251698087569565, 35.50908868976682, 28.239213222663608]}, \"tinfo\": {\"Term\": [\"\\u0e01\\u0e01\", \"\\\"\", \"\\u0e1c\\u0e21\", \"\\u0e01\\u0e32\\u0e41\\u0e1f\", \":\", \"\\u0e1e\\u0e32\\u0e22\", \"\\u0e40\\u0e1a\\u0e2d\\u0e23\\u0e4c\\u0e40\\u0e01\\u0e2d\\u0e23\\u0e4c\", \"\\u0e17\\u0e32\\u0e19\", \"\\u0e41\\u0e21\\u0e27\", \"\\u0e41\\u0e0b\\u0e48\\u0e1a\", \"/\", \"\\u0e2a\\u0e31\\u0e48\\u0e07\", \"\\u0e41\\u0e15\\u0e07\\u0e42\\u0e21\", \"\\u0e40\\u0e19\\u0e37\\u0e49\\u0e2d\", \"\\u0e14\\u0e39\", \"\\u0e2b\\u0e21\\u0e39\", \"with\", \"\\u0e40\\u0e25\\u0e30\", \"\\u0e08\\u0e35\\u0e19\", \"\\u0e0b\\u0e2d\\u0e19\", \"\\u0e01\\u0e33\\u0e25\\u0e31\\u0e07\\u0e14\\u0e35\", \"=\", \"\\u0e04\\u0e23\\u0e31\\u0e27\\u0e0b\\u0e2d\\u0e07\", \"\\u0e1f\", \"5\", \">\", \"\\u0e01\\u0e32\", \"\\u0e2b\\u0e34\\u0e19\", \"\\u0e41\\u0e19\\u0e30\\u0e19\\u0e33\", \"\\u0e42\\u0e19\\u0e48\", \"\\u0e41\\u0e21\\u0e27\", \"\\u0e23\\u0e31\\u0e07\\u0e19\\u0e01\", \"\\u0e19\\u0e48\\u0e2d\\u0e07\", \"\\u0e40\\u0e40\\u0e25\\u0e49\\u0e27\", \"Cha\", \"\\u0e41\\u0e2b\\u0e19\\u0e21\", \"\\u0e40\\u0e40\\u0e15\\u0e48\", \"\\u0e21\\u0e32\\u0e15\\u0e23\\u0e32\", \"\\u0e04\\u0e23\\u0e39\", \"Original\", \"\\u0e02\\u0e49\\u0e32\\u0e07\\u0e19\\u0e2d\\u0e01\", \"\\u0e40\\u0e19\\u0e37\\u0e2d\\u0e07\", \"\\u0e41\\u0e21\\u0e04\", \"\\u0e2d\\u0e49\\u0e2d\\u0e21\", \"\\u0e2b\\u0e21\\u0e27\\u0e14\", \"\\u0e40\\u0e21\\u0e35\\u0e22\", \"Big\", \"\\u0e1e\\u0e2d\\u0e43\\u0e0a\\u0e49\\u0e44\\u0e14\\u0e49\", \"\\u0e40\\u0e21\\u0e49\\u0e07\", \"\\u0e1c\\u0e31\\u0e01\\u0e2a\\u0e25\\u0e31\\u0e14\", \"\\u0e27\\u0e38\\u0e48\\u0e19\\u0e27\\u0e32\\u0e22\", \"\\u0e1f\\u0e23\\u0e31\\u0e48\\u0e07\", \"\\u0e19\\u0e34\\u0e04\", \"\\u0e19\\u0e30\\u0e08\\u0e4a\\u0e30\", \"\\u0e40\\u0e01\\u0e48\\u0e32\\u0e41\\u0e01\\u0e48\", \"\\u0e40\\u0e08\\u0e49\\u0e32\\u0e2b\\u0e19\\u0e49\\u0e32\\u0e17\\u0e35\\u0e48\", \"\\u0e17\\u0e35\\u0e48\\u0e17\\u0e33\\u0e07\\u0e32\\u0e19\", \"\\u0e27\\u0e31\\u0e19\\u0e2d\\u0e32\\u0e17\\u0e34\\u0e15\\u0e22\\u0e4c\", \"\\u0e1d\\u0e2d\\u0e22\\u0e17\\u0e2d\\u0e07\", \"\\u0e25\\u0e33\\u0e44\\u0e22\", \"\\u0e1e\\u0e32\\u0e22\", \"\\u0e41\\u0e15\\u0e07\\u0e42\\u0e21\", \"\\u0e01\\u0e01\", \"\\u0e40\\u0e25\\u0e30\", \"\\u0e2b\\u0e49\\u0e32\\u0e21\", \"\\u0e44\\u0e15\\u0e49\\u0e2b\\u0e27\\u0e31\\u0e19\", \"\\u0e0a\\u0e32\", \"\\u0e40\", \"\\u0e40\\u0e1b\\u0e47\\u0e14\", \"\\u0e2d\\u0e23\\u0e48\\u0e2d\\u0e22\", \"\\u0e40\\u0e04\\u0e49\\u0e01\", \"\\u0e1a\\u0e32\\u0e17\", \"\\u0e2a\\u0e31\\u0e48\\u0e07\", \"\\u0e01\\u0e34\\u0e19\", \"\\u0e23\\u0e2a\\u0e0a\\u0e32\\u0e15\\u0e34\", \"\\u0e14\\u0e35\", \"\\u0e40\\u0e21\\u0e19\\u0e39\", \"\\u0e2d\\u0e32\\u0e2b\\u0e32\\u0e23\", \"\\u0e40\\u0e25\\u0e37\\u0e2d\\u0e01\", \"\\u0e04\\u0e19\", \"\\u0e23\\u0e32\\u0e04\\u0e32\", \"\\u0e19\\u0e31\\u0e48\\u0e07\", \"\\u0e40\\u0e1e\\u0e37\\u0e48\\u0e2d\\u0e19\", \"\\u0e2a\\u0e32\\u0e02\\u0e32\", \"\\u0e17\\u0e32\\u0e19\", \"\\u0e08\\u0e32\\u0e19\", \"\\u0e01\\u0e32\\u0e41\\u0e1f\", \"\\u0e0a\\u0e2d\\u0e1a\", \"\\u0e40\\u0e04\\u0e23\\u0e37\\u0e48\\u0e2d\\u0e07\\u0e14\\u0e37\\u0e48\\u0e21\", \"\\u0e1a\\u0e23\\u0e34\\u0e01\\u0e32\\u0e23\", \"\\u0e19\\u0e30\\u0e04\\u0e30\", \"\\u0e40\\u0e04\\u0e49\\u0e32\", \"\\u0e40\\u0e2b\\u0e21\\u0e37\\u0e2d\\u0e19\", \"\\u0e2b\\u0e27\\u0e32\\u0e19\", \"\\u0e19\\u0e21\", \"\\u0e25\\u0e2d\\u0e07\", \"\\u0e1c\\u0e21\", \"\\u0e2b\\u0e2d\\u0e21\", \"\\u0e1a\\u0e23\\u0e23\\u0e22\\u0e32\\u0e01\\u0e32\\u0e28\", \"\\u0e23\\u0e2a\", \"\\u0e27\\u0e34\\u0e08\\u0e32\\u0e23\\u0e13\\u0e4c\", \"sauce\", \"@\", \"\\u0e2e\\u0e2d\\u0e07\", \"\\u0e14\\u0e35\\u0e25\", \"\\u0e40\\u0e01\\u0e49\\u0e32\", \"\\u0e25\\u0e34\\u0e49\\u0e19\\u0e08\\u0e35\\u0e48\", \"\\u0e2a\\u0e32\\u0e2b\\u0e23\\u0e48\\u0e32\\u0e22\", \"\\u0e40\\u0e1b\\u0e23\\u0e35\\u0e4a\\u0e22\\u0e27\", \"\\u0e15\\u0e2d\\u0e19\\u0e01\\u0e25\\u0e32\\u0e07\\u0e04\\u0e37\\u0e19\", \"Starbucks\", \"       \", \"\\u0e41\\u0e0b\\u0e48\", \"\\u0e42\\u0e01\\u0e30\", \"101\", \"\\u0e14\\u0e32\", \"blend\", \"\\u0e2b\\u0e21\\u0e35\", \"Spaghetti\", \"\\u0e40\\u0e25\\u0e48\\u0e32\", \"where\", \"\\u0e04\\u0e38\\u0e07\", \"\\u0e41\\u0e1b\\u0e25\\u0e01\\u0e43\\u0e2b\\u0e21\\u0e48\", \"\\u0e23\\u0e32\\u0e27\\u0e46\", \"\\u0e14\\u0e35\\u0e41\\u0e15\\u0e48\", \"\\u0e1e\\u0e31\\u0e14\", \"\\u0e01\\u0e31\\u0e14\", \"\\u0e40\\u0e2a\\u0e32\\u0e27\\u0e23\\u0e2a\", \"\\u0e17\\u0e32\", \"drip\", \"with\", \">\", \"\\u0e41\\u0e0b\\u0e48\\u0e1a\", \":\", \"/\", \"\\u201c\", \"\\u0e2d\\u0e35\\u0e2a\\u0e32\\u0e19\", \"\\u0e2b\\u0e2d\\u0e22\", \"\\u0e07\\u0e32\", \"\\u0e19\\u0e49\\u0e33\\u0e1e\\u0e23\\u0e34\\u0e01\", \"\\u0e01\\u0e32\", \"<\", \"\\u0e01\\u0e33\\u0e25\\u0e31\\u0e07\\u0e14\\u0e35\", \"\\u0e2b\\u0e27\\u0e32\\u0e19\", \"\\u0e23\\u0e2a\\u0e0a\\u0e32\\u0e15\\u0e34\", \"\\u0e17\\u0e32\\u0e19\", \"\\u0e2d\\u0e23\\u0e48\\u0e2d\\u0e22\", \"\\u0e2a\\u0e49\\u0e21\\u0e15\\u0e33\", \"7\", \"\\u0e2d\\u0e2d\\u0e01\\u0e21\\u0e32\", \"10\", \"\\u0e23\\u0e32\\u0e04\\u0e32\", \"\\u0e0a\\u0e32\", \"\\u0e14\\u0e35\", \"\\u0e19\\u0e21\", \"\\u0e01\\u0e34\\u0e19\", \"\\u0e44\\u0e02\\u0e48\\u0e21\\u0e38\\u0e01\", \"\\u0e0a\\u0e2d\\u0e1a\", \"\\u0e0b\\u0e2d\\u0e22\", \"\\u0e22\\u0e33\", \"\\u0e01\\u0e32\\u0e41\\u0e1f\", \"\\u0e2d\\u0e32\\u0e2b\\u0e32\\u0e23\", \"\\u0e40\\u0e21\\u0e19\\u0e39\", \"\\u0e08\\u0e32\\u0e19\", \"\\u0e43\\u0e2a\\u0e48\", \"\\u0e23\\u0e2a\", \"\\u0e19\\u0e30\\u0e04\\u0e30\", \"\\u0e14\\u0e39\", \"\\u0e2a\\u0e31\\u0e48\\u0e07\", \"\\u0e1a\\u0e32\\u0e17\", \"\\u0e19\\u0e31\\u0e48\\u0e07\", \"\\u0e04\\u0e19\", \"\\u0e25\\u0e2d\\u0e07\", \"\\u0e19\\u0e49\\u0e33\", \"\\u0e1a\\u0e23\\u0e23\\u0e22\\u0e32\\u0e01\\u0e32\\u0e28\", \"\\u0e42\\u0e15\\u0e4a\\u0e30\", \"\\u0e40\\u0e04\\u0e49\\u0e32\", \"\\u0e1c\\u0e21\", \"\\u0e2b\\u0e2d\\u0e21\", \"\\u0e40\\u0e19\\u0e37\\u0e49\\u0e2d\", \"\\u0e40\\u0e1a\\u0e2d\\u0e23\\u0e4c\\u0e40\\u0e01\\u0e2d\\u0e23\\u0e4c\", \"\\u0e40\\u0e27\\u0e35\\u0e22\\u0e14\\u0e19\\u0e32\\u0e21\", \"\\u0e14\\u0e34\\u0e0a\\u0e31\\u0e49\\u0e19\", \"\\u0e2a\\u0e21\\u0e23\\u0e32\\u0e04\\u0e32\", \"\\u0e40\\u0e2a\\u0e09\\u0e27\\u0e19\", \"\\u0e04\\u0e31\\u0e1a\", \"Type\", \"\\u0e2d\\u0e49\\u0e30\", \"\\u0e40\\u0e21\\u0e4a\\u0e01\", \"\\u0e2a\\u0e32\\u0e22\\u0e1e\\u0e32\\u0e19\", \"\\u0e01\\u0e49\\u0e38\\u0e07\", \"\\u0e1b\\u0e32\\u0e07\", \"\\u0e15\\u0e35\\u0e48\", \"\\u0e19\\u0e48\\u0e32\\u0e19\", \"\\u0e2e\\u0e35\", \"\\u0e19\\u0e31\\u0e14\", \"\\u0e41\\u0e1f\", \"\\u0e15\\u0e31\\u0e14\\u0e2a\\u0e34\\u0e19\\u0e43\\u0e08\", \"bakery\", \"\\u0e2a\\u0e16\\u0e32\\u0e19\\u0e35\\u0e23\\u0e16\\u0e44\\u0e1f\", \"\\u0e23\\u0e30\\u0e2b\\u0e27\\u0e48\\u0e32\\u0e07\\u0e17\\u0e32\\u0e07\", \"\\u0e40\\u0e21\\u0e37\\u0e48\\u0e2d\\u0e01\\u0e35\\u0e49\", \"\\u0e14\\u0e4a\\u0e30\", \"MK\", \"\\u0e40\\u0e2a\\u0e49\\u0e19\\u0e43\\u0e2b\\u0e0d\\u0e48\", \"Hungry\", \"\\u0e0a\\u0e35\\u0e25\\u0e32\\u0e27\", \"\\u0e41\\u0e17\\u0e49 \\u0e46\", \"\\u0e2a\\u0e16\\u0e32\\u0e19\", \"\\u0e23\\u0e19\\u0e14\", \"\\u0e0b\\u0e2d\\u0e19\", \"\\u0e08\\u0e35\\u0e19\", \"\\u0e04\\u0e23\\u0e31\\u0e27\\u0e0b\\u0e2d\\u0e07\", \"\\u0e2b\\u0e34\\u0e19\", \"\\\"\", \"\\u0e01\\u0e32\\u0e41\\u0e1f\", \"\\u0e1c\\u0e21\", \"\\u0e17\\u0e32\\u0e19\", \"\\u0e42\\u0e19\\u0e48\", \"\\u0e2a\\u0e31\\u0e48\\u0e07\", \"\\u0e40\\u0e19\\u0e37\\u0e49\\u0e2d\", \"\\u0e40\\u0e21\\u0e19\\u0e39\", \"\\u0e14\\u0e35\", \"\\u0e2d\\u0e23\\u0e48\\u0e2d\\u0e22\", \"\\u0e14\\u0e39\", \"\\u0e2d\\u0e32\\u0e2b\\u0e32\\u0e23\", \"\\u0e2b\\u0e21\\u0e39\", \"\\u0e01\\u0e34\\u0e19\", \"\\u0e23\\u0e2a\\u0e0a\\u0e32\\u0e15\\u0e34\", \"\\u0e25\\u0e2d\\u0e07\", \"\\u0e04\\u0e19\", \"\\u0e0a\\u0e2d\\u0e1a\", \"\\u0e1a\\u0e23\\u0e23\\u0e22\\u0e32\\u0e01\\u0e32\\u0e28\", \"\\u0e23\\u0e32\\u0e04\\u0e32\", \"\\u0e41\\u0e19\\u0e30\\u0e19\\u0e33\", \"\\u0e19\\u0e31\\u0e48\\u0e07\", \"\\u0e1b\\u0e25\\u0e32\", \"\\u0e1a\\u0e32\\u0e17\", \"\\u0e17\\u0e35\\u0e48\\u0e19\\u0e35\\u0e48\", \"\\u0e42\\u0e15\\u0e4a\\u0e30\", \"\\u0e1e\\u0e19\\u0e31\\u0e01\\u0e07\\u0e32\\u0e19\", \"\\u0e08\\u0e32\\u0e19\", \"\\u0e0a\\u0e34\\u0e21\", \"\\u0e2b\\u0e2d\\u0e21\", \"\\u0e23\\u0e2a\", \"\\u0e23\\u0e49\\u0e32\\u0e19\\u0e01\\u0e32\\u0e41\\u0e1f\", \"\\u0e40\\u0e04\\u0e23\\u0e37\\u0e48\\u0e2d\\u0e07\\u0e14\\u0e37\\u0e48\\u0e21\", \"\\u0e2b\\u0e27\\u0e32\\u0e19\", \"\\u0e0a\\u0e32\", \"\\u0e19\\u0e30\\u0e04\\u0e30\", \"\\u0e40\\u0e04\\u0e49\\u0e32\"], \"Freq\": [77.0, 80.0, 185.0, 306.0, 118.0, 22.0, 9.0, 398.0, 12.0, 28.0, 67.0, 290.0, 19.0, 134.0, 143.0, 106.0, 13.0, 21.0, 8.0, 8.0, 45.0, 28.0, 8.0, 35.0, 59.0, 12.0, 31.0, 8.0, 93.0, 12.0, 9.863252827419306, 4.7281888626789295, 4.808021349208797, 5.436890850770352, 4.23436976901535, 3.039462759823339, 4.872905079067373, 3.057471520387549, 3.6883831746314337, 3.077978559244483, 3.0789971476277738, 2.469440465143215, 3.705468994970654, 3.0910777496022774, 4.324654258724147, 3.0941475210335185, 3.09527392092472, 3.688817369353893, 3.1040971410148996, 2.48476775999784, 3.1058652497446424, 2.490100835922512, 2.491458523749489, 2.496999298083419, 2.499690715624504, 3.1304024117725193, 2.5088290770455, 2.509868859144021, 2.5116100610700802, 2.5136339687279956, 16.46642424407338, 13.763564308282287, 48.09411730645182, 13.817074200495998, 7.848743384303174, 5.821231320453429, 107.19235360866143, 11.610651427225557, 14.767098150618597, 189.47791794975558, 57.781247780202044, 98.04907082269544, 116.6791765666807, 127.35780137817096, 148.06091343082636, 132.2571691143682, 114.73741648617126, 106.78898449997862, 54.229207645804465, 84.17596412499378, 100.36218312702206, 77.63346791923306, 28.746842777287178, 34.09709482595471, 132.04671515354397, 72.25897173468735, 104.42796776467696, 81.89834816069408, 49.0533264284621, 47.86024484317754, 58.783041894957705, 52.664585120490585, 43.71385479341298, 71.5826482146727, 56.12556968253133, 62.05367077276699, 63.672354595476925, 50.13032100506414, 52.44381074181504, 46.284753443520806, 5.886520756523591, 4.171345207622966, 4.768131819870483, 4.189989463975764, 4.194113216344263, 3.616507359838408, 3.6238970432107105, 3.625776957287297, 3.0324385991871745, 3.0343405364553635, 3.0482288665299055, 3.0500502927861723, 3.0533851816522053, 3.0534541395144346, 3.053684480436436, 3.0575342065356574, 2.4477160024705102, 3.0686671104084504, 2.461558661500173, 2.4653742697042076, 2.466719850607499, 2.467257252586182, 2.4697234890096817, 2.4717730899723827, 2.4743243503569037, 2.475057072772581, 2.4752845254071594, 2.4756007928800017, 4.1612903570308895, 1.8591877260378287, 9.679043240220311, 8.602255751467519, 18.60854989952881, 62.700225782826365, 37.226417414284924, 5.734710925415556, 11.923208630683263, 9.706536848201921, 5.718821373192651, 5.727221596127152, 18.276718889906462, 7.763066728939031, 24.468539930890508, 84.64575133605122, 146.85260563781839, 147.77911047743817, 173.41126342738266, 39.014405967053015, 7.626346755473596, 28.364221571302657, 21.327255859123447, 98.53035551981772, 91.8370555749775, 121.99824538464702, 59.4966297981908, 114.53340877359234, 43.537227232243275, 80.86242407640225, 24.577506350506244, 29.79230640483843, 100.85663997622574, 93.40657984362824, 98.53035551981772, 69.27036337536573, 42.4931026638878, 52.18622991565557, 55.49216370027058, 52.7143243881167, 87.8641411288685, 74.85098524986041, 66.42120069358292, 69.63775353559903, 58.098103698144236, 44.29129842440953, 50.30933987600084, 41.52347858132679, 46.45465458727384, 55.05149191153541, 47.09710502368243, 43.287401923284634, 7.300613592550149, 3.204199220483719, 3.756571641464486, 3.231322588195964, 2.6947254029294028, 2.7044070902832607, 2.1680698922023134, 2.169145587388293, 2.723954221809081, 3.266256769157745, 3.8127710802013604, 2.7322680693481765, 2.7367207267468605, 2.1940865557655242, 2.1989147661612085, 2.200569582444244, 2.2030448442081116, 2.203575729140415, 2.2042099772829027, 2.2015216724580458, 2.215927489197334, 2.217885217110213, 2.2196409560831913, 2.2236935117224568, 2.227850866172047, 2.2289394817592996, 2.234541337071205, 1.6838590481369526, 2.2465842995377003, 1.6879325635382831, 5.583609982587731, 5.591253117740748, 5.578459623520309, 5.100511010831914, 34.43820293403637, 100.9338807333153, 66.36807476782725, 119.0988118490384, 6.6991304392109, 85.54686575175772, 45.642561300630774, 85.72039650293429, 97.40812028867077, 126.24121886056174, 47.04633476117317, 78.1037774587707, 36.316043718724764, 87.37883853768712, 100.84175425255883, 52.42307763457997, 60.44135233175543, 62.47842529021168, 44.95406125455846, 70.63518831335128, 31.306910953855606, 54.101333248244856, 28.43752067563789, 60.05409861936247, 30.347659018068306, 33.49999115392198, 24.16908408102351, 49.94977977170602, 26.116607748097195, 39.14358338161928, 38.4209045673796, 29.772141851607273, 34.08632011216821, 44.19232952255122, 49.2357604975195, 36.246298818413365, 32.701765317839275], \"Total\": [77.0, 80.0, 185.0, 306.0, 118.0, 22.0, 9.0, 398.0, 12.0, 28.0, 67.0, 290.0, 19.0, 134.0, 143.0, 106.0, 13.0, 21.0, 8.0, 8.0, 45.0, 28.0, 8.0, 35.0, 59.0, 12.0, 31.0, 8.0, 93.0, 12.0, 12.120530813732742, 5.9509849834631146, 6.1814652902724605, 7.037646698371761, 5.487887133166975, 3.9607289152179446, 6.372033378117203, 4.012999879895745, 4.873066907796117, 4.071828128296414, 4.07479358552831, 3.2769362794022996, 4.925848998266228, 4.109846415917387, 5.755186114833279, 4.119683113567485, 4.122102093244324, 4.921037285165286, 4.147762618406809, 3.3211622994668293, 4.153205165545627, 3.336494653950455, 3.340461945530611, 3.3564084846991817, 3.3643712213443338, 4.225327105469298, 3.390812204123171, 3.393690447283676, 3.399222984239919, 3.404624539945117, 22.43287457490115, 19.49391855747105, 77.03703258355426, 21.450551745297126, 11.98374466435223, 8.638437742935189, 248.26516968115843, 19.35899817570275, 25.65295924651352, 489.1304002377, 123.61231684091557, 232.95415469191832, 290.0901834473069, 329.2700486894504, 395.75527332120356, 351.663534787686, 298.98816850892325, 278.29934180237757, 124.9486071321659, 214.25506999234827, 269.5277269601911, 198.15600186106084, 60.0139818394337, 74.59842331836101, 398.9246374800205, 191.47911488175907, 306.218488474218, 225.239197527308, 119.20937993738954, 115.52167002540014, 150.52150441364165, 131.8210050256037, 103.84911436051242, 200.42072907327514, 146.91320857893106, 172.57485210549117, 185.0919212748396, 136.37100941036584, 147.70721187237436, 136.89188792655597, 7.524945941971384, 5.413993180224657, 6.191737039063206, 5.468771557127183, 5.480974961581472, 4.7600108967099555, 4.781777175931284, 4.787376723624865, 4.020337849642779, 4.0258726196755195, 4.066633248423163, 4.072031638153237, 4.0818357716383264, 4.0820040840997045, 4.082738663499885, 4.094128707963748, 3.2789654973304945, 4.126950480972084, 3.31938020188448, 3.33058003519482, 3.334579465247057, 3.3360677708634876, 3.343330396255318, 3.349347536316351, 3.35684715410876, 3.3590335281062274, 3.3596197388480133, 3.3606174250404273, 5.653405856917995, 2.526761435831432, 13.299346546478374, 12.090159552992056, 28.59114778212238, 118.62872421302873, 67.54740282856638, 8.483397533554964, 19.232068295355422, 15.351213563463476, 8.500393410558347, 8.526283360977361, 31.589676464747026, 12.074528095506928, 45.9257506646449, 200.42072907327514, 395.75527332120356, 398.9246374800205, 489.1304002377, 83.77468249040867, 12.098910642337358, 58.98860660293578, 42.02151782196172, 269.5277269601911, 248.26516968115843, 351.663534787686, 146.91320857893106, 329.2700486894504, 102.0465493732402, 225.239197527308, 50.89052185605885, 64.77392324988689, 306.218488474218, 278.29934180237757, 298.98816850892325, 191.47911488175907, 103.71802722314679, 136.89188792655597, 150.52150441364165, 143.4058153441028, 290.0901834473069, 232.95415469191832, 198.15600186106084, 214.25506999234827, 172.57485210549117, 119.65355316436168, 147.70721187237436, 108.6449702197063, 131.8210050256037, 185.0919212748396, 136.37100941036584, 134.19193082277096, 9.74231151602822, 4.4191496268497374, 5.2190653562520275, 4.5084696357848735, 3.7615682065915514, 3.793891956530671, 3.048819009843312, 3.0523278283749145, 3.8594609340738972, 4.628663545952284, 5.41176471709726, 3.8879762811571297, 3.9039088930859407, 3.134809537525064, 3.1507987021320174, 3.156463470822879, 3.1646450813817517, 3.1663413517398, 3.1687189183418463, 3.1686622905757598, 3.20816557852045, 3.214752234800228, 3.220861207642427, 3.2340448955779966, 3.248627201966676, 3.253688543232723, 3.2728702230163305, 2.476356898428897, 3.3124951224523453, 2.489865383948275, 8.66813528103397, 8.686058535447492, 8.882137317209214, 8.129182412197757, 80.83950042378052, 306.218488474218, 185.0919212748396, 398.9246374800205, 12.30906384648421, 290.0901834473069, 134.19193082277096, 298.98816850892325, 351.663534787686, 489.1304002377, 143.4058153441028, 278.29934180237757, 106.13664455122719, 329.2700486894504, 395.75527332120356, 172.57485210549117, 214.25506999234827, 225.239197527308, 147.70721187237436, 269.5277269601911, 93.07867998702449, 198.15600186106084, 84.70562821189404, 232.95415469191832, 93.81203742306897, 108.6449702197063, 69.08347988145643, 191.47911488175907, 76.98252214613828, 136.37100941036584, 136.89188792655597, 95.30248234887543, 119.20937993738954, 200.42072907327514, 248.26516968115843, 150.52150441364165, 131.8210050256037], \"Category\": [\"Default\", \"Default\", \"Default\", \"Default\", \"Default\", \"Default\", \"Default\", \"Default\", \"Default\", \"Default\", \"Default\", \"Default\", \"Default\", \"Default\", \"Default\", \"Default\", \"Default\", \"Default\", \"Default\", \"Default\", \"Default\", \"Default\", \"Default\", \"Default\", \"Default\", \"Default\", \"Default\", \"Default\", \"Default\", \"Default\", \"Topic1\", \"Topic1\", \"Topic1\", \"Topic1\", \"Topic1\", \"Topic1\", \"Topic1\", \"Topic1\", \"Topic1\", \"Topic1\", \"Topic1\", \"Topic1\", \"Topic1\", \"Topic1\", \"Topic1\", \"Topic1\", \"Topic1\", \"Topic1\", \"Topic1\", \"Topic1\", \"Topic1\", \"Topic1\", \"Topic1\", \"Topic1\", \"Topic1\", \"Topic1\", \"Topic1\", \"Topic1\", \"Topic1\", \"Topic1\", \"Topic1\", \"Topic1\", \"Topic1\", \"Topic1\", \"Topic1\", \"Topic1\", \"Topic1\", \"Topic1\", \"Topic1\", \"Topic1\", \"Topic1\", \"Topic1\", \"Topic1\", \"Topic1\", \"Topic1\", \"Topic1\", \"Topic1\", \"Topic1\", \"Topic1\", \"Topic1\", \"Topic1\", \"Topic1\", \"Topic1\", \"Topic1\", \"Topic1\", \"Topic1\", \"Topic1\", \"Topic1\", \"Topic1\", \"Topic1\", \"Topic1\", \"Topic1\", \"Topic1\", \"Topic1\", \"Topic1\", \"Topic1\", \"Topic1\", \"Topic1\", \"Topic1\", \"Topic1\", \"Topic2\", \"Topic2\", \"Topic2\", \"Topic2\", \"Topic2\", \"Topic2\", \"Topic2\", \"Topic2\", \"Topic2\", \"Topic2\", \"Topic2\", \"Topic2\", \"Topic2\", \"Topic2\", \"Topic2\", \"Topic2\", \"Topic2\", \"Topic2\", \"Topic2\", \"Topic2\", \"Topic2\", \"Topic2\", \"Topic2\", \"Topic2\", \"Topic2\", \"Topic2\", \"Topic2\", \"Topic2\", \"Topic2\", \"Topic2\", \"Topic2\", \"Topic2\", \"Topic2\", \"Topic2\", \"Topic2\", \"Topic2\", \"Topic2\", \"Topic2\", \"Topic2\", \"Topic2\", \"Topic2\", \"Topic2\", \"Topic2\", \"Topic2\", \"Topic2\", \"Topic2\", \"Topic2\", \"Topic2\", \"Topic2\", \"Topic2\", \"Topic2\", \"Topic2\", \"Topic2\", \"Topic2\", \"Topic2\", \"Topic2\", \"Topic2\", \"Topic2\", \"Topic2\", \"Topic2\", \"Topic2\", \"Topic2\", \"Topic2\", \"Topic2\", \"Topic2\", \"Topic2\", \"Topic2\", \"Topic2\", \"Topic2\", \"Topic2\", \"Topic2\", \"Topic2\", \"Topic2\", \"Topic2\", \"Topic2\", \"Topic2\", \"Topic2\", \"Topic2\", \"Topic2\", \"Topic2\", \"Topic3\", \"Topic3\", \"Topic3\", \"Topic3\", \"Topic3\", \"Topic3\", \"Topic3\", \"Topic3\", \"Topic3\", \"Topic3\", \"Topic3\", \"Topic3\", \"Topic3\", \"Topic3\", \"Topic3\", \"Topic3\", \"Topic3\", \"Topic3\", \"Topic3\", \"Topic3\", \"Topic3\", \"Topic3\", \"Topic3\", \"Topic3\", \"Topic3\", \"Topic3\", \"Topic3\", \"Topic3\", \"Topic3\", \"Topic3\", \"Topic3\", \"Topic3\", \"Topic3\", \"Topic3\", \"Topic3\", \"Topic3\", \"Topic3\", \"Topic3\", \"Topic3\", \"Topic3\", \"Topic3\", \"Topic3\", \"Topic3\", \"Topic3\", \"Topic3\", \"Topic3\", \"Topic3\", \"Topic3\", \"Topic3\", \"Topic3\", \"Topic3\", \"Topic3\", \"Topic3\", \"Topic3\", \"Topic3\", \"Topic3\", \"Topic3\", \"Topic3\", \"Topic3\", \"Topic3\", \"Topic3\", \"Topic3\", \"Topic3\", \"Topic3\", \"Topic3\", \"Topic3\", \"Topic3\", \"Topic3\", \"Topic3\", \"Topic3\", \"Topic3\"], \"logprob\": [30.0, 29.0, 28.0, 27.0, 26.0, 25.0, 24.0, 23.0, 22.0, 21.0, 20.0, 19.0, 18.0, 17.0, 16.0, 15.0, 14.0, 13.0, 12.0, 11.0, 10.0, 9.0, 8.0, 7.0, 6.0, 5.0, 4.0, 3.0, 2.0, 1.0, -7.1577, -7.893, -7.8763, -7.7534, -8.0033, -8.3349, -7.8629, -8.329, -8.1414, -8.3223, -8.322, -8.5426, -8.1368, -8.318, -7.9822, -8.317, -8.3167, -8.1413, -8.3138, -8.5364, -8.3133, -8.5342, -8.5337, -8.5315, -8.5304, -8.3054, -8.5267, -8.5263, -8.5256, -8.5248, -6.6452, -6.8245, -5.5734, -6.8207, -7.3862, -7.685, -4.7719, -6.9946, -6.7542, -4.2023, -5.3899, -4.8611, -4.6871, -4.5996, -4.4489, -4.5618, -4.7039, -4.7757, -5.4533, -5.0137, -4.8378, -5.0946, -6.088, -5.9173, -4.5634, -5.1663, -4.7981, -5.0411, -5.5537, -5.5783, -5.3727, -5.4826, -5.6689, -5.1757, -5.419, -5.3186, -5.2928, -5.5319, -5.4868, -5.6117, -7.6532, -7.9976, -7.8639, -7.9932, -7.9922, -8.1404, -8.1383, -8.1378, -8.3165, -8.3159, -8.3113, -8.3107, -8.3096, -8.3096, -8.3095, -8.3083, -8.5307, -8.3046, -8.5251, -8.5235, -8.523, -8.5228, -8.5218, -8.5209, -8.5199, -8.5196, -8.5195, -8.5194, -8.0, -8.8057, -7.1559, -7.2738, -6.5022, -5.2875, -5.8088, -7.6793, -6.9474, -7.1531, -7.6821, -7.6806, -6.5202, -7.3765, -6.2285, -4.9874, -4.4364, -4.4301, -4.2702, -5.7619, -7.3943, -6.0807, -6.3659, -4.8355, -4.9058, -4.6219, -5.3399, -4.685, -5.6522, -5.0331, -6.224, -6.0316, -4.8122, -4.8889, -4.8355, -5.1878, -5.6765, -5.471, -5.4096, -5.461, -4.9501, -5.1104, -5.2298, -5.1826, -5.3637, -5.6351, -5.5077, -5.6996, -5.5874, -5.4176, -5.5737, -5.658, -7.2088, -8.0323, -7.8733, -8.0239, -8.2055, -8.2019, -8.4229, -8.4225, -8.1947, -8.0131, -7.8584, -8.1917, -8.19, -8.411, -8.4088, -8.4081, -8.4069, -8.4067, -8.4064, -8.4076, -8.4011, -8.4002, -8.3994, -8.3976, -8.3957, -8.3953, -8.3927, -8.6757, -8.3874, -8.6733, -7.477, -7.4756, -7.4779, -7.5674, -5.6576, -4.5823, -5.0016, -4.4168, -7.2948, -4.7477, -5.3759, -4.7457, -4.6179, -4.3586, -5.3457, -4.8387, -5.6045, -4.7265, -4.5832, -5.2374, -5.0951, -5.062, -5.3911, -4.9393, -5.7529, -5.2059, -5.8491, -5.1015, -5.7841, -5.6852, -6.0117, -5.2858, -5.9342, -5.5295, -5.5482, -5.8032, -5.6679, -5.4082, -5.3002, -5.6064, -5.7094], \"loglift\": [30.0, 29.0, 28.0, 27.0, 26.0, 25.0, 24.0, 23.0, 22.0, 21.0, 20.0, 19.0, 18.0, 17.0, 16.0, 15.0, 14.0, 13.0, 12.0, 11.0, 10.0, 9.0, 8.0, 7.0, 6.0, 5.0, 4.0, 3.0, 2.0, 1.0, 0.8086, 0.7847, 0.7634, 0.7566, 0.7554, 0.7499, 0.7465, 0.7427, 0.7361, 0.7349, 0.7345, 0.7318, 0.73, 0.7298, 0.7289, 0.7284, 0.7282, 0.7265, 0.7248, 0.7245, 0.7241, 0.7221, 0.7214, 0.7189, 0.7176, 0.7147, 0.7134, 0.713, 0.7121, 0.7113, 0.7055, 0.6666, 0.5436, 0.5748, 0.5915, 0.62, 0.1748, 0.5034, 0.4624, 0.0663, 0.2542, 0.1493, 0.1039, 0.0648, 0.0315, 0.0368, 0.0569, 0.0568, 0.18, 0.0804, 0.0268, 0.0776, 0.2786, 0.2318, -0.0909, 0.0402, -0.0611, 0.003, 0.1267, 0.1335, 0.0744, 0.0972, 0.1494, -0.0149, 0.0524, -0.0081, -0.0524, 0.0139, -0.0208, -0.0697, 0.7898, 0.7746, 0.7741, 0.769, 0.7678, 0.7606, 0.7581, 0.7575, 0.7534, 0.7526, 0.7471, 0.7464, 0.7451, 0.7451, 0.745, 0.7434, 0.743, 0.7391, 0.7364, 0.7346, 0.7339, 0.7337, 0.7325, 0.7316, 0.7303, 0.73, 0.7299, 0.7297, 0.7289, 0.7286, 0.7176, 0.695, 0.6059, 0.3977, 0.4396, 0.6438, 0.5573, 0.577, 0.639, 0.6375, 0.4882, 0.5937, 0.4057, 0.1734, 0.044, 0.0423, -0.0016, 0.2712, 0.5739, 0.3032, 0.3572, 0.0291, 0.0409, -0.0233, 0.1315, -0.0206, 0.1836, 0.011, 0.3075, 0.2587, -0.0752, -0.0564, -0.0747, 0.0186, 0.143, 0.071, 0.0375, 0.0346, -0.159, -0.1, -0.0577, -0.0885, -0.0533, 0.0416, -0.0417, 0.0736, -0.0076, -0.1772, -0.0278, -0.096, 0.9759, 0.943, 0.9356, 0.9314, 0.9309, 0.9259, 0.9235, 0.9229, 0.916, 0.9158, 0.9142, 0.9117, 0.9092, 0.9077, 0.9048, 0.9037, 0.9023, 0.902, 0.9015, 0.9003, 0.8944, 0.8933, 0.8922, 0.8899, 0.8873, 0.8862, 0.8828, 0.8788, 0.8762, 0.8757, 0.8246, 0.8239, 0.7993, 0.7983, 0.4112, 0.1546, 0.2388, 0.0556, 0.6561, 0.0433, 0.186, 0.0151, -0.0193, -0.09, 0.1499, -0.0062, 0.192, -0.0622, -0.1028, 0.073, -0.001, -0.0179, 0.0749, -0.0747, 0.1749, -0.0337, 0.173, -0.0911, 0.1359, 0.0879, 0.2142, -0.0793, 0.1835, 0.0163, -0.0061, 0.101, 0.0125, -0.2474, -0.3534, -0.1593, -0.1296]}, \"token.table\": {\"Topic\": [1, 2, 1, 2, 3, 1, 2, 3, 1, 2, 3, 1, 2, 1, 2, 3, 1, 2, 3, 1, 2, 3, 1, 2, 3, 1, 2, 3, 1, 2, 3, 1, 2, 3, 1, 2, 1, 2, 3, 1, 2, 3, 1, 2, 3, 1, 2, 2, 1, 2, 3, 3, 2, 2, 1, 2, 3, 2, 1, 2, 3, 1, 2, 3, 2, 1, 2, 3, 1, 2, 3, 1, 2, 3, 1, 2, 3, 1, 2, 3, 1, 2, 1, 2, 3, 1, 2, 3, 1, 2, 3, 1, 2, 3, 2, 1, 2, 3, 1, 2, 3, 1, 2, 3, 1, 2, 3, 1, 2, 3, 1, 2, 3, 1, 2, 3, 1, 2, 3, 1, 2, 3, 1, 2, 1, 2, 3, 1, 2, 3, 1, 2, 3, 2, 1, 2, 3, 1, 3, 1, 2, 3, 1, 2, 3, 1, 2, 3, 1, 2, 3, 1, 1, 2, 3, 1, 2, 3, 1, 2, 3, 1, 3, 1, 2, 3, 1, 1, 2, 3, 3, 1, 2, 3, 1, 2, 3, 1, 2, 3, 1, 2, 3, 1, 2, 3, 1, 2, 3, 1, 2, 3, 1, 2, 3, 1, 1, 1, 2, 3, 1, 2, 3, 2, 1, 2, 3, 1, 2, 3, 1, 1, 2, 1, 2, 3, 3, 1, 2, 3, 1, 2, 3, 3, 1, 2, 3, 1, 2, 3, 2, 1, 2, 3, 1, 2, 3, 1, 1, 2, 3, 1, 1, 2, 3, 1, 2, 1, 2, 3, 3, 1, 2, 3, 1, 2, 3, 1, 2, 3, 1, 2, 3, 1, 2, 3, 1, 2, 3, 1, 2, 3, 1, 2, 1, 2, 3, 1, 2, 3, 1, 2, 3, 1, 2, 3, 1, 2, 3, 1, 2, 3, 1, 2, 3, 1, 2, 3, 1, 2, 3, 1, 2, 3, 1, 2, 3, 1, 2, 3, 3, 1, 2, 3, 1, 1, 2, 3, 1, 2, 3, 1, 2, 3, 1, 2, 3, 1, 2, 3, 1, 1, 2, 3, 1, 2, 3, 1, 2, 1, 2, 3, 1, 2, 3, 1, 2, 3, 1, 2, 1, 3, 1, 2, 1, 2, 3, 1, 2, 3, 1, 2, 3, 2, 1, 2, 3, 1, 2, 3, 2, 1, 2, 3, 1, 2, 3, 1, 2, 3, 1, 2, 3, 1, 2, 1, 2, 3, 1, 2, 3, 3, 1, 2, 3, 2, 3, 1, 2, 3, 1, 2, 3, 1, 1, 2, 1, 2, 3, 1, 2, 3, 1, 2, 3, 1, 2, 3, 1, 2, 3, 1, 2, 3], \"Freq\": [0.2455776597191479, 0.7367329791574437, 0.2597739952611389, 0.30925475626326066, 0.42058646851803444, 0.25167510945084853, 0.5477634735106703, 0.2072618548418753, 0.3093653126733515, 0.49974396662618314, 0.19037865395283168, 0.24493362970794716, 0.7348008891238414, 0.23637677079154049, 0.45586948652654236, 0.3039129910176949, 0.16530413845701608, 0.6612165538280643, 0.24795620768552412, 0.23603052452725293, 0.531068680186319, 0.2276008629369939, 0.24845691494281544, 0.6625517731808411, 0.16563794329521028, 0.1776658813897633, 0.4263981153354319, 0.39086493905747927, 0.16542378876257616, 0.7444070494315927, 0.08271189438128808, 0.16150556680477138, 0.807527834023857, 0.16150556680477138, 0.7277840121710408, 0.24259467072368027, 0.728877963948151, 0.18221949098703774, 0.18221949098703774, 0.3073434923818626, 0.3073434923818626, 0.6146869847637252, 0.309210302357685, 0.309210302357685, 0.61842060471537, 0.7367698010512911, 0.24558993368376367, 0.6025221211069943, 0.24590366008239123, 0.7377109802471737, 0.6559917113947626, 0.6311698991107033, 0.6099484735744432, 0.7915270399644592, 0.1847065496226769, 0.7388261984907076, 0.1847065496226769, 0.59977578007781, 0.15038332845981775, 0.7519166422990887, 0.07519166422990887, 0.6230769590967729, 0.2596153996236554, 0.11682692983064491, 0.5953054677211129, 0.2215913799500845, 0.5698064055859315, 0.18993546852864385, 0.33962678255710954, 0.3298298561371929, 0.3298298561371929, 0.21774276642794904, 0.5225826394270777, 0.23951704307074395, 0.38570164673489477, 0.3492573966497079, 0.2642208131176051, 0.18478260831272353, 0.18478260831272353, 0.7391304332508941, 0.736233612091308, 0.245411204030436, 0.39205606664523696, 0.3267133888710308, 0.2800400476037407, 0.22517102906357725, 0.11258551453178862, 0.6755130871907318, 0.820838308950909, 0.20520957723772726, 0.20520957723772726, 0.26358157044473435, 0.26358157044473435, 0.790744711334203, 0.5995082046796466, 0.23528322789340525, 0.7058496836802158, 0.11764161394670263, 0.3760201212777747, 0.3603526162245341, 0.2611250842206769, 0.1151270160014506, 0.2302540320029012, 0.6907620960087036, 0.3640574149624127, 0.3596176903897003, 0.27526292350816567, 0.43099078351352216, 0.3705715147966733, 0.19736961114170642, 0.3507289609029056, 0.3117590763581383, 0.3377389993879832, 0.30554220969946794, 0.30554220969946794, 0.6110844193989359, 0.2307301322783961, 0.11536506613919804, 0.6921903968351882, 0.23580029369597283, 0.49125061186661007, 0.27510034264530164, 0.24425221367731723, 0.7327566410319517, 0.19160518823587427, 0.19160518823587427, 0.7664207529434971, 0.37535879311369014, 0.34692252090810755, 0.2758318403941511, 0.18244929177918767, 0.7297971671167507, 0.18244929177918767, 0.5957971597104182, 0.30682158805360743, 0.3695805492463908, 0.3277412417845352, 0.31047596761611773, 0.6209519352322355, 0.24839335330997106, 0.7451800599299131, 0.6316438367900751, 0.25615351879011844, 0.25615351879011844, 0.7684605563703554, 0.17688452329604354, 0.7075380931841742, 0.17688452329604354, 0.33088956559272675, 0.3709973917251785, 0.29830195686010974, 0.8847437780104866, 0.3944056756079094, 0.2878095470652312, 0.3197883856280347, 0.38117743490649625, 0.40159765463362995, 0.21100893718038186, 0.3919705707821299, 0.3653962947969007, 0.2391684838670623, 0.5958750280597178, 0.633620511844101, 0.3936292580968126, 0.333070910697303, 0.27251256329779333, 0.5987195880725151, 0.8088697040600248, 0.16177394081200494, 0.16177394081200494, 0.637997293315307, 0.36772831927155186, 0.36772831927155186, 0.25908131585041155, 0.2345687933799495, 0.7037063801398485, 0.11728439668997474, 0.3520478068798044, 0.3385075066151965, 0.30465675595367686, 0.41550645856700374, 0.32028622847873206, 0.26834792115785655, 0.42068363249243146, 0.3219517595605343, 0.25756140764842744, 0.33055654731651407, 0.33055654731651407, 0.33055654731651407, 0.25720321516528966, 0.25720321516528966, 0.771609645495869, 0.3457741405415938, 0.29714965202793214, 0.3565795824335186, 0.602198814650243, 0.8825546349589694, 0.31845529550264157, 0.3329305362073071, 0.3474057769119726, 0.8128367594487041, 0.20320918986217604, 0.20320918986217604, 0.5954093590508368, 0.7132389541330328, 0.13373230389994367, 0.13373230389994367, 0.3940003812344285, 0.225143074991102, 0.3940003812344285, 0.5994315014507734, 0.7475704185861919, 0.24919013952873062, 0.32420454013547295, 0.4631493430506757, 0.2161363600903153, 0.803256277585788, 0.3360315990723973, 0.37986180764705785, 0.27759132097284994, 0.3739684850134138, 0.37144167092548536, 0.25520822288077566, 0.6234092197081564, 0.840197045345307, 0.16803940906906142, 0.16803940906906142, 0.3710193423430973, 0.3673091489196663, 0.26342373306359906, 0.5971312258027489, 0.3882375263275249, 0.30429427739184384, 0.31478718350880397, 0.359264395962517, 0.33608604783590307, 0.30131852564598205, 0.8811544312161834, 0.2091272686300451, 0.8365090745201804, 0.2091272686300451, 0.88399341265825, 0.13289132011199806, 0.7973479206719883, 0.13289132011199806, 0.7223336869768809, 0.24077789565896032, 0.3018872369718897, 0.3018872369718897, 0.6037744739437794, 0.6311811788679416, 0.22180475433675872, 0.22180475433675872, 0.6654142630102762, 0.40332285156851, 0.3033539396412725, 0.29645953192215263, 0.4557737079093404, 0.2681021811231414, 0.2815072901792985, 0.21604508300770514, 0.21604508300770514, 0.6481352490231155, 0.2088826632475308, 0.8355306529901232, 0.2088826632475308, 0.31035629413428967, 0.46553444120143456, 0.226798830328904, 0.6950253076421796, 0.1737563269105449, 0.1737563269105449, 0.24230966778270008, 0.7269290033481002, 0.3014981313504319, 0.3580290309786379, 0.3391853977692359, 0.3592442774403656, 0.4241078275337649, 0.2195381695468901, 0.3666468424351151, 0.34464803188900817, 0.28598453709938976, 0.2605657190204275, 0.6514142975510688, 0.13028285951021376, 0.12301360078960831, 0.24602720157921662, 0.6150680039480415, 0.6675709658432073, 0.16689274146080182, 0.16689274146080182, 0.38640002728955863, 0.3536889138682203, 0.25760001819303907, 0.30514367157647293, 0.47466793356340237, 0.22038154058300824, 0.3844780922118799, 0.3341725474364937, 0.2802737494628657, 0.20798595026651434, 0.623957850799543, 0.15598946269988576, 0.7299542845156051, 0.24331809483853503, 0.6552376128827607, 0.18285642206004177, 0.7314256882401671, 0.18285642206004177, 0.6347596876457646, 0.6198667870665465, 0.15496669676663663, 0.25827782794439436, 0.5944647211673749, 0.2100835526849706, 0.8403342107398823, 0.2100835526849706, 0.4110414803410226, 0.30198965902605746, 0.285212455746832, 0.46920890637980545, 0.33977196668882464, 0.19415540953647123, 0.4020603544154876, 0.3489580434549515, 0.25033946595681306, 0.7100042020691784, 0.2366680673563928, 0.2366680673563928, 0.610326179538893, 0.3353405806451365, 0.320436554838686, 0.3427925935483617, 0.10264504459283433, 0.10264504459283433, 0.7185153121498402, 0.24873531464248794, 0.7462059439274639, 0.5847278614469651, 0.23389114457878604, 0.19490928714898836, 0.4832207280894803, 0.31659289081724573, 0.19995340472668152, 0.3846306045269743, 0.3311167812884387, 0.2876367999071286, 0.7282113495865745, 0.24273711652885818, 0.3110659630856878, 0.6221319261713756, 0.7232815076462418, 0.2410938358820806, 0.25910354245882694, 0.25910354245882694, 0.7773106273764809, 0.6526638646052261, 0.1398565424154056, 0.23309423735900933, 0.4321776868059109, 0.3361382008490418, 0.23209542439576697, 0.6004960033584695, 0.22628787989531512, 0.22628787989531512, 0.6788636396859453, 0.26584656852630206, 0.26584656852630206, 0.7975397055789062, 0.5951287358976723, 0.30782233165892753, 0.30782233165892753, 0.6156446633178551, 0.4236916248245884, 0.30813936350879156, 0.2696219430701926, 0.78467887773014, 0.156935775546028, 0.156935775546028, 0.7104647639042191, 0.14209295278084383, 0.14209295278084383, 0.24498780841411216, 0.7349634252423365, 0.17487930313614153, 0.6645413519173378, 0.17487930313614153, 0.7181726936390885, 0.15389414863694753, 0.15389414863694753, 0.8076380271635654, 0.3652823611673449, 0.30082076802016644, 0.3330515645937557, 0.5982059093651322, 0.6319824019971166, 0.8120427567730755, 0.20301068919326887, 0.20301068919326887, 0.8250463740969043, 0.08250463740969043, 0.08250463740969043, 0.7574363366483821, 0.24497770688060258, 0.7349331206418077, 0.3129459185385556, 0.38658025231233334, 0.3037416268168333, 0.24372284012946102, 0.24372284012946102, 0.5686866269687424, 0.3470949165138562, 0.40494406926616555, 0.2506796619266739, 0.3919779771650883, 0.43117577488159714, 0.18618953915341693, 0.6945700343684257, 0.23152334478947525, 0.11576167239473763, 0.11787730046182929, 0.7072638027709758, 0.23575460092365857], \"Term\": [\"       \", \"       \", \"\\\"\", \"\\\"\", \"\\\"\", \"/\", \"/\", \"/\", \"10\", \"10\", \"10\", \"101\", \"101\", \"5\", \"5\", \"5\", \"7\", \"7\", \"7\", \":\", \":\", \":\", \"<\", \"<\", \"<\", \"=\", \"=\", \"=\", \">\", \">\", \">\", \"@\", \"@\", \"@\", \"Big\", \"Big\", \"Cha\", \"Cha\", \"Cha\", \"Hungry\", \"Hungry\", \"Hungry\", \"MK\", \"MK\", \"MK\", \"Original\", \"Original\", \"Spaghetti\", \"Starbucks\", \"Starbucks\", \"Type\", \"bakery\", \"blend\", \"drip\", \"sauce\", \"sauce\", \"sauce\", \"where\", \"with\", \"with\", \"with\", \"\\u0e01\\u0e01\", \"\\u0e01\\u0e01\", \"\\u0e01\\u0e01\", \"\\u0e01\\u0e31\\u0e14\", \"\\u0e01\\u0e32\", \"\\u0e01\\u0e32\", \"\\u0e01\\u0e32\", \"\\u0e01\\u0e32\\u0e41\\u0e1f\", \"\\u0e01\\u0e32\\u0e41\\u0e1f\", \"\\u0e01\\u0e32\\u0e41\\u0e1f\", \"\\u0e01\\u0e33\\u0e25\\u0e31\\u0e07\\u0e14\\u0e35\", \"\\u0e01\\u0e33\\u0e25\\u0e31\\u0e07\\u0e14\\u0e35\", \"\\u0e01\\u0e33\\u0e25\\u0e31\\u0e07\\u0e14\\u0e35\", \"\\u0e01\\u0e34\\u0e19\", \"\\u0e01\\u0e34\\u0e19\", \"\\u0e01\\u0e34\\u0e19\", \"\\u0e01\\u0e49\\u0e38\\u0e07\", \"\\u0e01\\u0e49\\u0e38\\u0e07\", \"\\u0e01\\u0e49\\u0e38\\u0e07\", \"\\u0e02\\u0e49\\u0e32\\u0e07\\u0e19\\u0e2d\\u0e01\", \"\\u0e02\\u0e49\\u0e32\\u0e07\\u0e19\\u0e2d\\u0e01\", \"\\u0e04\\u0e19\", \"\\u0e04\\u0e19\", \"\\u0e04\\u0e19\", \"\\u0e04\\u0e23\\u0e31\\u0e27\\u0e0b\\u0e2d\\u0e07\", \"\\u0e04\\u0e23\\u0e31\\u0e27\\u0e0b\\u0e2d\\u0e07\", \"\\u0e04\\u0e23\\u0e31\\u0e27\\u0e0b\\u0e2d\\u0e07\", \"\\u0e04\\u0e23\\u0e39\", \"\\u0e04\\u0e23\\u0e39\", \"\\u0e04\\u0e23\\u0e39\", \"\\u0e04\\u0e31\\u0e1a\", \"\\u0e04\\u0e31\\u0e1a\", \"\\u0e04\\u0e31\\u0e1a\", \"\\u0e04\\u0e38\\u0e07\", \"\\u0e07\\u0e32\", \"\\u0e07\\u0e32\", \"\\u0e07\\u0e32\", \"\\u0e08\\u0e32\\u0e19\", \"\\u0e08\\u0e32\\u0e19\", \"\\u0e08\\u0e32\\u0e19\", \"\\u0e08\\u0e35\\u0e19\", \"\\u0e08\\u0e35\\u0e19\", \"\\u0e08\\u0e35\\u0e19\", \"\\u0e0a\\u0e2d\\u0e1a\", \"\\u0e0a\\u0e2d\\u0e1a\", \"\\u0e0a\\u0e2d\\u0e1a\", \"\\u0e0a\\u0e32\", \"\\u0e0a\\u0e32\", \"\\u0e0a\\u0e32\", \"\\u0e0a\\u0e34\\u0e21\", \"\\u0e0a\\u0e34\\u0e21\", \"\\u0e0a\\u0e34\\u0e21\", \"\\u0e0a\\u0e35\\u0e25\\u0e32\\u0e27\", \"\\u0e0a\\u0e35\\u0e25\\u0e32\\u0e27\", \"\\u0e0a\\u0e35\\u0e25\\u0e32\\u0e27\", \"\\u0e0b\\u0e2d\\u0e19\", \"\\u0e0b\\u0e2d\\u0e19\", \"\\u0e0b\\u0e2d\\u0e19\", \"\\u0e0b\\u0e2d\\u0e22\", \"\\u0e0b\\u0e2d\\u0e22\", \"\\u0e0b\\u0e2d\\u0e22\", \"\\u0e14\\u0e32\", \"\\u0e14\\u0e32\", \"\\u0e14\\u0e34\\u0e0a\\u0e31\\u0e49\\u0e19\", \"\\u0e14\\u0e34\\u0e0a\\u0e31\\u0e49\\u0e19\", \"\\u0e14\\u0e34\\u0e0a\\u0e31\\u0e49\\u0e19\", \"\\u0e14\\u0e35\", \"\\u0e14\\u0e35\", \"\\u0e14\\u0e35\", \"\\u0e14\\u0e35\\u0e25\", \"\\u0e14\\u0e35\\u0e25\", \"\\u0e14\\u0e35\\u0e25\", \"\\u0e14\\u0e35\\u0e41\\u0e15\\u0e48\", \"\\u0e14\\u0e39\", \"\\u0e14\\u0e39\", \"\\u0e14\\u0e39\", \"\\u0e14\\u0e4a\\u0e30\", \"\\u0e14\\u0e4a\\u0e30\", \"\\u0e15\\u0e2d\\u0e19\\u0e01\\u0e25\\u0e32\\u0e07\\u0e04\\u0e37\\u0e19\", \"\\u0e15\\u0e2d\\u0e19\\u0e01\\u0e25\\u0e32\\u0e07\\u0e04\\u0e37\\u0e19\", \"\\u0e15\\u0e31\\u0e14\\u0e2a\\u0e34\\u0e19\\u0e43\\u0e08\", \"\\u0e15\\u0e35\\u0e48\", \"\\u0e15\\u0e35\\u0e48\", \"\\u0e15\\u0e35\\u0e48\", \"\\u0e17\\u0e32\", \"\\u0e17\\u0e32\", \"\\u0e17\\u0e32\", \"\\u0e17\\u0e32\\u0e19\", \"\\u0e17\\u0e32\\u0e19\", \"\\u0e17\\u0e32\\u0e19\", \"\\u0e17\\u0e35\\u0e48\\u0e17\\u0e33\\u0e07\\u0e32\\u0e19\", \"\\u0e17\\u0e35\\u0e48\\u0e19\\u0e35\\u0e48\", \"\\u0e17\\u0e35\\u0e48\\u0e19\\u0e35\\u0e48\", \"\\u0e17\\u0e35\\u0e48\\u0e19\\u0e35\\u0e48\", \"\\u0e19\\u0e21\", \"\\u0e19\\u0e21\", \"\\u0e19\\u0e21\", \"\\u0e19\\u0e30\\u0e04\\u0e30\", \"\\u0e19\\u0e30\\u0e04\\u0e30\", \"\\u0e19\\u0e30\\u0e04\\u0e30\", \"\\u0e19\\u0e30\\u0e08\\u0e4a\\u0e30\", \"\\u0e19\\u0e31\\u0e14\", \"\\u0e19\\u0e31\\u0e48\\u0e07\", \"\\u0e19\\u0e31\\u0e48\\u0e07\", \"\\u0e19\\u0e31\\u0e48\\u0e07\", \"\\u0e19\\u0e34\\u0e04\", \"\\u0e19\\u0e48\\u0e2d\\u0e07\", \"\\u0e19\\u0e48\\u0e2d\\u0e07\", \"\\u0e19\\u0e48\\u0e2d\\u0e07\", \"\\u0e19\\u0e48\\u0e32\\u0e19\", \"\\u0e19\\u0e49\\u0e33\", \"\\u0e19\\u0e49\\u0e33\", \"\\u0e19\\u0e49\\u0e33\", \"\\u0e19\\u0e49\\u0e33\\u0e1e\\u0e23\\u0e34\\u0e01\", \"\\u0e19\\u0e49\\u0e33\\u0e1e\\u0e23\\u0e34\\u0e01\", \"\\u0e19\\u0e49\\u0e33\\u0e1e\\u0e23\\u0e34\\u0e01\", \"\\u0e1a\\u0e23\\u0e23\\u0e22\\u0e32\\u0e01\\u0e32\\u0e28\", \"\\u0e1a\\u0e23\\u0e23\\u0e22\\u0e32\\u0e01\\u0e32\\u0e28\", \"\\u0e1a\\u0e23\\u0e23\\u0e22\\u0e32\\u0e01\\u0e32\\u0e28\", \"\\u0e1a\\u0e23\\u0e34\\u0e01\\u0e32\\u0e23\", \"\\u0e1a\\u0e23\\u0e34\\u0e01\\u0e32\\u0e23\", \"\\u0e1a\\u0e23\\u0e34\\u0e01\\u0e32\\u0e23\", \"\\u0e1a\\u0e32\\u0e17\", \"\\u0e1a\\u0e32\\u0e17\", \"\\u0e1a\\u0e32\\u0e17\", \"\\u0e1b\\u0e25\\u0e32\", \"\\u0e1b\\u0e25\\u0e32\", \"\\u0e1b\\u0e25\\u0e32\", \"\\u0e1b\\u0e32\\u0e07\", \"\\u0e1b\\u0e32\\u0e07\", \"\\u0e1b\\u0e32\\u0e07\", \"\\u0e1c\\u0e21\", \"\\u0e1c\\u0e21\", \"\\u0e1c\\u0e21\", \"\\u0e1c\\u0e31\\u0e01\\u0e2a\\u0e25\\u0e31\\u0e14\", \"\\u0e1d\\u0e2d\\u0e22\\u0e17\\u0e2d\\u0e07\", \"\\u0e1e\\u0e19\\u0e31\\u0e01\\u0e07\\u0e32\\u0e19\", \"\\u0e1e\\u0e19\\u0e31\\u0e01\\u0e07\\u0e32\\u0e19\", \"\\u0e1e\\u0e19\\u0e31\\u0e01\\u0e07\\u0e32\\u0e19\", \"\\u0e1e\\u0e2d\\u0e43\\u0e0a\\u0e49\\u0e44\\u0e14\\u0e49\", \"\\u0e1e\\u0e2d\\u0e43\\u0e0a\\u0e49\\u0e44\\u0e14\\u0e49\", \"\\u0e1e\\u0e2d\\u0e43\\u0e0a\\u0e49\\u0e44\\u0e14\\u0e49\", \"\\u0e1e\\u0e31\\u0e14\", \"\\u0e1e\\u0e32\\u0e22\", \"\\u0e1e\\u0e32\\u0e22\", \"\\u0e1e\\u0e32\\u0e22\", \"\\u0e1f\", \"\\u0e1f\", \"\\u0e1f\", \"\\u0e1f\\u0e23\\u0e31\\u0e48\\u0e07\", \"\\u0e21\\u0e32\\u0e15\\u0e23\\u0e32\", \"\\u0e21\\u0e32\\u0e15\\u0e23\\u0e32\", \"\\u0e22\\u0e33\", \"\\u0e22\\u0e33\", \"\\u0e22\\u0e33\", \"\\u0e23\\u0e19\\u0e14\", \"\\u0e23\\u0e2a\", \"\\u0e23\\u0e2a\", \"\\u0e23\\u0e2a\", \"\\u0e23\\u0e2a\\u0e0a\\u0e32\\u0e15\\u0e34\", \"\\u0e23\\u0e2a\\u0e0a\\u0e32\\u0e15\\u0e34\", \"\\u0e23\\u0e2a\\u0e0a\\u0e32\\u0e15\\u0e34\", \"\\u0e23\\u0e30\\u0e2b\\u0e27\\u0e48\\u0e32\\u0e07\\u0e17\\u0e32\\u0e07\", \"\\u0e23\\u0e31\\u0e07\\u0e19\\u0e01\", \"\\u0e23\\u0e31\\u0e07\\u0e19\\u0e01\", \"\\u0e23\\u0e31\\u0e07\\u0e19\\u0e01\", \"\\u0e23\\u0e32\\u0e04\\u0e32\", \"\\u0e23\\u0e32\\u0e04\\u0e32\", \"\\u0e23\\u0e32\\u0e04\\u0e32\", \"\\u0e23\\u0e32\\u0e27\\u0e46\", \"\\u0e23\\u0e49\\u0e32\\u0e19\\u0e01\\u0e32\\u0e41\\u0e1f\", \"\\u0e23\\u0e49\\u0e32\\u0e19\\u0e01\\u0e32\\u0e41\\u0e1f\", \"\\u0e23\\u0e49\\u0e32\\u0e19\\u0e01\\u0e32\\u0e41\\u0e1f\", \"\\u0e25\\u0e2d\\u0e07\", \"\\u0e25\\u0e2d\\u0e07\", \"\\u0e25\\u0e2d\\u0e07\", \"\\u0e25\\u0e33\\u0e44\\u0e22\", \"\\u0e25\\u0e34\\u0e49\\u0e19\\u0e08\\u0e35\\u0e48\", \"\\u0e25\\u0e34\\u0e49\\u0e19\\u0e08\\u0e35\\u0e48\", \"\\u0e25\\u0e34\\u0e49\\u0e19\\u0e08\\u0e35\\u0e48\", \"\\u0e27\\u0e31\\u0e19\\u0e2d\\u0e32\\u0e17\\u0e34\\u0e15\\u0e22\\u0e4c\", \"\\u0e27\\u0e34\\u0e08\\u0e32\\u0e23\\u0e13\\u0e4c\", \"\\u0e27\\u0e34\\u0e08\\u0e32\\u0e23\\u0e13\\u0e4c\", \"\\u0e27\\u0e34\\u0e08\\u0e32\\u0e23\\u0e13\\u0e4c\", \"\\u0e27\\u0e38\\u0e48\\u0e19\\u0e27\\u0e32\\u0e22\", \"\\u0e27\\u0e38\\u0e48\\u0e19\\u0e27\\u0e32\\u0e22\", \"\\u0e2a\\u0e16\\u0e32\\u0e19\", \"\\u0e2a\\u0e16\\u0e32\\u0e19\", \"\\u0e2a\\u0e16\\u0e32\\u0e19\", \"\\u0e2a\\u0e16\\u0e32\\u0e19\\u0e35\\u0e23\\u0e16\\u0e44\\u0e1f\", \"\\u0e2a\\u0e21\\u0e23\\u0e32\\u0e04\\u0e32\", \"\\u0e2a\\u0e21\\u0e23\\u0e32\\u0e04\\u0e32\", \"\\u0e2a\\u0e21\\u0e23\\u0e32\\u0e04\\u0e32\", \"\\u0e2a\\u0e31\\u0e48\\u0e07\", \"\\u0e2a\\u0e31\\u0e48\\u0e07\", \"\\u0e2a\\u0e31\\u0e48\\u0e07\", \"\\u0e2a\\u0e32\\u0e02\\u0e32\", \"\\u0e2a\\u0e32\\u0e02\\u0e32\", \"\\u0e2a\\u0e32\\u0e02\\u0e32\", \"\\u0e2a\\u0e32\\u0e22\\u0e1e\\u0e32\\u0e19\", \"\\u0e2a\\u0e32\\u0e22\\u0e1e\\u0e32\\u0e19\", \"\\u0e2a\\u0e32\\u0e22\\u0e1e\\u0e32\\u0e19\", \"\\u0e2a\\u0e32\\u0e2b\\u0e23\\u0e48\\u0e32\\u0e22\", \"\\u0e2a\\u0e32\\u0e2b\\u0e23\\u0e48\\u0e32\\u0e22\", \"\\u0e2a\\u0e32\\u0e2b\\u0e23\\u0e48\\u0e32\\u0e22\", \"\\u0e2a\\u0e49\\u0e21\\u0e15\\u0e33\", \"\\u0e2a\\u0e49\\u0e21\\u0e15\\u0e33\", \"\\u0e2a\\u0e49\\u0e21\\u0e15\\u0e33\", \"\\u0e2b\\u0e21\\u0e27\\u0e14\", \"\\u0e2b\\u0e21\\u0e27\\u0e14\", \"\\u0e2b\\u0e21\\u0e27\\u0e14\", \"\\u0e2b\\u0e21\\u0e35\", \"\\u0e2b\\u0e21\\u0e35\", \"\\u0e2b\\u0e21\\u0e39\", \"\\u0e2b\\u0e21\\u0e39\", \"\\u0e2b\\u0e21\\u0e39\", \"\\u0e2b\\u0e27\\u0e32\\u0e19\", \"\\u0e2b\\u0e27\\u0e32\\u0e19\", \"\\u0e2b\\u0e27\\u0e32\\u0e19\", \"\\u0e2b\\u0e2d\\u0e21\", \"\\u0e2b\\u0e2d\\u0e21\", \"\\u0e2b\\u0e2d\\u0e21\", \"\\u0e2b\\u0e2d\\u0e22\", \"\\u0e2b\\u0e2d\\u0e22\", \"\\u0e2b\\u0e2d\\u0e22\", \"\\u0e2b\\u0e34\\u0e19\", \"\\u0e2b\\u0e34\\u0e19\", \"\\u0e2b\\u0e34\\u0e19\", \"\\u0e2b\\u0e49\\u0e32\\u0e21\", \"\\u0e2b\\u0e49\\u0e32\\u0e21\", \"\\u0e2b\\u0e49\\u0e32\\u0e21\", \"\\u0e2d\\u0e23\\u0e48\\u0e2d\\u0e22\", \"\\u0e2d\\u0e23\\u0e48\\u0e2d\\u0e22\", \"\\u0e2d\\u0e23\\u0e48\\u0e2d\\u0e22\", \"\\u0e2d\\u0e2d\\u0e01\\u0e21\\u0e32\", \"\\u0e2d\\u0e2d\\u0e01\\u0e21\\u0e32\", \"\\u0e2d\\u0e2d\\u0e01\\u0e21\\u0e32\", \"\\u0e2d\\u0e32\\u0e2b\\u0e32\\u0e23\", \"\\u0e2d\\u0e32\\u0e2b\\u0e32\\u0e23\", \"\\u0e2d\\u0e32\\u0e2b\\u0e32\\u0e23\", \"\\u0e2d\\u0e35\\u0e2a\\u0e32\\u0e19\", \"\\u0e2d\\u0e35\\u0e2a\\u0e32\\u0e19\", \"\\u0e2d\\u0e35\\u0e2a\\u0e32\\u0e19\", \"\\u0e2d\\u0e49\\u0e2d\\u0e21\", \"\\u0e2d\\u0e49\\u0e2d\\u0e21\", \"\\u0e2d\\u0e49\\u0e30\", \"\\u0e2e\\u0e2d\\u0e07\", \"\\u0e2e\\u0e2d\\u0e07\", \"\\u0e2e\\u0e2d\\u0e07\", \"\\u0e2e\\u0e35\", \"\\u0e40\", \"\\u0e40\", \"\\u0e40\", \"\\u0e40\\u0e01\\u0e48\\u0e32\\u0e41\\u0e01\\u0e48\", \"\\u0e40\\u0e01\\u0e49\\u0e32\", \"\\u0e40\\u0e01\\u0e49\\u0e32\", \"\\u0e40\\u0e01\\u0e49\\u0e32\", \"\\u0e40\\u0e04\\u0e23\\u0e37\\u0e48\\u0e2d\\u0e07\\u0e14\\u0e37\\u0e48\\u0e21\", \"\\u0e40\\u0e04\\u0e23\\u0e37\\u0e48\\u0e2d\\u0e07\\u0e14\\u0e37\\u0e48\\u0e21\", \"\\u0e40\\u0e04\\u0e23\\u0e37\\u0e48\\u0e2d\\u0e07\\u0e14\\u0e37\\u0e48\\u0e21\", \"\\u0e40\\u0e04\\u0e49\\u0e01\", \"\\u0e40\\u0e04\\u0e49\\u0e01\", \"\\u0e40\\u0e04\\u0e49\\u0e01\", \"\\u0e40\\u0e04\\u0e49\\u0e32\", \"\\u0e40\\u0e04\\u0e49\\u0e32\", \"\\u0e40\\u0e04\\u0e49\\u0e32\", \"\\u0e40\\u0e08\\u0e49\\u0e32\\u0e2b\\u0e19\\u0e49\\u0e32\\u0e17\\u0e35\\u0e48\", \"\\u0e40\\u0e08\\u0e49\\u0e32\\u0e2b\\u0e19\\u0e49\\u0e32\\u0e17\\u0e35\\u0e48\", \"\\u0e40\\u0e08\\u0e49\\u0e32\\u0e2b\\u0e19\\u0e49\\u0e32\\u0e17\\u0e35\\u0e48\", \"\\u0e40\\u0e19\\u0e37\\u0e2d\\u0e07\", \"\\u0e40\\u0e19\\u0e37\\u0e49\\u0e2d\", \"\\u0e40\\u0e19\\u0e37\\u0e49\\u0e2d\", \"\\u0e40\\u0e19\\u0e37\\u0e49\\u0e2d\", \"\\u0e40\\u0e1a\\u0e2d\\u0e23\\u0e4c\\u0e40\\u0e01\\u0e2d\\u0e23\\u0e4c\", \"\\u0e40\\u0e1a\\u0e2d\\u0e23\\u0e4c\\u0e40\\u0e01\\u0e2d\\u0e23\\u0e4c\", \"\\u0e40\\u0e1a\\u0e2d\\u0e23\\u0e4c\\u0e40\\u0e01\\u0e2d\\u0e23\\u0e4c\", \"\\u0e40\\u0e1b\\u0e23\\u0e35\\u0e4a\\u0e22\\u0e27\", \"\\u0e40\\u0e1b\\u0e23\\u0e35\\u0e4a\\u0e22\\u0e27\", \"\\u0e40\\u0e1b\\u0e47\\u0e14\", \"\\u0e40\\u0e1b\\u0e47\\u0e14\", \"\\u0e40\\u0e1b\\u0e47\\u0e14\", \"\\u0e40\\u0e1e\\u0e37\\u0e48\\u0e2d\\u0e19\", \"\\u0e40\\u0e1e\\u0e37\\u0e48\\u0e2d\\u0e19\", \"\\u0e40\\u0e1e\\u0e37\\u0e48\\u0e2d\\u0e19\", \"\\u0e40\\u0e21\\u0e19\\u0e39\", \"\\u0e40\\u0e21\\u0e19\\u0e39\", \"\\u0e40\\u0e21\\u0e19\\u0e39\", \"\\u0e40\\u0e21\\u0e35\\u0e22\", \"\\u0e40\\u0e21\\u0e35\\u0e22\", \"\\u0e40\\u0e21\\u0e37\\u0e48\\u0e2d\\u0e01\\u0e35\\u0e49\", \"\\u0e40\\u0e21\\u0e37\\u0e48\\u0e2d\\u0e01\\u0e35\\u0e49\", \"\\u0e40\\u0e21\\u0e49\\u0e07\", \"\\u0e40\\u0e21\\u0e49\\u0e07\", \"\\u0e40\\u0e21\\u0e4a\\u0e01\", \"\\u0e40\\u0e21\\u0e4a\\u0e01\", \"\\u0e40\\u0e21\\u0e4a\\u0e01\", \"\\u0e40\\u0e25\\u0e30\", \"\\u0e40\\u0e25\\u0e30\", \"\\u0e40\\u0e25\\u0e30\", \"\\u0e40\\u0e25\\u0e37\\u0e2d\\u0e01\", \"\\u0e40\\u0e25\\u0e37\\u0e2d\\u0e01\", \"\\u0e40\\u0e25\\u0e37\\u0e2d\\u0e01\", \"\\u0e40\\u0e25\\u0e48\\u0e32\", \"\\u0e40\\u0e27\\u0e35\\u0e22\\u0e14\\u0e19\\u0e32\\u0e21\", \"\\u0e40\\u0e27\\u0e35\\u0e22\\u0e14\\u0e19\\u0e32\\u0e21\", \"\\u0e40\\u0e27\\u0e35\\u0e22\\u0e14\\u0e19\\u0e32\\u0e21\", \"\\u0e40\\u0e2a\\u0e09\\u0e27\\u0e19\", \"\\u0e40\\u0e2a\\u0e09\\u0e27\\u0e19\", \"\\u0e40\\u0e2a\\u0e09\\u0e27\\u0e19\", \"\\u0e40\\u0e2a\\u0e32\\u0e27\\u0e23\\u0e2a\", \"\\u0e40\\u0e2a\\u0e49\\u0e19\\u0e43\\u0e2b\\u0e0d\\u0e48\", \"\\u0e40\\u0e2a\\u0e49\\u0e19\\u0e43\\u0e2b\\u0e0d\\u0e48\", \"\\u0e40\\u0e2a\\u0e49\\u0e19\\u0e43\\u0e2b\\u0e0d\\u0e48\", \"\\u0e40\\u0e2b\\u0e21\\u0e37\\u0e2d\\u0e19\", \"\\u0e40\\u0e2b\\u0e21\\u0e37\\u0e2d\\u0e19\", \"\\u0e40\\u0e2b\\u0e21\\u0e37\\u0e2d\\u0e19\", \"\\u0e40\\u0e40\\u0e15\\u0e48\", \"\\u0e40\\u0e40\\u0e15\\u0e48\", \"\\u0e40\\u0e40\\u0e15\\u0e48\", \"\\u0e40\\u0e40\\u0e25\\u0e49\\u0e27\", \"\\u0e40\\u0e40\\u0e25\\u0e49\\u0e27\", \"\\u0e40\\u0e40\\u0e25\\u0e49\\u0e27\", \"\\u0e41\\u0e0b\\u0e48\", \"\\u0e41\\u0e0b\\u0e48\", \"\\u0e41\\u0e0b\\u0e48\\u0e1a\", \"\\u0e41\\u0e0b\\u0e48\\u0e1a\", \"\\u0e41\\u0e0b\\u0e48\\u0e1a\", \"\\u0e41\\u0e15\\u0e07\\u0e42\\u0e21\", \"\\u0e41\\u0e15\\u0e07\\u0e42\\u0e21\", \"\\u0e41\\u0e15\\u0e07\\u0e42\\u0e21\", \"\\u0e41\\u0e17\\u0e49 \\u0e46\", \"\\u0e41\\u0e19\\u0e30\\u0e19\\u0e33\", \"\\u0e41\\u0e19\\u0e30\\u0e19\\u0e33\", \"\\u0e41\\u0e19\\u0e30\\u0e19\\u0e33\", \"\\u0e41\\u0e1b\\u0e25\\u0e01\\u0e43\\u0e2b\\u0e21\\u0e48\", \"\\u0e41\\u0e1f\", \"\\u0e41\\u0e21\\u0e04\", \"\\u0e41\\u0e21\\u0e04\", \"\\u0e41\\u0e21\\u0e04\", \"\\u0e41\\u0e21\\u0e27\", \"\\u0e41\\u0e21\\u0e27\", \"\\u0e41\\u0e21\\u0e27\", \"\\u0e41\\u0e2b\\u0e19\\u0e21\", \"\\u0e42\\u0e01\\u0e30\", \"\\u0e42\\u0e01\\u0e30\", \"\\u0e42\\u0e15\\u0e4a\\u0e30\", \"\\u0e42\\u0e15\\u0e4a\\u0e30\", \"\\u0e42\\u0e15\\u0e4a\\u0e30\", \"\\u0e42\\u0e19\\u0e48\", \"\\u0e42\\u0e19\\u0e48\", \"\\u0e42\\u0e19\\u0e48\", \"\\u0e43\\u0e2a\\u0e48\", \"\\u0e43\\u0e2a\\u0e48\", \"\\u0e43\\u0e2a\\u0e48\", \"\\u0e44\\u0e02\\u0e48\\u0e21\\u0e38\\u0e01\", \"\\u0e44\\u0e02\\u0e48\\u0e21\\u0e38\\u0e01\", \"\\u0e44\\u0e02\\u0e48\\u0e21\\u0e38\\u0e01\", \"\\u0e44\\u0e15\\u0e49\\u0e2b\\u0e27\\u0e31\\u0e19\", \"\\u0e44\\u0e15\\u0e49\\u0e2b\\u0e27\\u0e31\\u0e19\", \"\\u0e44\\u0e15\\u0e49\\u0e2b\\u0e27\\u0e31\\u0e19\", \"\\u201c\", \"\\u201c\", \"\\u201c\"]}, \"R\": 30, \"lambda.step\": 0.01, \"plot.opts\": {\"xlab\": \"PC1\", \"ylab\": \"PC2\"}, \"topic.order\": [3, 2, 1]};\n",
              "\n",
              "function LDAvis_load_lib(url, callback){\n",
              "  var s = document.createElement('script');\n",
              "  s.src = url;\n",
              "  s.async = true;\n",
              "  s.onreadystatechange = s.onload = callback;\n",
              "  s.onerror = function(){console.warn(\"failed to load library \" + url);};\n",
              "  document.getElementsByTagName(\"head\")[0].appendChild(s);\n",
              "}\n",
              "\n",
              "if(typeof(LDAvis) !== \"undefined\"){\n",
              "   // already loaded: just create the visualization\n",
              "   !function(LDAvis){\n",
              "       new LDAvis(\"#\" + \"ldavis_el2211396408947152162541568125\", ldavis_el2211396408947152162541568125_data);\n",
              "   }(LDAvis);\n",
              "}else if(typeof define === \"function\" && define.amd){\n",
              "   // require.js is available: use it to load d3/LDAvis\n",
              "   require.config({paths: {d3: \"https://d3js.org/d3.v5\"}});\n",
              "   require([\"d3\"], function(d3){\n",
              "      window.d3 = d3;\n",
              "      LDAvis_load_lib(\"https://cdn.jsdelivr.net/gh/bmabey/pyLDAvis@3.3.1/pyLDAvis/js/ldavis.v3.0.0.js\", function(){\n",
              "        new LDAvis(\"#\" + \"ldavis_el2211396408947152162541568125\", ldavis_el2211396408947152162541568125_data);\n",
              "      });\n",
              "    });\n",
              "}else{\n",
              "    // require.js not available: dynamically load d3 & LDAvis\n",
              "    LDAvis_load_lib(\"https://d3js.org/d3.v5.js\", function(){\n",
              "         LDAvis_load_lib(\"https://cdn.jsdelivr.net/gh/bmabey/pyLDAvis@3.3.1/pyLDAvis/js/ldavis.v3.0.0.js\", function(){\n",
              "                 new LDAvis(\"#\" + \"ldavis_el2211396408947152162541568125\", ldavis_el2211396408947152162541568125_data);\n",
              "            })\n",
              "         });\n",
              "}\n",
              "</script>"
            ],
            "text/plain": [
              "PreparedData(topic_coordinates=              x         y  topics  cluster       Freq\n",
              "topic                                                \n",
              "2      0.019180 -0.010209       1        1  36.251698\n",
              "1     -0.019095 -0.010346       2        1  35.509089\n",
              "0     -0.000085  0.020555       3        1  28.239213, topic_info=            Term        Freq       Total Category  logprob  loglift\n",
              "67            กก   77.000000   77.000000  Default  30.0000  30.0000\n",
              "317            \"   80.000000   80.000000  Default  29.0000  29.0000\n",
              "462           ผม  185.000000  185.000000  Default  28.0000  28.0000\n",
              "2           กาแฟ  306.000000  306.000000  Default  27.0000  27.0000\n",
              "662            :  118.000000  118.000000  Default  26.0000  26.0000\n",
              "..           ...         ...         ...      ...      ...      ...\n",
              "825  เครื่องดื่ม   34.086320  119.209380   Topic3  -5.6679   0.0125\n",
              "146         หวาน   44.192330  200.420729   Topic3  -5.4082  -0.2474\n",
              "35            ชา   49.235760  248.265170   Topic3  -5.3002  -0.3534\n",
              "731         นะคะ   36.246299  150.521504   Topic3  -5.6064  -0.1593\n",
              "170         เค้า   32.701765  131.821005   Topic3  -5.7094  -0.1296\n",
              "\n",
              "[251 rows x 6 columns], token_table=      Topic      Freq     Term\n",
              "term                          \n",
              "3690      1  0.245578         \n",
              "3690      2  0.736733         \n",
              "317       1  0.259774        \"\n",
              "317       2  0.309255        \"\n",
              "317       3  0.420586        \"\n",
              "...     ...       ...      ...\n",
              "915       2  0.231523  ไต้หวัน\n",
              "915       3  0.115762  ไต้หวัน\n",
              "1532      1  0.117877        “\n",
              "1532      2  0.707264        “\n",
              "1532      3  0.235755        “\n",
              "\n",
              "[424 rows x 3 columns], R=30, lambda_step=0.01, plot_opts={'xlab': 'PC1', 'ylab': 'PC2'}, topic_order=[3, 2, 1])"
            ]
          },
          "metadata": {
            "tags": []
          },
          "execution_count": 24
        }
      ]
    },
    {
      "cell_type": "code",
      "metadata": {
        "id": "IbrwtY0CD0Pe"
      },
      "source": [
        "df['topics'] = df['Review_tokenized'].apply(lambda x: model.get_document_topics(dictionary.doc2bow(x.split(',')))[0][0])\n",
        "df['score'] = df['Review_tokenized'].apply(lambda x: model.get_document_topics(dictionary.doc2bow(x.split(',')))[0][1])"
      ],
      "execution_count": 25,
      "outputs": []
    },
    {
      "cell_type": "code",
      "metadata": {
        "colab": {
          "base_uri": "https://localhost:8080/",
          "height": 391
        },
        "id": "Z5-Xip7bD2nP",
        "outputId": "e35f6205-c1ab-4e09-faef-d8490f4bbb27"
      },
      "source": [
        "df"
      ],
      "execution_count": 26,
      "outputs": [
        {
          "output_type": "execute_result",
          "data": {
            "text/html": [
              "<div>\n",
              "<style scoped>\n",
              "    .dataframe tbody tr th:only-of-type {\n",
              "        vertical-align: middle;\n",
              "    }\n",
              "\n",
              "    .dataframe tbody tr th {\n",
              "        vertical-align: top;\n",
              "    }\n",
              "\n",
              "    .dataframe thead th {\n",
              "        text-align: right;\n",
              "    }\n",
              "</style>\n",
              "<table border=\"1\" class=\"dataframe\">\n",
              "  <thead>\n",
              "    <tr style=\"text-align: right;\">\n",
              "      <th></th>\n",
              "      <th>Review ID</th>\n",
              "      <th>Review</th>\n",
              "      <th>Review_tokenized</th>\n",
              "      <th>topics</th>\n",
              "      <th>score</th>\n",
              "    </tr>\n",
              "  </thead>\n",
              "  <tbody>\n",
              "    <tr>\n",
              "      <th>0</th>\n",
              "      <td>1</td>\n",
              "      <td>เป็นคนที่ชอบทาน Macchiato เป็นประจำ มีวันนึงเด...</td>\n",
              "      <td>คน,ชอบ,ทาน,Macchiato,เป็นประจำ,นึง,เดิน,เข้าไป...</td>\n",
              "      <td>2</td>\n",
              "      <td>0.998018</td>\n",
              "    </tr>\n",
              "    <tr>\n",
              "      <th>1</th>\n",
              "      <td>2</td>\n",
              "      <td>Art of Coffee Kasetsart เป็นร้านกาแฟรสชาติเยี่...</td>\n",
              "      <td>Art,of,Coffee,Kasetsart,ร้านกาแฟ,รสชาติ,เยี่ยม...</td>\n",
              "      <td>2</td>\n",
              "      <td>0.998463</td>\n",
              "    </tr>\n",
              "    <tr>\n",
              "      <th>2</th>\n",
              "      <td>3</td>\n",
              "      <td>กวงทะเลเผา อาหารทะเลเค้าสดจริงๆเนื้อปูหวานไม่ค...</td>\n",
              "      <td>กวง,ทะเล,เผา,อาหารทะเล,เค้า,สด,เนื้อ,ปู,หวาน,ค...</td>\n",
              "      <td>2</td>\n",
              "      <td>0.999749</td>\n",
              "    </tr>\n",
              "    <tr>\n",
              "      <th>3</th>\n",
              "      <td>4</td>\n",
              "      <td>วันนี้มีโอกาสตื่นเช้าครับเลยถึงโอกาสออกมาหาอะไ...</td>\n",
              "      <td>มีโอกาส,ตื่น,เช้า,โอกาส,มาหา,อร่อย,ทาน,ตอนเช้า...</td>\n",
              "      <td>1</td>\n",
              "      <td>0.999085</td>\n",
              "    </tr>\n",
              "    <tr>\n",
              "      <th>4</th>\n",
              "      <td>5</td>\n",
              "      <td>ชอบมาทานร้านนี้ถ้าอยากกินอาหารเวียดนามใกล้บ้าน...</td>\n",
              "      <td>ชอบ,ทาน,กิน,อาหาร,เวียดนาม,บ้าน,ซอย,ราชครู,เข้...</td>\n",
              "      <td>0</td>\n",
              "      <td>0.998906</td>\n",
              "    </tr>\n",
              "    <tr>\n",
              "      <th>...</th>\n",
              "      <td>...</td>\n",
              "      <td>...</td>\n",
              "      <td>...</td>\n",
              "      <td>...</td>\n",
              "      <td>...</td>\n",
              "    </tr>\n",
              "    <tr>\n",
              "      <th>295</th>\n",
              "      <td>296</td>\n",
              "      <td>ค่ำนี้คุณเพื่อนอยากส้มตำ หมูเฮาเลยพากันลงมากิน...</td>\n",
              "      <td>ค่ำ,เพื่อน,ส้มตำ,หมู,เฮา,ลงมา,กิน,ส้มตำ,ออฟฟิศ...</td>\n",
              "      <td>2</td>\n",
              "      <td>0.999671</td>\n",
              "    </tr>\n",
              "    <tr>\n",
              "      <th>296</th>\n",
              "      <td>297</td>\n",
              "      <td>ร้านสะอาดดี ตกแต่งสวยงาม มีที่จอดรถ ราคาเมนูต่...</td>\n",
              "      <td>สะอาด,ดี,ตกแต่ง,สวยงาม,ที่จอดรถ,ราคา,เมนู,เทีย...</td>\n",
              "      <td>2</td>\n",
              "      <td>0.999133</td>\n",
              "    </tr>\n",
              "    <tr>\n",
              "      <th>297</th>\n",
              "      <td>298</td>\n",
              "      <td>เช้าๆ รีบๆ วิ่งมาเข่าห้องเรียนแทบไม่ทันแต่ต้อง...</td>\n",
              "      <td>เช้า,รีบ,วิ่ง,เข่า,ห้องเรียน,แทบ,ต้องหา,ของกิน...</td>\n",
              "      <td>2</td>\n",
              "      <td>0.998839</td>\n",
              "    </tr>\n",
              "    <tr>\n",
              "      <th>298</th>\n",
              "      <td>299</td>\n",
              "      <td>ร้านนี้เป็นร้านกาแฟเล็กๆ ข้างๆ ร้านๆ Happy Man...</td>\n",
              "      <td>ร้านกาแฟ,Happy,Mango,อาทิตย์,นัด,เพื่อน,นั่ง,ค...</td>\n",
              "      <td>0</td>\n",
              "      <td>0.999546</td>\n",
              "    </tr>\n",
              "    <tr>\n",
              "      <th>299</th>\n",
              "      <td>300</td>\n",
              "      <td>ทรูคอฟฟี่สาขาซีคอนอยู่ในศูนย์บริการของทรู ชั้น...</td>\n",
              "      <td>ทรู,คอ,ฟ,ฟี่,สาขา,ซีคอน,ศูนย์,บริการ,ทรู,ชั้น,...</td>\n",
              "      <td>2</td>\n",
              "      <td>0.999430</td>\n",
              "    </tr>\n",
              "  </tbody>\n",
              "</table>\n",
              "<p>300 rows × 5 columns</p>\n",
              "</div>"
            ],
            "text/plain": [
              "     Review ID  ...     score\n",
              "0            1  ...  0.998018\n",
              "1            2  ...  0.998463\n",
              "2            3  ...  0.999749\n",
              "3            4  ...  0.999085\n",
              "4            5  ...  0.998906\n",
              "..         ...  ...       ...\n",
              "295        296  ...  0.999671\n",
              "296        297  ...  0.999133\n",
              "297        298  ...  0.998839\n",
              "298        299  ...  0.999546\n",
              "299        300  ...  0.999430\n",
              "\n",
              "[300 rows x 5 columns]"
            ]
          },
          "metadata": {
            "tags": []
          },
          "execution_count": 26
        }
      ]
    },
    {
      "cell_type": "code",
      "metadata": {
        "id": "ON4OZsJGYbeV"
      },
      "source": [
        "def get_lda_topics(model, num_topics):\n",
        "    word_dict = {};\n",
        "    for i in range(num_topics):\n",
        "        words = model.show_topic(i, topn = 20);\n",
        "        word_dict['Topic # ' + '{:02d}'.format(i+1)] = [i[0] for i in words];\n",
        "    return pd.DataFrame(word_dict);"
      ],
      "execution_count": 38,
      "outputs": []
    },
    {
      "cell_type": "code",
      "metadata": {
        "colab": {
          "base_uri": "https://localhost:8080/",
          "height": 622
        },
        "id": "mg1rV7cmYpyL",
        "outputId": "129162f4-d121-4352-c42c-4312e9601c30"
      },
      "source": [
        "get_lda_topics(model, num_topics)"
      ],
      "execution_count": 39,
      "outputs": [
        {
          "output_type": "execute_result",
          "data": {
            "text/html": [
              "<div>\n",
              "<style scoped>\n",
              "    .dataframe tbody tr th:only-of-type {\n",
              "        vertical-align: middle;\n",
              "    }\n",
              "\n",
              "    .dataframe tbody tr th {\n",
              "        vertical-align: top;\n",
              "    }\n",
              "\n",
              "    .dataframe thead th {\n",
              "        text-align: right;\n",
              "    }\n",
              "</style>\n",
              "<table border=\"1\" class=\"dataframe\">\n",
              "  <thead>\n",
              "    <tr style=\"text-align: right;\">\n",
              "      <th></th>\n",
              "      <th>Topic # 01</th>\n",
              "      <th>Topic # 02</th>\n",
              "      <th>Topic # 03</th>\n",
              "    </tr>\n",
              "  </thead>\n",
              "  <tbody>\n",
              "    <tr>\n",
              "      <th>0</th>\n",
              "      <td>อร่อย</td>\n",
              "      <td>อร่อย</td>\n",
              "      <td>อร่อย</td>\n",
              "    </tr>\n",
              "    <tr>\n",
              "      <th>1</th>\n",
              "      <td>ทาน</td>\n",
              "      <td>ทาน</td>\n",
              "      <td>รสชาติ</td>\n",
              "    </tr>\n",
              "    <tr>\n",
              "      <th>2</th>\n",
              "      <td>กาแฟ</td>\n",
              "      <td>รสชาติ</td>\n",
              "      <td>ดี</td>\n",
              "    </tr>\n",
              "    <tr>\n",
              "      <th>3</th>\n",
              "      <td>รสชาติ</td>\n",
              "      <td>ดี</td>\n",
              "      <td>ทาน</td>\n",
              "    </tr>\n",
              "    <tr>\n",
              "      <th>4</th>\n",
              "      <td>ดี</td>\n",
              "      <td>กิน</td>\n",
              "      <td>กิน</td>\n",
              "    </tr>\n",
              "    <tr>\n",
              "      <th>5</th>\n",
              "      <td>กิน</td>\n",
              "      <td>กาแฟ</td>\n",
              "      <td>สั่ง</td>\n",
              "    </tr>\n",
              "    <tr>\n",
              "      <th>6</th>\n",
              "      <td>เมนู</td>\n",
              "      <td>ราคา</td>\n",
              "      <td>เมนู</td>\n",
              "    </tr>\n",
              "    <tr>\n",
              "      <th>7</th>\n",
              "      <td>สั่ง</td>\n",
              "      <td>เมนู</td>\n",
              "      <td>ชา</td>\n",
              "    </tr>\n",
              "    <tr>\n",
              "      <th>8</th>\n",
              "      <td>อาหาร</td>\n",
              "      <td>อาหาร</td>\n",
              "      <td>อาหาร</td>\n",
              "    </tr>\n",
              "    <tr>\n",
              "      <th>9</th>\n",
              "      <td>ราคา</td>\n",
              "      <td>ชา</td>\n",
              "      <td>กาแฟ</td>\n",
              "    </tr>\n",
              "    <tr>\n",
              "      <th>10</th>\n",
              "      <td>ผม</td>\n",
              "      <td>สั่ง</td>\n",
              "      <td>ราคา</td>\n",
              "    </tr>\n",
              "    <tr>\n",
              "      <th>11</th>\n",
              "      <td>ชอบ</td>\n",
              "      <td>หวาน</td>\n",
              "      <td>บาท</td>\n",
              "    </tr>\n",
              "    <tr>\n",
              "      <th>12</th>\n",
              "      <td>คน</td>\n",
              "      <td>ชอบ</td>\n",
              "      <td>คน</td>\n",
              "    </tr>\n",
              "    <tr>\n",
              "      <th>13</th>\n",
              "      <td>บาท</td>\n",
              "      <td>บาท</td>\n",
              "      <td>ชอบ</td>\n",
              "    </tr>\n",
              "    <tr>\n",
              "      <th>14</th>\n",
              "      <td>นั่ง</td>\n",
              "      <td>คน</td>\n",
              "      <td>นั่ง</td>\n",
              "    </tr>\n",
              "    <tr>\n",
              "      <th>15</th>\n",
              "      <td>ลอง</td>\n",
              "      <td>จาน</td>\n",
              "      <td>จาน</td>\n",
              "    </tr>\n",
              "    <tr>\n",
              "      <th>16</th>\n",
              "      <td>จาน</td>\n",
              "      <td>นั่ง</td>\n",
              "      <td>หวาน</td>\n",
              "    </tr>\n",
              "    <tr>\n",
              "      <th>17</th>\n",
              "      <td>ชา</td>\n",
              "      <td>:</td>\n",
              "      <td>ผม</td>\n",
              "    </tr>\n",
              "    <tr>\n",
              "      <th>18</th>\n",
              "      <td>ดู</td>\n",
              "      <td>นม</td>\n",
              "      <td>ลอง</td>\n",
              "    </tr>\n",
              "    <tr>\n",
              "      <th>19</th>\n",
              "      <td>เนื้อ</td>\n",
              "      <td>ลอง</td>\n",
              "      <td>นะคะ</td>\n",
              "    </tr>\n",
              "  </tbody>\n",
              "</table>\n",
              "</div>"
            ],
            "text/plain": [
              "   Topic # 01 Topic # 02 Topic # 03\n",
              "0       อร่อย      อร่อย      อร่อย\n",
              "1         ทาน        ทาน     รสชาติ\n",
              "2        กาแฟ     รสชาติ         ดี\n",
              "3      รสชาติ         ดี        ทาน\n",
              "4          ดี        กิน        กิน\n",
              "5         กิน       กาแฟ       สั่ง\n",
              "6        เมนู       ราคา       เมนู\n",
              "7        สั่ง       เมนู         ชา\n",
              "8       อาหาร      อาหาร      อาหาร\n",
              "9        ราคา         ชา       กาแฟ\n",
              "10         ผม       สั่ง       ราคา\n",
              "11        ชอบ       หวาน        บาท\n",
              "12         คน        ชอบ         คน\n",
              "13        บาท        บาท        ชอบ\n",
              "14       นั่ง         คน       นั่ง\n",
              "15        ลอง        จาน        จาน\n",
              "16        จาน       นั่ง       หวาน\n",
              "17         ชา          :         ผม\n",
              "18         ดู         นม        ลอง\n",
              "19      เนื้อ        ลอง       นะคะ"
            ]
          },
          "metadata": {
            "tags": []
          },
          "execution_count": 39
        }
      ]
    },
    {
      "cell_type": "code",
      "metadata": {
        "id": "TK-fulWtWkn6"
      },
      "source": [
        "df.to_excel(r'Topic_Modeling.xlsx', index = False)"
      ],
      "execution_count": 28,
      "outputs": []
    }
  ]
}